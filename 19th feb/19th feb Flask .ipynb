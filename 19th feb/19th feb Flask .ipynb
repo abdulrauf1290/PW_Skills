{
 "cells": [
  {
   "cell_type": "raw",
   "id": "ec2f1fa9",
   "metadata": {},
   "source": [
    "Q1.What is Flask Framework? What are the advantages of Flask Framework?"
   ]
  },
  {
   "cell_type": "raw",
   "id": "0b1d5a90",
   "metadata": {},
   "source": [
    "Flask is a popular micro web framework for Python, designed to be simple, lightweight, and easy to use. It provides tools and libraries for building web applications and APIs in a concise and modular manner"
   ]
  },
  {
   "cell_type": "raw",
   "id": "d27bba61",
   "metadata": {},
   "source": [
    "Here are some of the advantages of using Flask\n",
    "\n",
    "1) Lightweight and Minimalistic: Flask is known for its simplicity and minimalistic design. It doesn't impose any particular project structure or dependencies, allowing developers to have greater flexibility in organizing their code and choosing the components they need.\n",
    "\n",
    "2) Easy to Get Started: Flask has a gentle learning curve, making it an excellent choice for beginners. The framework provides a straightforward API that is intuitive to understand and work with. It encourages writing clean and readable code.\n",
    "\n",
    "3) Flexibility: Flask gives developers the freedom to make decisions about the project structure, database, template engine, and other components. It doesn't enforce any specific choices, allowing developers to use the tools and libraries they prefer.\n",
    "\n",
    "4) Extensibility: Flask is highly extensible and allows developers to add functionality through its extensive ecosystem of extensions. These extensions provide additional features such as authentication, database integration, form validation, and more, making it easy to enhance the capabilities of your application."
   ]
  },
  {
   "cell_type": "raw",
   "id": "2df4216a",
   "metadata": {},
   "source": [
    "Q2. Create a simple Flask application to display ‘Hello World!!’. Attach the screenshot of the output in\n",
    "Jupyter Notebook.\n"
   ]
  },
  {
   "cell_type": "code",
   "execution_count": null,
   "id": "33521af2",
   "metadata": {},
   "outputs": [],
   "source": [
    "from flask import Flask\n",
    "from flask import request\n",
    "app = Flask(__name__)\n",
    "\n",
    "@app.route(\"/\")\n",
    "def hello_world():\n",
    "    return \"Hello, World!\"\n",
    "\n",
    "if __name__==\"__main__\":\n",
    "    app.run(host=\"0.0.0.0\")"
   ]
  },
  {
   "cell_type": "code",
   "execution_count": null,
   "id": "04d35ed6",
   "metadata": {},
   "outputs": [],
   "source": [
    "![download.jpg](attachment:c8c4cb6a-e331-4207-8e1c-5ae2933c90bb.jpg)"
   ]
  },
  {
   "cell_type": "raw",
   "id": "6b351930",
   "metadata": {},
   "source": [
    "Q3. What is App routing in Flask? Why do we use app routes?"
   ]
  },
  {
   "cell_type": "raw",
   "id": "df30b897",
   "metadata": {},
   "source": [
    "In Flask, app routing refers to the process of mapping URLs (routes) to specific functions or views within your application. It allows you to define different URLs and the corresponding actions or responses that should be executed when those URLs are accessed.\n",
    "The app routing mechanism in Flask is achieved through the use of the @app.route decorator. By decorating a function with @app.route, you specify the URL pattern that should trigger the execution of that function."
   ]
  },
  {
   "cell_type": "raw",
   "id": "87f44a02",
   "metadata": {},
   "source": [
    "Q4. Create a “/welcome” route to display the welcome message “Welcome to ABC Corporation” and a “/”\n",
    "route to show the following details:\n",
    "Company Name: ABC Corporation\n",
    "Location: India\n",
    "Contact Detail: 999-999-9999"
   ]
  },
  {
   "cell_type": "code",
   "execution_count": null,
   "id": "a2926d2c",
   "metadata": {},
   "outputs": [],
   "source": [
    "![download.jpg](attachment:9c297bc8-68b2-4cde-8e2e-6b5e0dc142ac.jpg)"
   ]
  },
  {
   "cell_type": "code",
   "execution_count": null,
   "id": "090aaea4",
   "metadata": {},
   "outputs": [],
   "source": [
    "![download.jpg](attachment:fecb0df7-2a7b-4553-a10e-ceca90c9d2c9.jpg)"
   ]
  },
  {
   "cell_type": "raw",
   "id": "861becda",
   "metadata": {},
   "source": [
    "Q5. What function is used in Flask for URL Building? Write a Python code to demonstrate the working of the\n",
    "url_for() function."
   ]
  },
  {
   "cell_type": "raw",
   "id": "12f4845b",
   "metadata": {},
   "source": [
    "---> In Flask, the url_for() function is used for URL building. It generates a URL for a given view function based on its name and any arguments provided.\n",
    "\n",
    "Heres an example Python code snippet to demonstrate the working of the url_for() function in Flask:\n",
    "from flask import Flask, url_for\n",
    "\n",
    "app = Flask(__name__)\n",
    "\n",
    "@app.route('/')\n",
    "def index():\n",
    "    return 'Hello, World!'\n",
    "\n",
    "@app.route('/user/<username>')\n",
    "def user_profile(username):\n",
    "    return f'Hello, {username}!'\n",
    "\n",
    "@app.route('/post/<int:post_id>')\n",
    "def show_post(post_id):\n",
    "    return f'Post ID: {post_id}'\n",
    "\n",
    "if __name__ == '__main__':\n",
    "    with app.test_request_context():\n",
    "        # Generate URLs using url_for()\n",
    "        index_url = url_for('index')\n",
    "        profile_url = url_for('user_profile', username='john')\n",
    "        post_url = url_for('show_post', post_id=123)\n",
    "\n",
    "        # Print the generated URLs\n",
    "        print(f'URL for index(): {index_url}')\n",
    "        print(f'URL for user_profile(): {profile_url}')\n",
    "        print(f'URL for show_post(): {post_url}')\n"
   ]
  },
  {
   "cell_type": "code",
   "execution_count": null,
   "id": "629bff40",
   "metadata": {},
   "outputs": [],
   "source": []
  }
 ],
 "metadata": {
  "kernelspec": {
   "display_name": "Python 3 (ipykernel)",
   "language": "python",
   "name": "python3"
  },
  "language_info": {
   "codemirror_mode": {
    "name": "ipython",
    "version": 3
   },
   "file_extension": ".py",
   "mimetype": "text/x-python",
   "name": "python",
   "nbconvert_exporter": "python",
   "pygments_lexer": "ipython3",
   "version": "3.9.13"
  }
 },
 "nbformat": 4,
 "nbformat_minor": 5
}
