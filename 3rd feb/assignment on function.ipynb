{
 "cells": [
  {
   "cell_type": "markdown",
   "id": "eb7cbac1",
   "metadata": {},
   "source": [
    "## Python Assingment on Function"
   ]
  },
  {
   "cell_type": "raw",
   "id": "73022ca0",
   "metadata": {},
   "source": [
    "Q1. Which keyword is used to create a function? Create a function to return a list of odd numbers in the\n",
    "range of 1 to 25."
   ]
  },
  {
   "cell_type": "code",
   "execution_count": 1,
   "id": "365e42f1",
   "metadata": {},
   "outputs": [],
   "source": [
    "''' function that returns a list of odd numbers in the range of 1 to 25'''\n",
    "def get_odd_number():\n",
    "    odd_numbers = []\n",
    "    for num in range(1,26):\n",
    "        if num % 2 != 0:\n",
    "            odd_numbers.append(num)\n",
    "    return odd_numbers"
   ]
  },
  {
   "cell_type": "code",
   "execution_count": 2,
   "id": "495df5b2",
   "metadata": {},
   "outputs": [
    {
     "data": {
      "text/plain": [
       "[1, 3, 5, 7, 9, 11, 13, 15, 17, 19, 21, 23, 25]"
      ]
     },
     "execution_count": 2,
     "metadata": {},
     "output_type": "execute_result"
    }
   ],
   "source": [
    "get_odd_number()"
   ]
  },
  {
   "cell_type": "raw",
   "id": "655d9a7d",
   "metadata": {},
   "source": [
    "Q2. Why *args and **kwargs is used in some functions? Create a function each for *args and **kwargs\n",
    "to demonstrate their use."
   ]
  },
  {
   "cell_type": "raw",
   "id": "94dbf3ef",
   "metadata": {},
   "source": [
    "---> * args and **kwags are used in functions to allow them to acept an arbitrary number of arguments or keyword arguments respectively\n",
    "     *args is used to pass a variable number of arguments to a function.it allows us to pass any number of positional arguments to a function.The arguments are passed as a tuple."
   ]
  },
  {
   "cell_type": "code",
   "execution_count": 3,
   "id": "55eb1853",
   "metadata": {},
   "outputs": [],
   "source": [
    "'''an example of function that used *args to return a list of odd numbers within a given range'''\n",
    "def odd_numbers(*args):\n",
    "    start, end = args\n",
    "    return [num for num in range(start,end+1) if num % 2 != 0]"
   ]
  },
  {
   "cell_type": "code",
   "execution_count": 4,
   "id": "584018fa",
   "metadata": {},
   "outputs": [
    {
     "data": {
      "text/plain": [
       "[1, 3, 5, 7, 9, 11, 13, 15, 17, 19, 21, 23, 25, 27, 29]"
      ]
     },
     "execution_count": 4,
     "metadata": {},
     "output_type": "execute_result"
    }
   ],
   "source": [
    "odd_numbers(1,30)"
   ]
  },
  {
   "cell_type": "raw",
   "id": "29070ae7",
   "metadata": {},
   "source": [
    "-----> **kwargs is used to pass a variable number of keyword arguments to a function. it allows us to pass any number of named arguments to a function.The arguments are passed as a        dictionary"
   ]
  },
  {
   "cell_type": "code",
   "execution_count": 5,
   "id": "d1fe54c8",
   "metadata": {},
   "outputs": [],
   "source": [
    "''' function that uses **kwargs to print the key value pairs of a dictionary'''\n",
    "def print_dict(**kwargs):\n",
    "    for key,value in kwargs.items():\n",
    "        print(f\"{key}:{value}\")"
   ]
  },
  {
   "cell_type": "code",
   "execution_count": 6,
   "id": "bb6aef13",
   "metadata": {},
   "outputs": [
    {
     "name": "stdout",
     "output_type": "stream",
     "text": [
      "name:Abdul\n",
      "age:21\n",
      "city:Jharkhand\n"
     ]
    }
   ],
   "source": [
    "print_dict(name='Abdul', age=21, city='Jharkhand')"
   ]
  },
  {
   "cell_type": "raw",
   "id": "61ac1933",
   "metadata": {},
   "source": [
    "Q3. What is an iterator in python? Name the method used to initialise the iterator object and the method\n",
    "used for iteration. Use these methods to print the first five elements of the given list [2, 4, 6, 8, 10, 12, 14,\n",
    "16, 18, 20].\n"
   ]
  },
  {
   "cell_type": "raw",
   "id": "bd5b72fa",
   "metadata": {},
   "source": [
    "---> An iterator is an object that can be iterated(looped) upon.it is used to represent a stream of data. An iterator object in python can be crated by implementing the --iter--() and --next--() methods in a class"
   ]
  },
  {
   "cell_type": "code",
   "execution_count": 1,
   "id": "f76d7f32",
   "metadata": {},
   "outputs": [
    {
     "name": "stdout",
     "output_type": "stream",
     "text": [
      "2\n",
      "4\n",
      "6\n",
      "8\n",
      "10\n"
     ]
    }
   ],
   "source": [
    "''' To print the first five elements of the given list[2,4,6,8,10,12,14,16,18,20] we can create an iterator object using the iter() function and then use the next() function to iterate over the first five elements'''\n",
    "l = [2,4,6,8,10,12,14,16,18,20]\n",
    "\n",
    "iterator_obj= iter(l)\n",
    "for i in range(5):\n",
    "    print(next(iterator_obj))"
   ]
  },
  {
   "cell_type": "raw",
   "id": "16a514cc",
   "metadata": {},
   "source": [
    "Q4. Write a python program using reduce function to compute the product of a list containing numbers\n",
    "from 1 to 25."
   ]
  },
  {
   "cell_type": "code",
   "execution_count": 2,
   "id": "310adf8a",
   "metadata": {},
   "outputs": [
    {
     "name": "stdout",
     "output_type": "stream",
     "text": [
      "Product of numbers from 1 to 25: 15511210043330985984000000\n"
     ]
    }
   ],
   "source": [
    "from functools import reduce\n",
    "numbers= list(range(1,26))\n",
    "multiply = lambda x,y:x*y\n",
    "Product = reduce(multiply,numbers)\n",
    "print(\"Product of numbers from 1 to 25:\",Product)"
   ]
  },
  {
   "cell_type": "raw",
   "id": "3d4aed39",
   "metadata": {},
   "source": [
    "Q5. Write a python program to filter the numbers in a given list that are divisible by 2 and 3 using the\n",
    "filter function.\n",
    "[2, 3, 6, 9, 27, 60, 90, 120, 55, 46]"
   ]
  },
  {
   "cell_type": "code",
   "execution_count": 3,
   "id": "3e6d9703",
   "metadata": {},
   "outputs": [
    {
     "name": "stdout",
     "output_type": "stream",
     "text": [
      "[6, 60, 90, 120]\n"
     ]
    }
   ],
   "source": [
    "my_list = [2,3,6,9,27,60,90,120,55,46]\n",
    "filtered_lst = list(filter(lambda x: (x % 2 == 0) and (x % 3 == 0),my_list))\n",
    "print(filtered_lst)"
   ]
  },
  {
   "cell_type": "raw",
   "id": "cd1e5a42",
   "metadata": {},
   "source": [
    "Q6. Write a python program to find palindromes in the given list of strings using lambda and filter\n",
    "function.\n",
    "['python', 'php', 'aba', 'radar', 'level']"
   ]
  },
  {
   "cell_type": "code",
   "execution_count": 9,
   "id": "2e0d8e28",
   "metadata": {},
   "outputs": [
    {
     "name": "stdout",
     "output_type": "stream",
     "text": [
      "['php', 'aba', 'radar', 'level']\n"
     ]
    }
   ],
   "source": [
    "strings = ['python', 'php', 'aba', 'radar', 'level']\n",
    "\n",
    "palindromes = list(filter(lambda string: string == string[::-1], strings))\n",
    "\n",
    "print(palindromes)\n"
   ]
  },
  {
   "cell_type": "raw",
   "id": "879fc209",
   "metadata": {},
   "source": []
  },
  {
   "cell_type": "code",
   "execution_count": null,
   "id": "74fce433",
   "metadata": {},
   "outputs": [],
   "source": []
  }
 ],
 "metadata": {
  "kernelspec": {
   "display_name": "Python 3 (ipykernel)",
   "language": "python",
   "name": "python3"
  },
  "language_info": {
   "codemirror_mode": {
    "name": "ipython",
    "version": 3
   },
   "file_extension": ".py",
   "mimetype": "text/x-python",
   "name": "python",
   "nbconvert_exporter": "python",
   "pygments_lexer": "ipython3",
   "version": "3.9.13"
  }
 },
 "nbformat": 4,
 "nbformat_minor": 5
}
