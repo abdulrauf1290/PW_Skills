{
 "cells": [
  {
   "cell_type": "markdown",
   "id": "19add03d-7720-40e9-ae85-dae27db39d31",
   "metadata": {},
   "source": [
    "Q1 What are the three measures of central tendency?"
   ]
  },
  {
   "cell_type": "markdown",
   "id": "85eb9a2b-c08b-4f20-bd11-96abe398d455",
   "metadata": {},
   "source": [
    "Mean: The mean is the most commonly used measure of central tendency. It is calculated by summing up all the values in a data set and dividing the sum by the total number of values. The mean represents the average value of the data set and is sensitive to extreme values.\n",
    "\n",
    "Median: The median is the middle value in a data set when the values are arranged in ascending or descending order. If there is an odd number of values, the median is the middle value. If there is an even number of values, the median is the average of the two middle values. The median is not affected by extreme values and is often used when there are outliers present in the data.\n",
    "\n",
    "Mode: The mode is the value or values that occur most frequently in a data set. In other words, it represents the peak(s) or the most common value(s) in the data set. A data set can have no mode (when no value is repeated), a single mode (when one value occurs most frequently), or multiple modes (when more than one value occurs with the same highest frequency). The mode is useful for categorical or discrete data, but it can also be used with numerical data.\n",
    "\n"
   ]
  },
  {
   "cell_type": "markdown",
   "id": "837b4ca2-968b-4181-b7e1-b65857a0e751",
   "metadata": {},
   "source": [
    "Q2. What is the difference between the mean, median, and mode? How are they used to measure the\n",
    "central tendency of a dataset?"
   ]
  },
  {
   "cell_type": "markdown",
   "id": "52453285-2afb-4e5a-b302-baaffe67b74b",
   "metadata": {},
   "source": [
    "The mean, median, and mode are different measures of central tendency used to describe the typical or central value of a dataset. Here's an explanation of their differences and how they are used:\n",
    "\n",
    "Mean: The mean is calculated by summing up all the values in a dataset and dividing the sum by the total number of values. It represents the average value of the dataset. The mean is commonly used and provides a balance between all the values in the dataset. However, it is sensitive to extreme values, also known as outliers. Even a single outlier can significantly affect the mean, pulling it towards the extreme value. The mean is useful when the data is normally distributed or symmetrically distributed around a central value.\n",
    "\n",
    "Median: The median is the middle value in a dataset when the values are arranged in ascending or descending order. It is not affected by extreme values or outliers since it is only concerned with the position of the values. The median is useful when the data contains outliers or when the distribution is skewed. Skewness refers to the asymmetry of the dataset, where the tail of the distribution is elongated in one direction. The median provides a more robust measure of central tendency in such cases.\n",
    "\n",
    "Mode: The mode is the value or values that occur most frequently in a dataset. It represents the peak(s) or the most common value(s) in the dataset. Unlike the mean and median, the mode can be used with categorical or discrete data, as well as with numerical data. The mode is useful for identifying the most frequent category or value in a dataset. It is particularly helpful when dealing with qualitative or nominal data, such as colors, types of cars, or survey responses."
   ]
  },
  {
   "cell_type": "markdown",
   "id": "81d48418-f6b8-4199-83f5-f1208ba8914a",
   "metadata": {},
   "source": [
    "Q3. Measure the three measures of central tendency for the given height data:\n",
    "[178,177,176,177,178.2,178,175,179,180,175,178.9,176.2,177,172.5,178,176.5]"
   ]
  },
  {
   "cell_type": "code",
   "execution_count": 1,
   "id": "805fbf4a-24a9-4eb8-b6f0-1ed81cca5f7f",
   "metadata": {},
   "outputs": [],
   "source": [
    "import numpy as np\n",
    "from scipy import stats\n",
    "height_data = [[178,177,176,177,178.2,178,175,179,180,175,178.9,176.2,177,172.5,178,176.5]]\n"
   ]
  },
  {
   "cell_type": "code",
   "execution_count": 2,
   "id": "34e23c8c-19c7-4dfa-8f28-f91f611c62df",
   "metadata": {},
   "outputs": [
    {
     "name": "stdout",
     "output_type": "stream",
     "text": [
      "Mean height 177.01875\n"
     ]
    }
   ],
   "source": [
    "mean_data = np.mean(height_data)\n",
    "print(\"Mean height\", mean_data)"
   ]
  },
  {
   "cell_type": "code",
   "execution_count": 3,
   "id": "0768dcbb-67db-4666-ad56-571539551562",
   "metadata": {},
   "outputs": [
    {
     "name": "stdout",
     "output_type": "stream",
     "text": [
      "Median height 177.0\n"
     ]
    }
   ],
   "source": [
    "median_data = np.median(height_data)\n",
    "print(\"Median height\", median_data)"
   ]
  },
  {
   "cell_type": "code",
   "execution_count": 4,
   "id": "dc9b374e-0e1d-4c6d-8f93-bdf99ff46658",
   "metadata": {},
   "outputs": [
    {
     "name": "stdout",
     "output_type": "stream",
     "text": [
      "mode height ModeResult(mode=array([177.]), count=array([3]))\n"
     ]
    },
    {
     "name": "stderr",
     "output_type": "stream",
     "text": [
      "/tmp/ipykernel_77/807593447.py:1: FutureWarning: Unlike other reduction functions (e.g. `skew`, `kurtosis`), the default behavior of `mode` typically preserves the axis it acts along. In SciPy 1.11.0, this behavior will change: the default value of `keepdims` will become False, the `axis` over which the statistic is taken will be eliminated, and the value None will no longer be accepted. Set `keepdims` to True or False to avoid this warning.\n",
      "  mode_data = stats.mode(height_data[0])\n"
     ]
    }
   ],
   "source": [
    "mode_data = stats.mode(height_data[0])\n",
    "print(\"mode height\",mode_data )"
   ]
  },
  {
   "cell_type": "markdown",
   "id": "6d05ca9f-fa64-4545-b2f5-364542c31949",
   "metadata": {},
   "source": [
    "Q4. Find the standard deviation for the given data:\n",
    "[178,177,176,177,178.2,178,175,179,180,175,178.9,176.2,177,172.5,178,176.5]"
   ]
  },
  {
   "cell_type": "code",
   "execution_count": 5,
   "id": "63b48750-837c-483a-b1aa-81fd35163417",
   "metadata": {},
   "outputs": [
    {
     "name": "stdout",
     "output_type": "stream",
     "text": [
      "Standard Deviation 1.7885814036548633\n"
     ]
    }
   ],
   "source": [
    "import numpy as np\n",
    "data = [178,177,176,177,178.2,178,175,179,180,175,178.9,176.2,177,172.5,178,176.5]\n",
    "df = np.std(data)\n",
    "print(\"Standard Deviation\", df)"
   ]
  },
  {
   "cell_type": "markdown",
   "id": "6c671d63-fad0-494f-aade-94f54b834ba2",
   "metadata": {},
   "source": [
    "Q5. How are measures of dispersion such as range, variance, and standard deviation used to describe\n",
    "the spread of a dataset? Provide an example."
   ]
  },
  {
   "cell_type": "markdown",
   "id": "cddce5ca-caaf-4af1-a90b-779cd4d1e4cd",
   "metadata": {},
   "source": [
    "Measures of dispersion, such as range, variance, and standard deviation, are used to describe the spread or variability of a dataset. They provide information about how the data points are dispersed or spread out from the central tendency measures (such as the mean or median). Here's an example to illustrate their usage:\n",
    "\n",
    "Consider the following dataset representing the daily temperatures (in degrees Celsius) recorded over a week: [28, 30, 29, 32, 27, 31, 29].\n",
    "\n",
    "Range:\n",
    "The range is the simplest measure of dispersion and is calculated as the difference between the maximum and minimum values in the dataset. In this example, the range is 32 - 27 = 5 degrees Celsius. The range provides a basic understanding of the spread of the data but can be sensitive to outliers.\n",
    "\n",
    "Variance:\n",
    "Variance measures how the data points deviate from the mean. It quantifies the average squared difference between each data point and the mean. To calculate the variance, you subtract the mean from each data point, square the differences, sum them up, and divide by the total number of data points. In this example, the variance is calculated as follows: \n",
    "Mean: (28 + 30 + 29 + 32 + 27 + 31 + 29) / 7 = 29\n",
    "Differences from the mean: [-1, 1, 0, 3, -2, 2, 0]\n",
    "Squared differences: [1, 1, 0, 9, 4, 4, 0]\n",
    "Sum of squared differences: 19\n",
    "Variance: 19 / 7 ≈ 2.71\n",
    "\n",
    "The variance gives a measure of the average squared deviation from the mean, providing information about the spread of the data. However, it is not in the original units of the data, making it less interpretable.\n",
    "\n",
    "Standard Deviation:\n",
    "The standard deviation is the square root of the variance. It provides a measure of the average deviation from the mean and is expressed in the same units as the original data. In this example, the standard deviation is the square root of the variance calculated earlier: √2.71 ≈ 1.65 degrees Celsius. The standard deviation allows for a more intuitive understanding of the spread of the data and is widely used in statistical analysis."
   ]
  },
  {
   "cell_type": "markdown",
   "id": "2bf1ce71-c506-4fd1-923c-6b5ef665a096",
   "metadata": {},
   "source": [
    "Q6. What is a Venn diagram? "
   ]
  },
  {
   "cell_type": "markdown",
   "id": "bd780cc8-90a1-4a69-85d7-b813f4372870",
   "metadata": {},
   "source": [
    "A Venn diagram is a graphical representation of the relationships between different sets of elements. It consists of overlapping circles or other closed curves, each representing a set. The areas where the circles overlap indicate the elements that are common to the sets being compared."
   ]
  },
  {
   "cell_type": "markdown",
   "id": "45e3f39c-f323-4666-91a3-10514ca18d56",
   "metadata": {},
   "source": [
    "Q7. For the two given sets A = (2,3,4,5,6,7) & B = (0,2,6,8,10). Find:\n",
    "(i) A B\n",
    "(ii) A ⋃ B"
   ]
  },
  {
   "cell_type": "code",
   "execution_count": 9,
   "id": "743dac14-b12b-4082-be5a-504a7c4ba0c8",
   "metadata": {},
   "outputs": [
    {
     "name": "stdout",
     "output_type": "stream",
     "text": [
      "A ∩ B: {2, 6}\n",
      "A ∪ B: {0, 2, 3, 4, 5, 6, 7, 8, 10}\n"
     ]
    }
   ],
   "source": [
    "A = {2, 3, 4, 5, 6, 7}\n",
    "B = {0, 2, 6, 8, 10}\n",
    "\n",
    "\n",
    "intersection = A.intersection(B)\n",
    "print(\"A ∩ B:\", intersection)\n",
    "\n",
    "\n",
    "union = A.union(B)\n",
    "print(\"A ∪ B:\", union)\n"
   ]
  },
  {
   "cell_type": "markdown",
   "id": "d2a8982f-2ec5-4e04-9246-a5fc8b35d1db",
   "metadata": {},
   "source": [
    "Q8. What do you understand about skewness in data? \n"
   ]
  },
  {
   "cell_type": "markdown",
   "id": "9601c0f4-9c86-4b29-943a-09f4790a095c",
   "metadata": {},
   "source": [
    "Skewness is a measure of the asymmetry or departure from symmetry in a dataset's distribution. It quantifies the extent to which a dataset's values are concentrated on one side of the distribution compared to the other.\n",
    "\n",
    "In a symmetrical distribution, the data points are evenly distributed around the mean, resulting in a bell-shaped curve. Skewness measures how the tails of the distribution are elongated or skewed relative to the center.\n",
    "\n",
    "There are three types of skewness:\n",
    "\n",
    "Positive Skewness (Right-skewed): In a positively skewed distribution, the tail on the right side of the distribution is longer or fatter than the left side. The mean is typically greater than the median, and the majority of the values are concentrated towards the lower end of the range.\n",
    "\n",
    "Negative Skewness (Left-skewed): In a negatively skewed distribution, the tail on the left side of the distribution is longer or fatter than the right side. The mean is typically less than the median, and the majority of the values are concentrated towards the higher end of the range."
   ]
  },
  {
   "cell_type": "markdown",
   "id": "4db2bf4a-91e5-4918-82ba-458330706c68",
   "metadata": {},
   "source": [
    "Q9. If a data is right skewed then what will be the position of median with respect to mean?|"
   ]
  },
  {
   "cell_type": "markdown",
   "id": "c0718df4-7195-4c21-8ce5-9ecf23770d65",
   "metadata": {},
   "source": [
    "If a dataset is right-skewed, it means that the tail of the distribution extends towards the right side, indicating a higher concentration of values on the left side and a few larger values on the right side. In this case, the position of the median with respect to the mean can provide insights into the distribution of the data.\n",
    "\n",
    "In a right-skewed distribution:\n",
    "\n",
    "The mean is typically greater than the median.\n",
    "The median is closer to the left side (lower values) of the distribution.\n",
    "The median is positioned towards the lower values, away from the right-skewed tail."
   ]
  },
  {
   "cell_type": "markdown",
   "id": "2c18196c-56b8-41e5-942f-a3f0c89935b0",
   "metadata": {},
   "source": [
    "Q10. Explain the difference between covariance and correlation. How are these measures used in\n",
    "statistical analysis?"
   ]
  },
  {
   "cell_type": "markdown",
   "id": "ef2189e1-12c2-4df4-90ac-85a2101f0d15",
   "metadata": {},
   "source": [
    "Covariance and correlation are both measures used in statistical analysis to understand the relationship between variables, but they capture different aspects of the relationship. Here's an explanation of the difference between covariance and correlation and how they are used:\n",
    "\n",
    "Covariance:\n",
    "Covariance measures the extent to which two variables vary together. It quantifies the direction and strength of the linear relationship between two variables. The covariance can be positive, indicating a positive relationship where both variables tend to increase or decrease together, or negative, indicating an inverse relationship where one variable tends to increase while the other decreases. However, the magnitude of covariance alone doesn't provide a clear measure of the strength or degree of the relationship, as it is affected by the units of the variables.  \n",
    "Covariance is calculated using the following formula:\n",
    "\n",
    "Cov(X, Y) = Σ[(Xᵢ - μₓ)(Yᵢ - μᵧ)] / (n - 1)\n",
    "\n",
    "Where X and Y are the variables, Xᵢ and Yᵢ are individual data points, μₓ and μᵧ are the means of X and Y, and n is the number of data points.\n",
    "\n",
    "\n",
    "Correlation:\n",
    "Correlation measures the strength and direction of the linear relationship between two variables but is standardized to a range between -1 and +1. It provides a more interpretable measure of the relationship compared to covariance, as it is unitless. A correlation of +1 indicates a perfect positive linear relationship, -1 indicates a perfect negative linear relationship, and 0 indicates no linear relationship.\n",
    "Correlation is calculated using the following formula:\n",
    "\n",
    "Corr(X, Y) = Cov(X, Y) / (σₓ * σᵧ)\n",
    "\n",
    "Where Cov(X, Y) is the covariance between X and Y, and σₓ and σᵧ are the standard deviations of X and Y, respectively."
   ]
  },
  {
   "cell_type": "markdown",
   "id": "42eb1174-e8e2-453a-a665-8b9cc2037f21",
   "metadata": {},
   "source": [
    "Q11. What is the formula for calculating the sample mean? Provide an example calculation for a\n",
    "dataset."
   ]
  },
  {
   "cell_type": "markdown",
   "id": "45fa60a9-ba98-448a-b577-434f210af518",
   "metadata": {},
   "source": [
    "The formula for calculating the sample mean is as follows:\n",
    "\n",
    "Sample Mean = (Sum of all data points) / (Number of data points)\n",
    "\n",
    "To calculate the sample mean, you sum up all the data points in the dataset and divide the sum by the total number of data points.\n",
    "\n",
    "Here's an example calculation of the sample mean for a dataset:\n",
    "\n",
    "Dataset: [10, 15, 20, 25, 30]\n",
    "\n",
    "Step 1: Add up all the data points: 10 + 15 + 20 + 25 + 30 = 100\n",
    "\n",
    "Step 2: Determine the number of data points: 5 (since there are five data points in the dataset)\n",
    "\n",
    "Step 3: Calculate the sample mean: 100 / 5 = 20\n",
    "\n",
    "Therefore, the sample mean of the given dataset is 2"
   ]
  },
  {
   "cell_type": "markdown",
   "id": "74f48cfe-ae69-4036-8893-abd35a884d1d",
   "metadata": {},
   "source": [
    "Q12. For a normal distribution data what is the relationship between its measure of central tendency?"
   ]
  },
  {
   "cell_type": "markdown",
   "id": "21a6bd5b-5767-4fb4-881a-ed7dcdf80070",
   "metadata": {},
   "source": [
    "In a normal distribution, the three measures of central tendency—the mean, median, and mode—have a specific relationship:\n",
    "\n",
    "Mean: In a normal distribution, the mean is equal to the median. The mean represents the average value of the data points and is located at the center of the distribution. Since a normal distribution is symmetric, with equal probabilities on both sides of the mean, the mean and median coincide.\n",
    "\n",
    "Median: As mentioned above, the median is equal to the mean in a normal distribution. It represents the middle value of the dataset when arranged in ascending or descending order. The median splits the distribution into two equal halves.\n",
    "\n",
    "Mode: In a normal distribution, the mode is also equal to the mean and median. The mode represents the value that occurs with the highest frequency or the peak of the distribution. Since a normal distribution is symmetric, with a single peak, the mode is located at the same point as the mean and median."
   ]
  },
  {
   "cell_type": "markdown",
   "id": "3fa10ad0-174b-45ea-8317-867b2859e9dd",
   "metadata": {},
   "source": [
    "Q13. How is covariance different from correlation?"
   ]
  },
  {
   "cell_type": "markdown",
   "id": "ac6eec22-8a26-4125-a17a-ff4669a016d1",
   "metadata": {},
   "source": [
    "Covariance and correlation are both measures used to assess the relationship between variables, but they differ in terms of their interpretation and standardization. Here are the key differences between covariance and correlation:\n",
    "\n",
    "Interpretation:\n",
    "Covariance: Covariance measures the extent and direction of the linear relationship between two variables. A positive covariance indicates a positive relationship where both variables tend to increase or decrease together, while a negative covariance indicates an inverse relationship where one variable tends to increase as the other decreases. However, the magnitude of covariance is not standardized and depends on the scale of the variables, making it difficult to interpret the strength of the relationship.\n",
    "\n",
    "Correlation: Correlation measures the strength and direction of the linear relationship between two variables. It is a standardized measure that ranges between -1 and +1. A correlation of +1 indicates a perfect positive linear relationship, -1 indicates a perfect negative linear relationship, and 0 indicates no linear relationship. The magnitude of the correlation coefficient provides insights into the strength of the relationship, regardless of the scale of the variables.\n",
    "\n",
    "Standardization:\n",
    "Covariance: Covariance is not standardized and is affected by the units of the variables being measured. As a result, it is not directly comparable across different datasets or variables with different scales.\n",
    "\n",
    "Correlation: Correlation is standardized, meaning it is unitless and does not depend on the scale of the variables. This allows for direct comparison of the strength of the relationship across different datasets or variables.\n",
    "\n",
    "Range of Values:\n",
    "Covariance: Covariance can take any real value, positive or negative. The magnitude of the covariance is influenced by the units of the variables and can vary widely depending on the dataset."
   ]
  },
  {
   "cell_type": "markdown",
   "id": "8101042d-9ff0-4e49-9649-1bc8cd5d12a5",
   "metadata": {},
   "source": [
    "Q14. How do outliers affect measures of central tendency and dispersion? Provide an example. "
   ]
  },
  {
   "cell_type": "code",
   "execution_count": null,
   "id": "60466488-1c9a-4b83-8e45-e9972ff3ef23",
   "metadata": {},
   "outputs": [],
   "source": []
  }
 ],
 "metadata": {
  "kernelspec": {
   "display_name": "Python 3 (ipykernel)",
   "language": "python",
   "name": "python3"
  },
  "language_info": {
   "codemirror_mode": {
    "name": "ipython",
    "version": 3
   },
   "file_extension": ".py",
   "mimetype": "text/x-python",
   "name": "python",
   "nbconvert_exporter": "python",
   "pygments_lexer": "ipython3",
   "version": "3.10.8"
  }
 },
 "nbformat": 4,
 "nbformat_minor": 5
}
