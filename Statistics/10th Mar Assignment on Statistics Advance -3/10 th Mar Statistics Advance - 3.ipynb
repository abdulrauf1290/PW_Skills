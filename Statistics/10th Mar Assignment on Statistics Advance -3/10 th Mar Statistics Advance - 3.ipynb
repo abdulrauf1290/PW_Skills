{
 "cells": [
  {
   "cell_type": "markdown",
   "id": "4c6915a3-4f51-49ef-9d47-56ede616302a",
   "metadata": {},
   "source": [
    "Q1: What is Estimation Statistics? Explain point estimate and interval estimate."
   ]
  },
  {
   "cell_type": "markdown",
   "id": "39e8d9f6-2511-49b0-8dd3-8b9a3045fed9",
   "metadata": {},
   "source": [
    "Estimation statistics refers to the process of using sample data to estimate unknown population parameters. It allows us to make inferences and draw conclusions about a population based on the information obtained from a sample.\n",
    "\n",
    "Point Estimate:\n",
    "A point estimate is a single value that is used to estimate an unknown population parameter. It is calculated using sample data and provides an estimate of the most likely value of the parameter. For example, if we want to estimate the average height of all students in a school, we can take a random sample of students and calculate the average height of that sample. This average height would be a point estimate of the population mean height.\n",
    "\n",
    "Interval Estimate:\n",
    "An interval estimate, also known as a confidence interval, is a range of values within which the population parameter is likely to lie. Unlike a point estimate, an interval estimate provides a range of values rather than a single value. It takes into account the uncertainty associated with the estimation process"
   ]
  },
  {
   "cell_type": "markdown",
   "id": "264e8b52-c8da-4e64-8fac-c9a0fa347fa9",
   "metadata": {},
   "source": [
    "Q2. Write a Python function to estimate the population mean using a sample mean and standard\n",
    "deviation."
   ]
  },
  {
   "cell_type": "code",
   "execution_count": 12,
   "id": "02fe91fd-f9e3-41ec-9330-005c8f7903e2",
   "metadata": {},
   "outputs": [],
   "source": [
    "import math\n",
    "from scipy import stats\n",
    "def estimate_population_mean(sample_mean, sample_std_deviation, sample_size):\n",
    "    standard_error = sample_std_deviation / math.sqrt(sample_size)\n",
    "    \n",
    "    confidence_level = 0.95  \n",
    "    z_value = abs(stats.norm.ppf((1 - confidence_level) / 2))\n",
    "    margin_of_error = z_value * standard_error\n",
    "    \n",
    "    \n",
    "    \n",
    "    lower_bound = sample_mean - margin_of_error\n",
    "    upper_bound = sample_mean + margin_of_error\n",
    "    \n",
    "    return sample_mean, lower_bound, upper_bound\n"
   ]
  },
  {
   "cell_type": "code",
   "execution_count": 13,
   "id": "0e0477d2-f9ab-40d6-928d-8f044daafed0",
   "metadata": {},
   "outputs": [
    {
     "data": {
      "text/plain": [
       "(10.55, 9.912484240799149, 11.187515759200853)"
      ]
     },
     "execution_count": 13,
     "metadata": {},
     "output_type": "execute_result"
    }
   ],
   "source": [
    "estimate_population_mean(10.55,2.3,50)"
   ]
  },
  {
   "cell_type": "markdown",
   "id": "99bdfbe8-b685-4bd9-a7b0-53cffd1a3eb2",
   "metadata": {},
   "source": [
    "Q3: What is Hypothesis testing? Why is it used? State the importance of Hypothesis testing."
   ]
  },
  {
   "cell_type": "markdown",
   "id": "f29cab94-eb58-4fcc-998c-b94167976803",
   "metadata": {},
   "source": [
    "Hypothesis testing is a statistical method used to make inferences and draw conclusions about a population based on sample data. It involves formulating a hypothesis about a population parameter and then collecting and analyzing data to evaluate the evidence against the null hypothesis.\n",
    "\n",
    "The main steps in hypothesis testing are as follows:\n",
    "\n",
    "Formulate the null hypothesis (H0) and the alternative hypothesis (Ha).\n",
    "Collect sample data.\n",
    "Calculate a test statistic based on the sample data.\n",
    "Compare the test statistic with the critical value or p-value to determine the level of evidence against the null hypothesis.\n",
    "Draw conclusions based on the results, either rejecting or failing to reject the null hypothesis."
   ]
  },
  {
   "cell_type": "markdown",
   "id": "154e4ccc-eb52-4d37-b2f7-3d5a1049dc55",
   "metadata": {},
   "source": [
    "Q4. Create a hypothesis that states whether the average weight of male college students is greater than\n",
    "the average weight of female college students."
   ]
  },
  {
   "cell_type": "markdown",
   "id": "4a392194-cfa3-4fa4-9a85-c919fb301d56",
   "metadata": {},
   "source": [
    "Null Hypothesis (H0): The average weight of male college students is equal to or less than the average weight of female college students.\n",
    "Alternative Hypothesis (H1): The average weight of male college students is greater than the average weight of female college students.\n",
    "\n",
    "Symbolically:\n",
    "H0: μ_male <= μ_female\n",
    "Ha: μ_male > μ_female\n",
    "\n"
   ]
  },
  {
   "cell_type": "code",
   "execution_count": 5,
   "id": "c20eb681-c56e-4493-8050-4744422d2c09",
   "metadata": {},
   "outputs": [
    {
     "name": "stdout",
     "output_type": "stream",
     "text": [
      "Hypothesis test result: Reject null hypothesis. There is evidence of a significant difference.\n",
      "Calculated t-value: 2.007858576442107\n"
     ]
    }
   ],
   "source": [
    "import numpy as np\n",
    "from scipy import stats\n",
    "\n",
    "def conduct_hypothesis_test(sample1, sample2, alpha):\n",
    "    n1 = len(sample1)\n",
    "    n2 = len(sample2)\n",
    "    mean1 = np.mean(sample1)\n",
    "    mean2 = np.mean(sample2)\n",
    "    std1 = np.std(sample1, ddof=1)\n",
    "    std2 = np.std(sample2, ddof=1)\n",
    "\n",
    "    pooled_std = np.sqrt((std1 ** 2 + std2 ** 2) / 2)\n",
    "    t_value = (mean1 - mean2) / (pooled_std * np.sqrt(1 / n1 + 1 / n2))\n",
    "\n",
    "    df = n1 + n2 - 2\n",
    "\n",
    "    critical_value = stats.t.ppf(1 - alpha, df)\n",
    "\n",
    "    if t_value > critical_value:\n",
    "        result = \"Reject null hypothesis. There is evidence of a significant difference.\"\n",
    "    else:\n",
    "        result = \"Fail to reject null hypothesis. There is no evidence of a significant difference.\"\n",
    "\n",
    "    return result, t_value\n",
    "\n",
    "sample1 = [23, 25, 27, 21, 24]  # sample from population 1\n",
    "sample2 = [19, 22, 20, 18, 25]  # sample from population 2\n",
    "alpha = 0.05  # significance level\n",
    "\n",
    "result, t_value = conduct_hypothesis_test(sample1, sample2, alpha)\n",
    "\n",
    "print(\"Hypothesis test result:\", result)\n",
    "print(\"Calculated t-value:\", t_value)\n"
   ]
  },
  {
   "cell_type": "markdown",
   "id": "fca87014-e12c-46cc-ac51-74374981ec6d",
   "metadata": {},
   "source": [
    "What is a null and alternative hypothesis? Give some examples."
   ]
  },
  {
   "cell_type": "markdown",
   "id": "ca9c9d79-982e-4357-bbb6-388c99c89bf8",
   "metadata": {},
   "source": [
    "In hypothesis testing, the null hypothesis (H0) and the alternative hypothesis (Ha) are two opposing statements about a population parameter. They help define the nature of the statistical test and guide the decision-making process based on the sample data.\n",
    "\n",
    "Null Hypothesis (H0):\n",
    "The null hypothesis represents the status quo or the default assumption. It states that there is no significant difference, relationship, or effect in the population. It assumes that any observed differences or relationships in the sample data are due to random variation or chance.\n",
    "Example:\n",
    "H0: The average test scores of students who receive tutoring are equal to or less than the average test scores of students who do not receive tutoring.\n",
    "\n",
    "Alternative Hypothesis (Ha):\n",
    "The alternative hypothesis contradicts the null hypothesis. It proposes that there is a significant difference, relationship, or effect in the population. It suggests that the observed differences or relationships in the sample data are not due to random chance but reflect a true difference or effect.\n",
    "Example:\n",
    "Ha: The average test scores of students who receive tutoring are greater than the average test scores of students who do not receive tutoring.\n",
    "\n"
   ]
  },
  {
   "cell_type": "markdown",
   "id": "3d289752-5f10-45ea-8a33-e46daefff4fd",
   "metadata": {},
   "source": [
    "Q7: Write down the steps involved in hypothesis testing."
   ]
  },
  {
   "cell_type": "markdown",
   "id": "1f953b5d-3147-4d42-b0c9-c6a2331bd76b",
   "metadata": {},
   "source": [
    "Hypothesis testing involves a series of steps to evaluate the evidence provided by sample data and draw conclusions about a population parameter. Here are the general steps involved in hypothesis testing:\n",
    "\n",
    "State the Null Hypothesis (H0) and Alternative Hypothesis (Ha):\n",
    "Clearly define the null hypothesis, which assumes no significant difference or effect, and the alternative hypothesis, which contradicts the null hypothesis and suggests a significant difference or effect.\n",
    "\n",
    "Set the Significance Level (α):\n",
    "Choose the significance level (α), which represents the threshold for determining whether to reject or fail to reject the null hypothesis. Commonly used values for α are 0.05 or 0.01, indicating a 5% or 1% level of significance, respectively.\n",
    "\n",
    "Select the Test Statistic:\n",
    "Identify the appropriate test statistic based on the nature of the hypothesis test, the type of data, and the specific research question. Common test statistics include the t-test, z-test, chi-square test, or F-test.\n",
    "\n",
    "Collect and Analyze Sample Data:\n",
    "Collect data from a representative sample and perform the necessary calculations to obtain the test statistic. Calculate relevant sample statistics, such as sample means, sample proportions, or sample variances.\n",
    "\n",
    "Determine the Critical Region or P-value:\n",
    "Based on the chosen significance level (α), determine the critical region of the test statistic or calculate the p-value. The critical region is the range of values that would lead to rejecting the null hypothesis. The p-value represents the probability of obtaining results as extreme as, or more extreme than, the observed data, assuming the null hypothesis is true.\n",
    "\n",
    "Compare the Test Statistic with the Critical Value or P-value:\n",
    "Compare the calculated test statistic with the critical value or p-value. If the test statistic falls within the critical region or the p-value is less than α, reject the null hypothesis. Otherwise, fail to reject the null hypothesis.\n",
    "\n",
    "Draw Conclusions:\n",
    "Based on the comparison in the previous step, draw conclusions about the null hypothesis. If the null hypothesis is rejected, it suggests evidence in favor of the alternative hypothesis. If the null hypothesis is not rejected, there is insufficient evidence to support the alternative hypothesis."
   ]
  },
  {
   "cell_type": "markdown",
   "id": "fe6f375f-e152-42a2-bd33-44ab3f961651",
   "metadata": {},
   "source": [
    "Q8. Define p-value and explain its significance in hypothesis testing."
   ]
  },
  {
   "cell_type": "markdown",
   "id": "8540e2a4-266c-4f25-88b7-1eba44993090",
   "metadata": {},
   "source": [
    "The p-value is a statistical measure that quantifies the strength of evidence against the null hypothesis in hypothesis testing. It represents the probability of obtaining results as extreme as, or more extreme than, the observed data, assuming the null hypothesis is true.\n",
    "\n",
    "The significance of the p-value in hypothesis testing lies in its role in decision-making. Here's how the p-value is interpreted:\n",
    "\n",
    "If the p-value is less than the chosen significance level (α):\n",
    "\n",
    "Reject the null hypothesis (H0): The evidence suggests that the observed data is unlikely to occur if the null hypothesis is true. It indicates that there is sufficient evidence to support the alternative hypothesis (Ha) and that there is a significant difference, relationship, or effect in the population.\n",
    "If the p-value is greater than or equal to the chosen significance level (α):\n",
    "\n",
    "Fail to reject the null hypothesis (H0): The evidence suggests that the observed data is likely to occur even if the null hypothesis is true. It indicates that there is insufficient evidence to support the alternative hypothesis (Ha) and that any observed differences or relationships may be due to random chance or sampling variability.\n"
   ]
  },
  {
   "cell_type": "markdown",
   "id": "c4abb034-6e1c-4fc9-96cc-56e441948d56",
   "metadata": {},
   "source": [
    "Q9. Generate a Student's t-distribution plot using Python's matplotlib library, with the degrees of freedom\n",
    "parameter set to 10."
   ]
  },
  {
   "cell_type": "code",
   "execution_count": 9,
   "id": "a1754107-12ca-4945-a0f8-01f9b1c6246d",
   "metadata": {},
   "outputs": [
    {
     "data": {
      "image/png": "[encoded data removed]",
      "text/plain": [
       "<Figure size 640x480 with 1 Axes>"
      ]
     },
     "metadata": {},
     "output_type": "display_data"
    }
   ],
   "source": [
    "import numpy as np\n",
    "import matplotlib.pyplot as plt\n",
    "from scipy.stats import t\n",
    "\n",
    "x = np.linspace(-4, 4, 500)\n",
    "\n",
    "# Calculate y-values for t-distribution\n",
    "df = 10  # Degrees of freedom\n",
    "y = t.pdf(x, df)\n",
    "\n",
    "# Plot the t-distribution\n",
    "plt.plot(x, y, label=f\"t-distribution (df={df})\")\n",
    "plt.xlabel(\"x\")\n",
    "plt.ylabel(\"Probability Density\")\n",
    "plt.title(\"Student's t-distribution\")\n",
    "plt.legend()\n",
    "plt.grid(True)\n",
    "plt.show()\n"
   ]
  },
  {
   "cell_type": "markdown",
   "id": "4de76057-ac58-4af1-ae2f-1d06fd870c60",
   "metadata": {},
   "source": [
    "Q10. Write a Python program to calculate the two-sample t-test for independent samples, given two\n",
    "random samples of equal size and a null hypothesis that the population means are equal."
   ]
  },
  {
   "cell_type": "code",
   "execution_count": 14,
   "id": "012dc0ca-7680-4329-abf0-f86a11a65db7",
   "metadata": {},
   "outputs": [
    {
     "name": "stdout",
     "output_type": "stream",
     "text": [
      "Two-sample t-test results:\n",
      "t-value: 2.007858576442107\n",
      "p-value: 0.07954174661281788\n"
     ]
    }
   ],
   "source": [
    "import numpy as np\n",
    "from scipy import stats\n",
    "\n",
    "def two_sample_t_test(sample1, sample2):\n",
    "    n1 = len(sample1)\n",
    "    n2 = len(sample2)\n",
    "    mean1 = np.mean(sample1)\n",
    "    mean2 = np.mean(sample2)\n",
    "    std1 = np.std(sample1, ddof=1)\n",
    "    std2 = np.std(sample2, ddof=1)\n",
    "\n",
    "    pooled_std = np.sqrt(((n1 - 1) * std1 ** 2 + (n2 - 1) * std2 ** 2) / (n1 + n2 - 2))\n",
    "\n",
    "    t_value = (mean1 - mean2) / (pooled_std * np.sqrt(1 / n1 + 1 / n2))\n",
    "\n",
    "    # Calculate the degrees of freedom\n",
    "    df = n1 + n2 - 2\n",
    "\n",
    "    # Calculate the p-value\n",
    "    p_value = 2 * (1 - stats.t.cdf(abs(t_value), df))\n",
    "\n",
    "    # Return the test statistic and p-value\n",
    "    return t_value, p_value\n",
    "\n",
    "# Example usage\n",
    "sample1 = [23, 25, 27, 21, 24]  # sample 1\n",
    "sample2 = [19, 22, 20, 18, 25]  # sample 2\n",
    "\n",
    "t_value, p_value = two_sample_t_test(sample1, sample2)\n",
    "\n",
    "print(\"Two-sample t-test results:\")\n",
    "print(\"t-value:\", t_value)\n",
    "print(\"p-value:\", p_value)\n"
   ]
  },
  {
   "cell_type": "markdown",
   "id": "144aea1c-ede4-4af3-bcfd-4af0b27a4fcd",
   "metadata": {},
   "source": [
    "Q11: What is Student’s t distribution? When to use the t-Distribution."
   ]
  },
  {
   "cell_type": "markdown",
   "id": "ab4f4f80-ce1b-4041-b7a9-ce7a747249e5",
   "metadata": {},
   "source": [
    "Student's t-distribution, also known as the t-distribution, is a probability distribution that is used in hypothesis testing and statistical inference. It is similar to the standard normal distribution (z-distribution) but has heavier tails, which makes it more appropriate for smaller sample sizes or situations where the population standard deviation is unknown.\n",
    "\n",
    "The t-distribution is characterized by its degrees of freedom (df), which determine its shape. As the degrees of freedom increase, the t-distribution approaches the standard normal distribution.\n",
    "\n",
    "The t-distribution is commonly used in the following scenarios:\n",
    "\n",
    "Small Sample Sizes:\n",
    "When the sample size is small (typically less than 30), the t-distribution is preferred over the normal distribution for making inferences about the population mean. This is because the t-distribution takes into account the increased uncertainty associated with estimating the population standard deviation from limited sample data.\n",
    "\n",
    "Unknown Population Standard Deviation:\n",
    "When the population standard deviation is unknown, the t-distribution is used to construct confidence intervals or perform hypothesis tests. The sample standard deviation is used as an estimate of the population standard deviation, leading to the use of the t-distribution instead of the normal distribution.\n",
    "\n"
   ]
  },
  {
   "cell_type": "markdown",
   "id": "f5ce0f8f-908f-4134-9016-6b181b0fb3da",
   "metadata": {},
   "source": [
    "Q12: What is t-statistic? State the formula for t-statistic."
   ]
  },
  {
   "cell_type": "markdown",
   "id": "0f7ce82d-72f2-4d06-8348-d6656efd3efa",
   "metadata": {},
   "source": [
    "The t-statistic is a measure used in hypothesis testing to assess the difference between a sample mean and a population mean when the population standard deviation is unknown and needs to be estimated from the sample data. It measures the deviation of the sample mean from the hypothesized population mean in terms of the standard error.\n",
    "\n",
    "The formula for calculating the t-statistic is as follows:\n",
    "\n",
    "t = (x - μ) / (s / √n)\n",
    "\n",
    "Where:\n",
    "\n",
    "t is the t-statistic\n",
    "x is the sample mean\n",
    "μ is the hypothesized population mean (null hypothesis)\n",
    "s is the sample standard deviation\n",
    "n is the sample size\n",
    "The t-statistic measures how many standard errors the sample mean is away from the hypothesized population mean. If the t-statistic is large, it suggests a greater difference between the sample mean and the hypothesized population mean.\n",
    "\n"
   ]
  },
  {
   "cell_type": "markdown",
   "id": "75efae48-d2e6-4157-bc2b-cc946787c47c",
   "metadata": {},
   "source": [
    "Q13. A coffee shop owner wants to estimate the average daily revenue for their shop. They take a random\n",
    "sample of 50 days and find the sample mean revenue to be $500 with a standard deviation of $50.\n",
    "Estimate the population mean revenue with a 95% confidence interval."
   ]
  },
  {
   "cell_type": "markdown",
   "id": "f2d36c7b-e58a-492c-b193-6f204f2c1563",
   "metadata": {},
   "source": [
    "To estimate the population mean revenue with a 95% confidence interval, we can use the sample mean, sample standard deviation, and the formula for the confidence interval.\n",
    "\n",
    "Given:\n",
    "Sample size (n) = 50\n",
    "Sample mean (x̄) = $500\n",
    "Sample standard deviation (s) = $50\n",
    "\n",
    "The formula for the confidence interval for the population mean (μ) is:\n",
    "Confidence Interval = x̄ ± (z * (s / √n))\n",
    "\n",
    "Where:\n",
    "x̄ = Sample mean\n",
    "z = z-value for the desired confidence level (95% confidence corresponds to z-value of approximately 1.96)\n",
    "s = Sample standard deviation\n",
    "n = Sample size\n",
    "\n",
    "Substituting the values into the formula, we get:\n",
    "Confidence Interval = $500 ± (1.96 * ($50 / √50))\n",
    "\n",
    "Calculating the values:\n",
    "Confidence Interval = $500 ± (1.96 * ($50 / 7.07))\n",
    "Confidence Interval = $500 ± (1.96 * $7.07)\n",
    "Confidence Interval ≈ $500 ± $13.85\n",
    "\n",
    "Therefore, the 95% confidence interval for the population mean revenue is approximately $486.15 to $513.85. This means that we can be 95% confident that the true average daily revenue for the coffee shop falls within this range based on the sample data.\n",
    "\n",
    "\n",
    "\n",
    "\n"
   ]
  },
  {
   "cell_type": "markdown",
   "id": "687e0682-48d5-4bd4-9864-1db8738efbe7",
   "metadata": {},
   "source": [
    "Q14. A researcher hypothesizes that a new drug will decrease blood pressure by 10 mmHg. They conduct a\n",
    "clinical trial with 100 patients and find that the sample mean decrease in blood pressure is 8 mmHg with a\n",
    "standard deviation of 3 mmHg. Test the hypothesis with a significance level of 0.05."
   ]
  },
  {
   "cell_type": "markdown",
   "id": "adbae14c-7e1f-4363-90ee-842282303b7a",
   "metadata": {},
   "source": [
    "To test the hypothesis that the new drug decreases blood pressure by 10 mmHg, we can perform a one-sample t-test. The null hypothesis (H0) assumes that the drug has no effect, while the alternative hypothesis (Ha) suggests that the drug does decrease blood pressure by 10 mmHg.\n",
    "\n",
    "Given:\n",
    "Sample size (n) = 100\n",
    "Sample mean decrease in blood pressure (x̄) = 8 mmHg\n",
    "Sample standard deviation (s) = 3 mmHg\n",
    "Hypothesized mean decrease in blood pressure (μ) = 10 mmHg\n",
    "Significance level (α) = 0.05\n",
    "\n",
    "The t-statistic for a one-sample t-test is calculated using the formula:\n",
    "t = (x̄ - μ) / (s / √n)\n",
    "\n",
    "Substituting the values into the formula, we get:\n",
    "t = (8 - 10) / (3 / √100)\n",
    "t = -2 / (3 / 10)\n",
    "t = -20/3 ≈ -6.67\n",
    "\n",
    "To determine the critical value or p-value, we need the degrees of freedom (df), which is (n - 1) in this case. With 100 patients, the degrees of freedom will be 99.\n",
    "\n",
    "Using a t-table or statistical software, we find that the critical value for a significance level of 0.05 (two-tailed test) with 99 degrees of freedom is approximately ±1.984.\n",
    "\n",
    "Since -6.67 falls outside the critical value range of ±1.984, we reject the null hypothesis (H0). We have sufficient evidence to conclude that the new drug does decrease blood pressure, as the sample mean decrease in blood pressure is significantly different from the hypothesized mean decrease of 10 mmHg.\n",
    "\n"
   ]
  },
  {
   "cell_type": "markdown",
   "id": "8fe88e5e-c940-4d49-9840-c1d042804b6b",
   "metadata": {},
   "source": [
    "Q15. An electronics company produces a certain type of product with a mean weight of 5 pounds and a\n",
    "standard deviation of 0.5 pounds. A random sample of 25 products is taken, and the sample mean weight\n",
    "is found to be 4.8 pounds. Test the hypothesis that the true mean weight of the products is less than 5\n",
    "pounds with a significance level of 0.01."
   ]
  },
  {
   "cell_type": "markdown",
   "id": "966f304d-289d-4ee0-8598-5f4f61c12c4b",
   "metadata": {},
   "source": [
    "To test the hypothesis that the true mean weight of the products is less than 5 pounds, we can perform a one-sample t-test. The null hypothesis (H0) assumes that the true mean weight is equal to or greater than 5 pounds, while the alternative hypothesis (Ha) suggests that the true mean weight is less than 5 pounds.\n",
    "\n",
    "Given:\n",
    "Population mean weight (μ) = 5 pounds\n",
    "Population standard deviation (σ) = 0.5 pounds\n",
    "Sample size (n) = 25\n",
    "Sample mean weight (x̄) = 4.8 pounds\n",
    "Significance level (α) = 0.01\n",
    "\n",
    "The t-statistic for a one-sample t-test is calculated using the formula:\n",
    "t = (x̄ - μ) / (σ / √n)\n",
    "\n",
    "Substituting the values into the formula, we get:\n",
    "t = (4.8 - 5) / (0.5 / √25)\n",
    "t = -0.2 / (0.5 / 5)\n",
    "t = -0.2 / 0.1\n",
    "t = -2\n",
    "\n",
    "To determine the critical value or p-value, we need the degrees of freedom (df), which is (n - 1) in this case. With a sample size of 25, the degrees of freedom will be 24.\n",
    "\n",
    "Using a t-table or statistical software, we find that the critical value for a one-tailed test with a significance level of 0.01 and 24 degrees of freedom is approximately -2.492.\n",
    "\n",
    "Since -2 falls within the critical value range of -2.492, we fail to reject the null hypothesis (H0). We do not have sufficient evidence to conclude that the true mean weight of the products is less than 5 pounds at the 0.01 significance level.\n",
    "\n",
    "This means that, based on the sample data, we do not have enough evidence to support the hypothesis that the true mean weight of the products is less than 5 pounds.\n",
    "\n",
    "\n",
    "\n",
    "\n",
    "\n"
   ]
  },
  {
   "cell_type": "markdown",
   "id": "7cedaf0c-7739-44e0-8b32-79019457797b",
   "metadata": {},
   "source": [
    "Q16. Two groups of students are given different study materials to prepare for a test. The first group (n1 =\n",
    "30) has a mean score of 80 with a standard deviation of 10, and the second group (n2 = 40) has a mean\n",
    "score of 75 with a standard deviation of 8. Test the hypothesis that the population means for the two\n",
    "groups are equal with a significance level of 0.01."
   ]
  },
  {
   "cell_type": "markdown",
   "id": "115b909b-d911-4eef-8f62-112c1dc9c26f",
   "metadata": {},
   "source": [
    "To test the hypothesis that the population means for the two groups are equal, we can perform a two-sample t-test for independent samples. The null hypothesis (H0) assumes that the population means are equal, while the alternative hypothesis (Ha) suggests that the population means are not equal.\n",
    "\n",
    "Given:\n",
    "Group 1:\n",
    "Sample size (n1) = 30\n",
    "Sample mean score (x̄1) = 80\n",
    "Standard deviation (s1) = 10\n",
    "\n",
    "Group 2:\n",
    "Sample size (n2) = 40\n",
    "Sample mean score (x̄2) = 75\n",
    "Standard deviation (s2) = 8\n",
    "\n",
    "Significance level (α) = 0.01\n",
    "\n",
    "The t-statistic for a two-sample t-test is calculated using the formula:\n",
    "t = (x̄1 - x̄2) / √((s1^2 / n1) + (s2^2 / n2))\n",
    "\n",
    "Substituting the values into the formula, we get:\n",
    "t = (80 - 75) / √((10^2 / 30) + (8^2 / 40))\n",
    "t = 5 / √((100 / 30) + (64 / 40))\n",
    "t = 5 / √(3.33 + 1.6)\n",
    "t = 5 / √4.93\n",
    "t ≈ 5 / 2.22\n",
    "t ≈ 2.252\n",
    "\n",
    "To determine the critical value or p-value, we need the degrees of freedom (df), which is calculated as follows:\n",
    "df = (s1^2 / n1 + s2^2 / n2)^2 / [(s1^2 / n1)^2 / (n1 - 1) + (s2^2 / n2)^2 / (n2 - 1)]\n",
    "\n",
    "Substituting the values into the formula, we get:\n",
    "df = (10^2 / 30 + 8^2 / 40)^2 / [(10^2 / 30)^2 / (30 - 1) + (8^2 / 40)^2 / (40 - 1)]\n",
    "df = (100 / 30 + 64 / 40)^2 / [(100 / 30)^2 / 29 + (64 / 40)^2 / 39]\n",
    "df = (3.33 + 1.6)^2 / [(3.33)^2 / 29 + (1.6)^2 / 39]\n",
    "df = 4.93^2 / [0.3309 / 29 + 0.041 / 39]\n",
    "df ≈ 24.30\n",
    "\n",
    "Using a t-table or statistical software, we find that the critical value for a two-tailed test with a significance level of 0.01 and 24 degrees of freedom is approximately ±2.796.\n",
    "\n",
    "Since 2.252 falls within the critical value range of ±2.796, we fail to reject the null hypothesis (H0). We do not have sufficient evidence to conclude that the population means for the two groups are different at the 0.01 significance level.\n",
    "\n",
    "This means that, based on the sample data, we do not have enough evidence to support the hypothesis that the population means for the two groups are not equal.\n",
    "\n",
    "\n",
    "\n",
    "\n"
   ]
  },
  {
   "cell_type": "markdown",
   "id": "4cdaa18d-294f-4fcd-a756-38ada060dd76",
   "metadata": {},
   "source": [
    "Q17. A marketing company wants to estimate the average number of ads watched by viewers during a TV\n",
    "program. They take a random sample of 50 viewers and find that the sample mean is 4 with a standard\n",
    "deviation of 1.5. Estimate the population mean with a 99% confidence interval."
   ]
  },
  {
   "cell_type": "code",
   "execution_count": null,
   "id": "4f7c4937-877e-4221-a4b5-79169c49349d",
   "metadata": {},
   "outputs": [],
   "source": [
    "To estimate the population mean with a 99% confidence interval, we can use the sample mean, sample standard deviation, and the formula for the confidence interval.\n",
    "\n",
    "Given:\n",
    "Sample size (n) = 50\n",
    "Sample mean (x̄) = 4\n",
    "Sample standard deviation (s) = 1.5\n",
    "\n",
    "The formula for the confidence interval for the population mean (μ) is:\n",
    "Confidence Interval = x̄ ± (z * (s / √n))\n",
    "\n",
    "Where:\n",
    "x̄ = Sample mean\n",
    "z = z-value for the desired confidence level (99% confidence corresponds to z-value of approximately 2.576)\n",
    "s = Sample standard deviation\n",
    "n = Sample size\n",
    "\n",
    "Substituting the values into the formula, we get:\n",
    "Confidence Interval = 4 ± (2.576 * (1.5 / √50))\n",
    "\n",
    "Calculating the values:\n",
    "Confidence Interval = 4 ± (2.576 * (1.5 / 7.071))\n",
    "Confidence Interval = 4 ± (2.576 * 0.212)\n",
    "Confidence Interval = 4 ± 0.546\n",
    "\n",
    "Therefore, the 99% confidence interval for the average number of ads watched by viewers during a TV program is approximately 3.454 to 4.546. This means that we can be 99% confident that the true population mean falls within this range based on the sample data.\n",
    "\n",
    "\n",
    "\n",
    "\n",
    "\n"
   ]
  }
 ],
 "metadata": {
  "kernelspec": {
   "display_name": "Python 3 (ipykernel)",
   "language": "python",
   "name": "python3"
  },
  "language_info": {
   "codemirror_mode": {
    "name": "ipython",
    "version": 3
   },
   "file_extension": ".py",
   "mimetype": "text/x-python",
   "name": "python",
   "nbconvert_exporter": "python",
   "pygments_lexer": "ipython3",
   "version": "3.10.8"
  }
 },
 "nbformat": 4,
 "nbformat_minor": 5
}
