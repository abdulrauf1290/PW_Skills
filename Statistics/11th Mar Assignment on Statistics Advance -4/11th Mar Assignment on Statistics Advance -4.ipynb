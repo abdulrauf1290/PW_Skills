{
 "cells": [
  {
   "cell_type": "markdown",
   "id": "3d23ed86-c9a2-4ea0-b3f1-fb36474191ab",
   "metadata": {},
   "source": [
    "Q1: What is the difference between a t-test and a z-test? Provide an example scenario where you would\n",
    "use each type of test."
   ]
  },
  {
   "cell_type": "markdown",
   "id": "d2608625-fe9f-427f-aba9-14ce576353cc",
   "metadata": {},
   "source": [
    "Both t-tests and z-tests are statistical hypothesis tests used to make inferences about population parameters based on sample data. The main difference between the two lies in the circumstances under which they are applicable.\n",
    "\n",
    "A t-test is used when the population standard deviation is unknown and needs to be estimated from the sample data. It is commonly used when working with small sample sizes (typically less than 30) or when the population standard deviation is not available. The t-test uses the t-distribution to calculate the test statistic and p-value.\n",
    "\n",
    "Example scenario for a t-test:\n",
    "Suppose you want to test whether there is a significant difference in the mean scores of two groups of students who received different teaching methods. You randomly select 20 students from each group and measure their test scores. Since you don't know the population standard deviation, you would use a t-test to compare the means of the two groups"
   ]
  },
  {
   "cell_type": "markdown",
   "id": "933431e6-2a89-4ca3-b58b-d7675c6e03b4",
   "metadata": {},
   "source": [
    "Q2: Differentiate between one-tailed and two-tailed tests."
   ]
  },
  {
   "cell_type": "markdown",
   "id": "872872c7-eab6-496e-96ab-dcd0fa773c3a",
   "metadata": {},
   "source": [
    "In statistical hypothesis testing, both one-tailed and two-tailed tests refer to the directionality of the hypothesis being tested and the corresponding critical region(s) used to make decisions.\n",
    "\n",
    "One-tailed test (also known as a directional test):\n",
    "A one-tailed test is used when the hypothesis being tested specifies a specific direction of the effect or difference. In other words, it focuses on whether the sample data significantly deviate from the null hypothesis in one direction only (either greater than or less than). The critical region is concentrated on one side of the distribution.\n",
    "Example:\n",
    "Null hypothesis (H0): The mean score of Group A is equal to or less than the mean score of Group B.\n",
    "Alternative hypothesis (Ha): The mean score of Group A is greater than the mean score of Group B.\n",
    "\n",
    "In this case, a one-tailed test would be used to determine if there is enough evidence to support the claim that Group A has a higher mean score than Group B. The critical region would be in the upper tail of the distribution.\n",
    "\n",
    "Two-tailed test (also known as a non-directional test):\n",
    "A two-tailed test is used when the hypothesis being tested does not specify a particular direction of the effect or difference. It is used to detect whether the sample data significantly deviate from the null hypothesis in either direction (greater than or less than). The critical region is divided between both tails of the distribution.\n",
    "Example:\n",
    "Null hypothesis (H0): There is no difference in the mean scores of Group A and Group B.\n",
    "Alternative hypothesis (Ha): There is a difference in the mean scores of Group A and Group B\n"
   ]
  },
  {
   "cell_type": "markdown",
   "id": "1c6d38e3-1f31-4853-9593-c3b1e67ce0d7",
   "metadata": {},
   "source": [
    "Q3: Explain the concept of Type 1 and Type 2 errors in hypothesis testing. Provide an example scenario for\n",
    "each type of error."
   ]
  },
  {
   "cell_type": "markdown",
   "id": "ae49ad49-c408-4ecb-bc60-3c17e6e912cb",
   "metadata": {},
   "source": [
    "In hypothesis testing, Type 1 and Type 2 errors are two types of mistakes that can occur when making decisions based on sample data.\n",
    "\n",
    "Type 1 error (False Positive):\n",
    "A Type 1 error occurs when the null hypothesis (H0) is rejected, indicating that there is a significant effect or difference, when in reality, the null hypothesis is true. In other words, it is the incorrect rejection of a true null hypothesis. Type 1 errors are considered false positives.\n",
    "Example scenario:\n",
    "Suppose a pharmaceutical company is testing a new drug to determine if it is effective in reducing blood pressure. The null hypothesis (H0) states that the drug has no effect on blood pressure. A Type 1 error would occur if the study concludes that the drug is effective (rejects the null hypothesis) when, in fact, it has no effect on blood pressure.\n",
    "\n",
    "Type 2 error (False Negative):\n",
    "A Type 2 error occurs when the null hypothesis (H0) is not rejected, indicating that there is no significant effect or difference, when in reality, the alternative hypothesis (Ha) is true. In other words, it is the failure to reject a false null hypothesis. Type 2 errors are considered false negatives.\n",
    "Example scenario:\n",
    "Continuing with the previous example, a Type 2 error would occur if the study fails to conclude that the drug is effective (fails to reject the null hypothesis) when, in fact, it does have an effect on reducing blood pressure."
   ]
  },
  {
   "cell_type": "markdown",
   "id": "33a7a8ba-71c8-43aa-a574-8fae9caf64f7",
   "metadata": {},
   "source": [
    "Q4: Explain Bayes's theorem with an example."
   ]
  },
  {
   "cell_type": "markdown",
   "id": "e0598964-5e16-4027-915e-f996a89ffa91",
   "metadata": {},
   "source": [
    "Bayes's theorem is a fundamental concept in probability theory that describes how to update the probability of an event based on new evidence or information. It provides a way to calculate conditional probabilities by incorporating prior knowledge or beliefs. The theorem is named after the Reverend Thomas Bayes, an 18th-century mathematician and theologian.\n",
    "\n",
    "The general form of Bayes's theorem is as follows:\n",
    "\n",
    "P(A|B) = (P(B|A) * P(A)) / P(B)\n",
    "\n",
    "Where:\n",
    "\n",
    "P(A|B) is the conditional probability of event A given event B.\n",
    "P(B|A) is the conditional probability of event B given event A.\n",
    "P(A) and P(B) are the probabilities of event A and event B, respectively."
   ]
  },
  {
   "cell_type": "markdown",
   "id": "eaf601a8-8375-452e-9a5a-2bc8f1a63d10",
   "metadata": {},
   "source": [
    "Q5: What is a confidence interval? How to calculate the confidence interval, explain with an example."
   ]
  },
  {
   "cell_type": "markdown",
   "id": "7144880b-7a8b-4e6e-a6cb-882281de15c8",
   "metadata": {},
   "source": [
    "A confidence interval is a range of values constructed around a sample statistic (such as a mean or proportion) that is likely to contain the true population parameter with a specified level of confidence. It provides a measure of the uncertainty associated with estimating the population parameter based on a sample.\n",
    "\n",
    "To calculate a confidence interval, you typically need three pieces of information:\n",
    "\n",
    "Sample statistic: This is the calculated value from the sample data, such as the sample mean or proportion.\n",
    "Margin of error: This represents the range of values added and subtracted from the sample statistic to form the interval. It accounts for the variability and uncertainty in the estimate.\n",
    "Confidence level: This is the level of confidence or probability that the interval contains the true population parameter. It is often expressed as a percentage, such as 95% or 99%.\n",
    "The general formula for calculating a confidence interval is:\n",
    "\n",
    "Confidence Interval = Sample statistic ± (Margin of error)\n",
    "\n",
    "The margin of error is determined by the variability of the data and the desired level of confidence. It can be calculated using formulas specific to the parameter being estimated (e.g., mean, proportion) and the sample size.\n",
    "\n"
   ]
  },
  {
   "cell_type": "markdown",
   "id": "98ffe330-a758-4d2d-9d06-2c998270e6ab",
   "metadata": {},
   "source": [
    "Q6. Use Bayes' Theorem to calculate the probability of an event occurring given prior knowledge of the\n",
    "event's probability and new evidence. Provide a sample problem and solution."
   ]
  },
  {
   "cell_type": "markdown",
   "id": "d3753160-ade4-4eeb-8f6d-4c43e60d592e",
   "metadata": {},
   "source": [
    "Certainly! Let's consider a sample problem where we will use Bayes' Theorem to calculate the probability of an event given prior knowledge and new evidence.\n",
    "\n",
    "Problem:\n",
    "Suppose a factory produces two types of products, A and B. Historically, 60% of the products are of type A, while the remaining 40% are of type B. The factory has a faulty machine that produces defective products. It is known that 5% of type A products and 10% of type B products are defective. Now, a product is randomly selected, and it is found to be defective. What is the probability that the selected product is of type B?\n",
    "\n",
    "Solution:\n",
    "Let's define the events:\n",
    "A: Selected product is of type A\n",
    "B: Selected product is of type B\n",
    "D: Selected product is defective\n",
    "\n",
    "We need to calculate P(B|D), which represents the probability that the selected product is of type B given that it is defective.\n",
    "\n",
    "Using Bayes' Theorem:\n",
    "\n",
    "P(B|D) = (P(D|B) * P(B)) / P(D)\n",
    "\n",
    "P(D|B) represents the probability of a defective product given that it is of type B, which is 10% or 0.10.\n",
    "P(B) represents the prior probability of selecting a type B product, which is 40% or 0.40.\n",
    "P(D) represents the probability of a product being defective, regardless of the type. We can calculate it using the law of total probability:\n",
    "P(D) = P(D|A) * P(A) + P(D|B) * P(B)\n",
    "\n",
    "P(D|A) represents the probability of a defective product given that it is of type A, which is 5% or 0.05.\n",
    "P(A) represents the prior probability of selecting a type A product, which is 60% or 0.60.\n",
    "Calculating P(D):\n",
    "\n",
    "P(D) = P(D|A) * P(A) + P(D|B) * P(B)\n",
    "= 0.05 * 0.60 + 0.10 * 0.40\n",
    "= 0.03 + 0.04\n",
    "= 0.07\n",
    "\n",
    "Now, substituting the values into Bayes' Theorem:\n",
    "\n",
    "P(B|D) = (P(D|B) * P(B)) / P(D)\n",
    "= (0.10 * 0.40) / 0.07\n",
    "= 0.04 / 0.07\n",
    "≈ 0.5714\n",
    "\n",
    "Therefore, the probability that the selected defective product is of type B is approximately 0.5714 or 57.14%.\n",
    "\n",
    "This calculation demonstrates how Bayes' Theorem can be used to update the probability of an event (selecting a type B product) given prior knowledge (the proportion of type B products) and new evidence (the product being defective).\n",
    "\n",
    "\n",
    "\n",
    "\n",
    "\n"
   ]
  },
  {
   "cell_type": "markdown",
   "id": "3a430a85-3609-4eb4-a3f2-eb00455e24c1",
   "metadata": {},
   "source": [
    "Q7. Calculate the 95% confidence interval for a sample of data with a mean of 50 and a standard deviation\n",
    "of 5. Interpret the results."
   ]
  },
  {
   "cell_type": "markdown",
   "id": "69d77698-50ff-410f-bdc5-f817631e598e",
   "metadata": {},
   "source": [
    "To calculate the 95% confidence interval for a sample of data with a mean of 50 and a standard deviation of 5, we need to know the sample size. The confidence interval depends on the sample size because it influences the precision of the estimate. Without the sample size, we cannot provide an accurate calculation. Could you please provide the sample size?"
   ]
  },
  {
   "cell_type": "markdown",
   "id": "64193385-772f-44b0-a1b1-40f0cd7a2533",
   "metadata": {},
   "source": [
    "Q8. What is the margin of error in a confidence interval? How does sample size affect the margin of error?\n",
    "Provide an example of a scenario where a larger sample size would result in a smaller margin of error."
   ]
  },
  {
   "cell_type": "markdown",
   "id": "84203545-1793-42ac-bacd-801a6e9f0336",
   "metadata": {},
   "source": [
    "The margin of error in a confidence interval represents the range of values added and subtracted from the sample statistic (such as the mean or proportion) to form the interval. It quantifies the uncertainty or variability associated with estimating the population parameter based on a sample.\n",
    "\n",
    "The margin of error is influenced by several factors, including the sample size, the variability of the data, and the desired level of confidence. However, one key relationship is that an increase in sample size generally leads to a smaller margin of error.\n",
    "\n",
    "When the sample size is larger, it provides more information about the population, resulting in a more precise estimate. With a larger sample size, the variability of the data tends to decrease, leading to a smaller margin of error. In other words, the estimate becomes more accurate and closer to the true population parameter.\n",
    "\n",
    "Here's an example to illustrate how a larger sample size leads to a smaller margin of error:\n",
    "\n",
    "Scenario:\n",
    "Suppose you are conducting a survey to estimate the proportion of people in a city who support a certain policy. You initially sample 100 individuals and find that 60 of them support the policy.\n",
    "\n",
    "To calculate a 95% confidence interval for the true proportion of supporters, you would use the formula:\n",
    "\n",
    "Margin of error = Z * sqrt((p * (1 - p)) / n)\n",
    "\n",
    "Where:\n",
    "\n",
    "Z represents the critical value corresponding to the desired level of confidence (e.g., 1.96 for a 95% confidence level).\n",
    "p represents the sample proportion (60/100 = 0.6).\n",
    "n represents the sample size (100).\n",
    "Now, let's consider a larger sample size of 500 individuals.\n",
    "\n",
    "For the larger sample size:\n",
    "\n",
    "The sample proportion is still 60/500 = 0.12.\n",
    "The critical value remains the same (e.g., 1.96 for a 95% confidence level).\n",
    "The sample size is now 500.\n",
    "Calculating the margin of error for both scenarios, we find:\n",
    "\n",
    "For the initial sample size of 100:\n",
    "Margin of error = 1.96 * sqrt((0.6 * (1 - 0.6)) / 100) ≈ 0.093\n",
    "\n",
    "For the larger sample size of 500:\n",
    "Margin of error = 1.96 * sqrt((0.12 * (1 - 0.12)) / 500) ≈ 0.033\n",
    "\n",
    "In this example, we can see that the margin of error decreases with a larger sample size. The larger sample size provides more precise information about the population proportion, resulting in a smaller margin of error. This indicates that the estimate becomes more reliable and allows for more accurate inferences about the true population proportion.\n",
    "\n",
    "\n",
    "\n",
    "\n"
   ]
  },
  {
   "cell_type": "markdown",
   "id": "2681bf73-be5c-46f9-9df5-16d04cda0dc0",
   "metadata": {},
   "source": [
    "Q9. Calculate the z-score for a data point with a value of 75, a population mean of 70, and a population\n",
    "standard deviation of 5. Interpret the results."
   ]
  },
  {
   "cell_type": "markdown",
   "id": "e1d9b0cf-1bca-42fd-8c67-386ef3000662",
   "metadata": {},
   "source": [
    "To calculate the z-score for a data point, we use the formula:\n",
    "\n",
    "z = (x - μ) / σ\n",
    "\n",
    "Where:\n",
    "\n",
    "x is the data point value.\n",
    "μ is the population mean.\n",
    "σ is the population standard deviation.\n",
    "Given the values:\n",
    "x = 75\n",
    "μ = 70\n",
    "σ = 5\n",
    "\n",
    "Calculating the z-score:\n",
    "\n",
    "z = (75 - 70) / 5\n",
    "= 5 / 5\n",
    "= 1\n",
    "\n",
    "The z-score for the data point with a value of 75 is 1.\n",
    "\n",
    "Interpreting the results:\n",
    "The z-score measures the number of standard deviations a data point is away from the mean. In this case, a z-score of 1 indicates that the data point of 75 is 1 standard deviation above the population mean of 70.\n",
    "\n",
    "A positive z-score indicates that the data point is above the mean, while a negative z-score would indicate a data point below the mean. The magnitude of the z-score indicates the distance from the mean in terms of standard deviations"
   ]
  },
  {
   "cell_type": "markdown",
   "id": "7525208a-e429-48db-b8aa-719410d184fe",
   "metadata": {},
   "source": [
    "Q10. In a study of the effectiveness of a new weight loss drug, a sample of 50 participants lost an average\n",
    "of 6 pounds with a standard deviation of 2.5 pounds. Conduct a hypothesis test to determine if the drug is\n",
    "significantly effective at a 95% confidence level using a t-test."
   ]
  },
  {
   "cell_type": "markdown",
   "id": "b9ab308c-5cc8-48f5-a33f-38a85fad1662",
   "metadata": {},
   "source": [
    "Certainly! Let's consider a sample problem where we will use Bayes' Theorem to calculate the probability of an event given prior knowledge and new evidence.\n",
    "\n",
    "Problem:\n",
    "Suppose a factory produces two types of products, A and B. Historically, 60% of the products are of type A, while the remaining 40% are of type B. The factory has a faulty machine that produces defective products. It is known that 5% of type A products and 10% of type B products are defective. Now, a product is randomly selected, and it is found to be defective. What is the probability that the selected product is of type B?\n",
    "\n",
    "Solution:\n",
    "Let's define the events:\n",
    "A: Selected product is of type A\n",
    "B: Selected product is of type B\n",
    "D: Selected product is defective\n",
    "\n",
    "We need to calculate P(B|D), which represents the probability that the selected product is of type B given that it is defective.\n",
    "\n",
    "Using Bayes' Theorem:\n",
    "\n",
    "P(B|D) = (P(D|B) * P(B)) / P(D)\n",
    "\n",
    "P(D|B) represents the probability of a defective product given that it is of type B, which is 10% or 0.10.\n",
    "P(B) represents the prior probability of selecting a type B product, which is 40% or 0.40.\n",
    "P(D) represents the probability of a product being defective, regardless of the type. We can calculate it using the law of total probability:\n",
    "P(D) = P(D|A) * P(A) + P(D|B) * P(B)\n",
    "\n",
    "P(D|A) represents the probability of a defective product given that it is of type A, which is 5% or 0.05.\n",
    "P(A) represents the prior probability of selecting a type A product, which is 60% or 0.60.\n",
    "Calculating P(D):\n",
    "\n",
    "P(D) = P(D|A) * P(A) + P(D|B) * P(B)\n",
    "= 0.05 * 0.60 + 0.10 * 0.40\n",
    "= 0.03 + 0.04\n",
    "= 0.07\n",
    "\n",
    "Now, substituting the values into Bayes' Theorem:\n",
    "\n",
    "P(B|D) = (P(D|B) * P(B)) / P(D)\n",
    "= (0.10 * 0.40) / 0.07\n",
    "= 0.04 / 0.07\n",
    "≈ 0.5714\n",
    "\n",
    "Therefore, the probability that the selected defective product is of type B is approximately 0.5714 or 57.14%.\n",
    "\n",
    "This calculation demonstrates how Bayes' Theorem can be used to update the probability of an event (selecting a type B product) given prior knowledge (the proportion of type B products) and new evidence (the product being defective).\n",
    "\n",
    "\n",
    "\n",
    "\n",
    "\n",
    "User\n",
    "Q7. Calculate the 95% confidence interval for a sample of data with a mean of 50 and a standard deviation\n"
   ]
  },
  {
   "cell_type": "markdown",
   "id": "a4ea6bc2-dc7e-4035-be0e-4d962efe2079",
   "metadata": {},
   "source": [
    "Q11. In a survey of 500 people, 65% reported being satisfied with their current job. Calculate the 95%\n",
    "confidence interval for the true proportion of people who are satisfied with their job."
   ]
  },
  {
   "cell_type": "markdown",
   "id": "4eeed2b2-4224-4165-97df-2ceee8fc66c6",
   "metadata": {},
   "source": [
    "To calculate the 95% confidence interval for the true proportion of people who are satisfied with their job, we can use the formula:\n",
    "\n",
    "Confidence Interval = Sample proportion ± (Z * Standard Error)\n",
    "\n",
    "Where:\n",
    "\n",
    "Sample proportion is the proportion of people in the survey who reported being satisfied with their job (65% or 0.65).\n",
    "Z is the critical value corresponding to the desired level of confidence. For a 95% confidence level, the critical value is approximately 1.96.\n",
    "Standard Error is the standard deviation of the sampling distribution, which can be calculated as the square root of [(Sample proportion * (1 - Sample proportion)) / Sample size].\n",
    "Given:\n",
    "Sample proportion (p) = 0.65\n",
    "Sample size (n) = 500\n",
    "Critical value (Z) for a 95% confidence level = 1.96\n",
    "\n",
    "Calculating the standard error:\n",
    "Standard Error = sqrt[(p * (1 - p)) / n]\n",
    "= sqrt[(0.65 * (1 - 0.65)) / 500]\n",
    "≈ 0.022\n",
    "\n",
    "Calculating the confidence interval:\n",
    "Confidence Interval = 0.65 ± (1.96 * 0.022)\n",
    "= (0.606, 0.694)\n",
    "\n",
    "The 95% confidence interval for the true proportion of people who are satisfied with their job is approximately (0.606, 0.694). This means that we can be 95% confident that the true proportion of people satisfied with their job falls within this interval.\n",
    "\n",
    "Interpretation:\n",
    "Based on the survey data, we estimate that the proportion of people satisfied with their job in the population is between 60.6% and 69.4% with 95% confidence. This interval provides a range of values that likely contains the true population proportion. The narrower the interval, the more precise our estimate is.\n",
    "\n",
    "\n",
    "\n",
    "\n",
    "\n",
    "\n"
   ]
  },
  {
   "cell_type": "markdown",
   "id": "225e58f7-dff8-498b-84e1-1e136296b685",
   "metadata": {},
   "source": [
    "Q12. A researcher is testing the effectiveness of two different teaching methods on student performance.\n",
    "Sample A has a mean score of 85 with a standard deviation of 6, while sample B has a mean score of 82\n",
    "with a standard deviation of 5. Conduct a hypothesis test to determine if the two teaching methods have a\n",
    "significant difference in student performance using a t-test with a significance level of 0.01. "
   ]
  },
  {
   "cell_type": "markdown",
   "id": "69faf181-a4c8-41c0-b615-6dd2525a4f55",
   "metadata": {},
   "source": [
    "To conduct a hypothesis test to determine if the two teaching methods have a significant difference in student performance, we will use a two-sample t-test. The null hypothesis (H0) assumes that there is no significant difference between the two teaching methods, while the alternative hypothesis (Ha) suggests that there is a significant difference.\n",
    "\n",
    "Given:\n",
    "Sample A: Mean score = 85, Standard deviation = 6\n",
    "Sample B: Mean score = 82, Standard deviation = 5\n",
    "Significance level (α) = 0.01 (or 1%)\n",
    "\n",
    "Hypotheses:\n",
    "Null hypothesis (H0): The mean scores of the two teaching methods are equal. μA = μB\n",
    "Alternative hypothesis (Ha): The mean scores of the two teaching methods are significantly different. μA ≠ μB\n",
    "\n",
    "Step 1: Calculate the test statistic (t-value):\n",
    "The test statistic for a two-sample t-test is given by:\n",
    "t = (x̄A - x̄B) / √[(sA^2 / nA) + (sB^2 / nB)]\n",
    "where:\n",
    "x̄A and x̄B are the sample means,\n",
    "sA and sB are the sample standard deviations,\n",
    "nA and nB are the sample sizes.\n",
    "\n",
    "Calculating the test statistic:\n",
    "\n",
    "t = (85 - 82) / √[(6^2 / nA) + (5^2 / nB)]\n",
    "\n",
    "Since the sample sizes (nA and nB) are not provided in the question, we need this information to proceed with the calculations. Please provide the sample sizes for both sample A and sample B.\n",
    "\n",
    "With the sample sizes, we can calculate the test statistic.\n",
    "\n",
    "Step 2: Determine the critical value or p-value:\n",
    "For a two-tailed t-test at a significance level of 0.01, we need to find the critical t-value with degrees of freedom calculated based on the sample sizes (nA and nB). Once we have the test statistic (t-value), we can compare it to the critical value or calculate the p-value to make a decision.\n",
    "\n",
    "Please provide the sample sizes for both sample A and sample B, so we can continue with the calculations and interpret the results accurately.\n",
    "\n",
    "\n",
    "\n",
    "\n"
   ]
  }
 ],
 "metadata": {
  "kernelspec": {
   "display_name": "Python 3 (ipykernel)",
   "language": "python",
   "name": "python3"
  },
  "language_info": {
   "codemirror_mode": {
    "name": "ipython",
    "version": 3
   },
   "file_extension": ".py",
   "mimetype": "text/x-python",
   "name": "python",
   "nbconvert_exporter": "python",
   "pygments_lexer": "ipython3",
   "version": "3.10.8"
  }
 },
 "nbformat": 4,
 "nbformat_minor": 5
}
