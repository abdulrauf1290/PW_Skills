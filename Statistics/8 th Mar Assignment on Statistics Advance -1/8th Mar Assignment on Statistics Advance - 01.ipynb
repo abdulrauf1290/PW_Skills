{
 "cells": [
  {
   "cell_type": "markdown",
   "id": "d23fe828-5412-42eb-964f-4ee543250f3f",
   "metadata": {},
   "source": [
    "Q1. What is the Probability density function?"
   ]
  },
  {
   "cell_type": "markdown",
   "id": "a18d48db-7b1b-4331-94f7-affb55faaa11",
   "metadata": {},
   "source": [
    "The probability density function (PDF) is a concept used in probability theory and statistics to describe the probability distribution of a continuous random variable.\n",
    "\n",
    "In simpler terms, the PDF represents the likelihood of a random variable taking on a specific value within a given range. Unlike discrete random variables that can only take on specific values, continuous random variables can take on any value within a certain range.\n",
    "\n",
    "The PDF is a non-negative function that integrates to 1 over its entire range. It is denoted by f(x), where x represents the value of the random variable. The PDF provides information about the relative likelihood of different values occurring.\n",
    "\n",
    "Mathematically, for a continuous random variable X, the PDF is defined as follows:\n",
    "\n",
    "f(x) = P(a ≤ X ≤ b) / (b - a)"
   ]
  },
  {
   "cell_type": "markdown",
   "id": "88f50fdb-4f90-48ee-a1f2-1d8a4dbf4c2b",
   "metadata": {},
   "source": [
    "Q2. What are the types of Probability distribution?"
   ]
  },
  {
   "cell_type": "markdown",
   "id": "69fc7c76-5b12-48be-bb5a-cf63144fcbdc",
   "metadata": {},
   "source": [
    "There are several types of probability distributions used to model the behavior of random variables. Here are some common types:\n",
    "\n",
    "Uniform Distribution: In this distribution, all outcomes within a given range have equal probability. The probability density function (PDF) is constant over the range. Examples include rolling a fair die or selecting a random number from a uniform distribution between two values.\n",
    "\n",
    "Normal Distribution (Gaussian Distribution): This is one of the most widely used distributions in statistics. It is characterized by a bell-shaped curve symmetrically centered around its mean. Many natural phenomena, such as heights and weights of individuals, follow a normal distribution. The PDF of the normal distribution is given by the famous bell-shaped curve.\n",
    "\n",
    "Exponential Distribution: This distribution is often used to model the time between events in a Poisson process, where events occur randomly and independently over time. It is characterized by a decreasing PDF, with a rapid drop-off initially followed by a long tail.\n",
    "\n",
    "Binomial Distribution: The binomial distribution models the number of successes in a fixed number of independent Bernoulli trials. Each trial has only two possible outcomes: success or failure. The distribution is characterized by two parameters: the number of trials and the probability of success in each trial.\n",
    "\n",
    "Poisson Distribution: The Poisson distribution models the number of events that occur in a fixed interval of time or space. It is often used to model rare events that occur randomly. The distribution is characterized by a single parameter, often denoted as λ (lambda), which represents the average rate of occurrence.\n",
    "\n"
   ]
  },
  {
   "cell_type": "markdown",
   "id": "5793ffb7-8e1b-447b-afa4-8c4b97d96a41",
   "metadata": {},
   "source": [
    "Q3. Write a Python function to calculate the probability density function of a normal distribution with\n",
    "given mean and standard deviation at a given point."
   ]
  },
  {
   "cell_type": "code",
   "execution_count": 5,
   "id": "c608f019-f502-4892-8a5c-a8d089e0fd81",
   "metadata": {},
   "outputs": [
    {
     "name": "stdout",
     "output_type": "stream",
     "text": [
      "0.12951759566589174\n"
     ]
    }
   ],
   "source": [
    "import math\n",
    "\n",
    "def normal_pdf(x, mean, std_dev):\n",
    "    exponent = -((x - mean) ** 2) / (2 * std_dev ** 2)\n",
    "    coefficient = 1 / (std_dev * math.sqrt(2 * math.pi))\n",
    "    pdf = coefficient * math.exp(exponent)\n",
    "    return pdf\n",
    "\n",
    "mean = 0  # Mean of the normal distribution\n",
    "std_dev = 1  # Standard deviation of the normal distribution\n",
    "x = 1.5  # Point at which you want to calculate the PDF\n",
    "\n",
    "pdf_value = normal_pdf(x, mean, std_dev)\n",
    "print(pdf_value)\n"
   ]
  },
  {
   "cell_type": "markdown",
   "id": "ded0b580-2d4f-4b6e-800d-a25fa1906155",
   "metadata": {},
   "source": [
    "Q4. What are the properties of Binomial distribution? Give two examples of events where binomial\n",
    "distribution can be applied."
   ]
  },
  {
   "cell_type": "markdown",
   "id": "811a5635-c656-4381-b3a0-2982ca546f48",
   "metadata": {},
   "source": [
    "The binomial distribution has several key properties:\n",
    "\n",
    "1) Fixed Number of Trials: The binomial distribution models a fixed number of independent trials or experiments. Each trial can have only two possible outcomes, often referred to as success and failure.\n",
    "\n",
    "2) Independent Trials: The trials are assumed to be independent of each other, meaning the outcome of one trial does not affect the outcome of another.\n",
    "\n",
    "3) Constant Probability: The probability of success (often denoted as p) remains constant from trial to trial. The probability of failure is complementary to the probability of success (1 - p).\n",
    "\n",
    "4) Discrete Distribution: The binomial distribution is a discrete probability distribution since it deals with a finite number of possible outcomes.\n",
    "\n"
   ]
  },
  {
   "cell_type": "markdown",
   "id": "bee59d27-958d-4f89-aea2-265c889a2e23",
   "metadata": {},
   "source": [
    "Q5. Generate a random sample of size 1000 from a binomial distribution with probability of success 0.4\n",
    "and plot a histogram of the results using matplotlib."
   ]
  },
  {
   "cell_type": "code",
   "execution_count": 27,
   "id": "e0485b87-5550-457f-baca-0d4bb78b2d87",
   "metadata": {},
   "outputs": [],
   "source": [
    "import numpy as np\n",
    "import matplotlib.pyplot as plt\n"
   ]
  },
  {
   "cell_type": "code",
   "execution_count": 28,
   "id": "36655447-c20a-48d8-93bf-611eecaca416",
   "metadata": {},
   "outputs": [],
   "source": [
    "n = 1000\n",
    "p = 0.4"
   ]
  },
  {
   "cell_type": "code",
   "execution_count": 29,
   "id": "cdd0e8a3-df23-41e4-96e7-09893dc75a48",
   "metadata": {},
   "outputs": [
    {
     "data": {
      "image/png": "[encoded data removed]",
      "text/plain": [
       "<Figure size 640x480 with 1 Axes>"
      ]
     },
     "metadata": {},
     "output_type": "display_data"
    }
   ],
   "source": [
    "\n",
    "sample = np.random.binomial(n, p, size=1000)\n",
    "\n",
    "plt.hist(sample, bins=20, edgecolor='black')\n",
    "plt.xlabel('Number of Successes')\n",
    "plt.ylabel('Frequency')\n",
    "plt.title('Histogram of Binomial Distribution')\n",
    "plt.show()\n"
   ]
  },
  {
   "cell_type": "code",
   "execution_count": null,
   "id": "e1f96a89-8592-49e5-8ced-1f7b84ad1933",
   "metadata": {},
   "outputs": [],
   "source": [
    "Q6. Write a Python function to calculate the cumulative distribution function of a Poisson distribution\n",
    "with given mean at a given point."
   ]
  },
  {
   "cell_type": "code",
   "execution_count": 31,
   "id": "48a9d6ea-f607-4a80-b897-b522ac9dab24",
   "metadata": {},
   "outputs": [],
   "source": [
    "import math\n",
    "\n",
    "def poisson_cdf(x, mean):\n",
    "    cdf = 0\n",
    "    for i in range(x + 1):\n",
    "        cdf += (math.exp(-mean) * mean**i) / math.factorial(i)\n",
    "    return cdf\n"
   ]
  },
  {
   "cell_type": "code",
   "execution_count": 32,
   "id": "1babfad5-0a69-4bd8-af71-76b80d1c0e41",
   "metadata": {},
   "outputs": [
    {
     "name": "stdout",
     "output_type": "stream",
     "text": [
      "0.3208471988621341\n"
     ]
    }
   ],
   "source": [
    "mean = 3.5  # Mean of the Poisson distribution\n",
    "x = 2  # Point at which you want to calculate the CDF\n",
    "\n",
    "cdf_value = poisson_cdf(x, mean)\n",
    "print(cdf_value)\n"
   ]
  },
  {
   "cell_type": "markdown",
   "id": "3f63ec4b-a6f7-46e1-b56b-1ec58a67dbc7",
   "metadata": {},
   "source": [
    "Q7. How Binomial distribution different from Poisson distribution?"
   ]
  },
  {
   "cell_type": "markdown",
   "id": "46b17e72-02b9-4aa8-b3c6-03f5e5b489a0",
   "metadata": {},
   "source": [
    "The Binomial distribution and the Poisson distribution are both probability distributions used to model discrete events. However, they have distinct differences in terms of their assumptions, characteristics, and applications. Here are some key differences between the two:\n",
    "\n",
    "Assumptions:\n",
    "\n",
    "Binomial Distribution: The Binomial distribution assumes a fixed number of independent trials or events, each with two possible outcomes (success or failure). The probability of success remains constant across trials.\n",
    "Poisson Distribution: The Poisson distribution assumes that events occur randomly and independently in a given interval or space. The average rate of occurrence, denoted by λ (lambda), remains constant.\n",
    "Number of Possible Outcomes:\n",
    "\n",
    "Binomial Distribution: The Binomial distribution deals with a finite number of possible outcomes, as the number of trials is fixed.\n",
    "Poisson Distribution: The Poisson distribution deals with an infinite number of possible outcomes, as the occurrences can range from 0 to infinity.\n",
    "Probability of Success:\n",
    "\n",
    "Binomial Distribution: The probability of success in each trial remains constant throughout the experiment.\n",
    "Poisson Distribution: The probability of success is not explicitly defined in the Poisson distribution. Instead, the average rate of occurrence (λ) represents the expected number of events in a given interval"
   ]
  },
  {
   "cell_type": "markdown",
   "id": "e70510de-f141-41d9-9320-5a5cd9861c19",
   "metadata": {},
   "source": [
    "Q8. Generate a random sample of size 1000 from a Poisson distribution with mean 5 and calculate the\n",
    "sample mean and variance."
   ]
  },
  {
   "cell_type": "code",
   "execution_count": 34,
   "id": "ef250d4a-c978-4a3f-9f8c-a1443c2171ee",
   "metadata": {},
   "outputs": [],
   "source": [
    "import numpy as np\n"
   ]
  },
  {
   "cell_type": "code",
   "execution_count": 36,
   "id": "19492e51-46c2-4a9f-b54a-45f297b0cb0a",
   "metadata": {},
   "outputs": [],
   "source": [
    "\n",
    "cal = np.random.rand(1000,5)"
   ]
  },
  {
   "cell_type": "code",
   "execution_count": 37,
   "id": "c8579a0a-7b06-44cf-8460-fb8c906e1c7f",
   "metadata": {},
   "outputs": [
    {
     "data": {
      "text/plain": [
       "array([[0.02372626, 0.90187483, 0.00821852, 0.05270504, 0.93205244],\n",
       "       [0.54774577, 0.73141803, 0.658737  , 0.75256781, 0.20567543],\n",
       "       [0.39471761, 0.24365776, 0.33509946, 0.76744877, 0.72586433],\n",
       "       ...,\n",
       "       [0.17802969, 0.6325376 , 0.30875665, 0.74500149, 0.32603988],\n",
       "       [0.30285388, 0.91160402, 0.46131878, 0.2533425 , 0.12439111],\n",
       "       [0.61756453, 0.36232288, 0.53035409, 0.67684649, 0.60229949]])"
      ]
     },
     "execution_count": 37,
     "metadata": {},
     "output_type": "execute_result"
    }
   ],
   "source": [
    "cal"
   ]
  },
  {
   "cell_type": "code",
   "execution_count": 38,
   "id": "4be5faa0-4380-4dca-ba57-663b48e0e263",
   "metadata": {},
   "outputs": [
    {
     "data": {
      "text/plain": [
       "0.49675450032252394"
      ]
     },
     "execution_count": 38,
     "metadata": {},
     "output_type": "execute_result"
    }
   ],
   "source": [
    "cal.mean()"
   ]
  },
  {
   "cell_type": "code",
   "execution_count": 40,
   "id": "1745ed97-0721-4adc-97b6-79520725d100",
   "metadata": {},
   "outputs": [
    {
     "data": {
      "text/plain": [
       "0.08441470121994137"
      ]
     },
     "execution_count": 40,
     "metadata": {},
     "output_type": "execute_result"
    }
   ],
   "source": [
    "cal.var()"
   ]
  },
  {
   "cell_type": "markdown",
   "id": "a929279b-f357-445f-8093-7dd157e7271a",
   "metadata": {},
   "source": [
    "Q9. How mean and variance are related in Binomial distribution and Poisson distribution?"
   ]
  },
  {
   "cell_type": "markdown",
   "id": "f8d31f5a-0251-4548-baff-416d8de5ed0b",
   "metadata": {},
   "source": [
    "In both the Binomial distribution and the Poisson distribution, the mean and variance are related, but the nature of this relationship differs between the two distributions.\n",
    "\n",
    "Binomial Distribution:\n",
    "\n",
    "Mean: For a Binomial distribution with parameters n (number of trials) and p (probability of success in each trial), the mean is given by μ = np, where μ represents the mean.\n",
    "Variance: The variance of a Binomial distribution is given by σ^2 = np(1 - p), where σ^2 represents the variance.\n",
    "In the Binomial distribution, the variance depends on both the number of trials (n) and the probability of success in each trial (p). As the probability of success (p) or the number of trials (n) increases, the variance also tends to increase.\n",
    "\n",
    "Poisson Distribution:\n",
    "\n",
    "Mean: In a Poisson distribution, the mean (λ) represents the average rate of occurrence or average number of events in a given interval.\n",
    "Variance: The variance of a Poisson distribution is equal to its mean, i.e., σ^2 = λ.\n",
    "In the Poisson distribution, the mean and variance are equal. This property is known as \"equidispersion\" and is a unique characteristic of the Poisson distribution. The variance is solely determined by the mean, and as the mean increases, the variance also increases proportionally."
   ]
  },
  {
   "cell_type": "markdown",
   "id": "cd36389e-0170-444b-9d6a-564e96f52bf5",
   "metadata": {},
   "source": [
    "In normal distribution with respect to mean position, where does the least frequent data appear?"
   ]
  },
  {
   "cell_type": "markdown",
   "id": "2c8e2ed5-9a46-44f1-8841-6ca4580b270a",
   "metadata": {},
   "source": [
    "in a normal distribution, the least frequent data points appear in the tails of the distribution, farthest away from the mean. The normal distribution is symmetric, with the mean positioned at the center of the distribution.\n",
    "\n",
    "The tails of the normal distribution represent extreme values, both on the left (lower) and right (upper) sides of the mean. These extreme values occur with lower frequency compared to the values closer to the mean. As you move away from the mean towards the tails, the frequency of occurrence decreases rapidly.\n",
    "\n",
    "In a standard normal distribution (mean = 0, standard deviation = 1), approximately 68% of the data falls within one standard deviation of the mean, 95% falls within two standard deviations, and 99.7% falls within three standard deviations. This implies that only a small percentage of data, approximately 0.3%, falls beyond three standard deviations from the mean on either side.\n",
    "\n",
    "Therefore, the least frequent data points in a normal distribution are found in the tails, farthest away from the mean. These extreme values occur with lower probability and are less likely to be observed in a random sample from the distribution.\n",
    "\n",
    "\n",
    "\n",
    "\n"
   ]
  }
 ],
 "metadata": {
  "kernelspec": {
   "display_name": "Python 3 (ipykernel)",
   "language": "python",
   "name": "python3"
  },
  "language_info": {
   "codemirror_mode": {
    "name": "ipython",
    "version": 3
   },
   "file_extension": ".py",
   "mimetype": "text/x-python",
   "name": "python",
   "nbconvert_exporter": "python",
   "pygments_lexer": "ipython3",
   "version": "3.10.8"
  }
 },
 "nbformat": 4,
 "nbformat_minor": 5
}
