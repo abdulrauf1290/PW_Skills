{
 "cells": [
  {
   "cell_type": "markdown",
   "id": "40e3a463-46b4-4988-b7ca-adcbff6d2440",
   "metadata": {},
   "source": [
    "Q1. What is Statistics?"
   ]
  },
  {
   "cell_type": "markdown",
   "id": "971947f3-49f3-4695-a9f3-0808f86c8fae",
   "metadata": {},
   "source": [
    "Statistics is a science of collectting organizing and analyzing the data is called as statistics"
   ]
  },
  {
   "cell_type": "markdown",
   "id": "8c801810-737b-438f-89ba-82e7a2df834d",
   "metadata": {},
   "source": [
    "Q2. Define the different types of statistics and give an example of when each type might be used.\n",
    "\n",
    "Thre are two types of statistics \n",
    "# 1) Descriptive Statistics\n",
    "# 2) Inferntial Statistics\n",
    "\n",
    "1) Descriptive statistics\n",
    "---> It consist of organizing and summarizing the data\n",
    "measure of central tendency which in measure of central tendency topics are like mean median mode\n",
    "measure of dispersion variance and standardiviation\n",
    "different type of distribution of data \n",
    "eg histogram, pdf, pmf\n",
    "\n",
    " 2) inferntial statistics\n",
    "---> it consis of using data we have measured to form conclusion \n",
    "in inferntial statistics topics are  like \n",
    "Z-test\n",
    "T-test\n",
    "CHI square\n",
    "Hypothensis testing \n",
    "P value\n",
    "Ho value\n",
    "H value\n",
    "significane value\n"
   ]
  },
  {
   "cell_type": "markdown",
   "id": "dd52453a-4b2a-43fb-aa85-c62bd0fa14d9",
   "metadata": {},
   "source": [
    "Q3. What are the different types of data and how do they differ from each other? Provide an example of\n",
    "each type of data. \n",
    "\n",
    "there are various types of data each with its won characterstics and suitable analysis method s\n",
    "here are some common types of data\n",
    "Nominal Data: Nominal data represents categories or groups that have no intrinsic order or ranking. It involves qualitative distinctions, and the data points are typically labels or names. Examples include gender (male, female), eye color (blue, brown, green), or country of origin (USA, UK, Canada).\n",
    "\n",
    "Ordinal Data: Ordinal data also represents categories, but they have a specific order or ranking associated with them. The intervals between the categories may not be uniform. Examples include survey ratings like 1-5 scale satisfaction levels (1 = very dissatisfied, 5 = very satisfied) or education levels (e.g., elementary, middle, high school, college).\n",
    "\n",
    "Interval Data: Interval data represents numeric or continuous values with equal intervals between them, but there is no true zero point. Arithmetic operations such as addition and subtraction can be performed on interval data. Examples include temperature measured in degrees Celsius or Fahrenheit, or years (e.g., 1990, 2000, 2010).\n",
    "\n",
    "Ratio Data: Ratio data is similar to interval data, but it has a true zero point, representing the absence of the measured quantity. This type of data allows for all arithmetic operations, including multiplication and division. Examples include weight, height, or time taken to complete a task.\n",
    "\n",
    "Discrete Data: Discrete data consists of whole numbers or countable values that have distinct separations. These values typically result from counting or enumerating. Examples include the number of students in a class, the number of cars in a parking lot, or the number of goals scored in a soccer match.\n",
    "\n"
   ]
  },
  {
   "cell_type": "markdown",
   "id": "1aa1cd66-d513-4196-922d-37cd244a49ff",
   "metadata": {},
   "source": [
    "Q4. Categorise the following datasets with respect to quantitative and qualitative data types:\n",
    "\n",
    "(i) Grading in exam: A+, A, B+, B, C+, C, D, E\n",
    "\n",
    "(ii) Colour of mangoes: yellow, green, orange, red\n",
    "\n",
    "(iii) Height data of a class: [178.9, 179, 179.5, 176, 177.2, 178.3, 175.8,...]\n",
    "\n",
    "(iv) Number of mangoes exported by a farm: [500, 600, 478, 672, ...]\n"
   ]
  },
  {
   "cell_type": "markdown",
   "id": "627b2475-ddb3-480d-872b-c6b0c92b4405",
   "metadata": {},
   "source": [
    "i) Nominal Data(Qualitative) \n",
    "\n",
    "ii) Ordenary Data(Qualitative)\n",
    "\n",
    "iii) Continous Data(Quantitative)\n",
    "\n",
    "iv) District Data(Quantitative)"
   ]
  },
  {
   "cell_type": "markdown",
   "id": "24e82081-53ae-4906-897a-dafe8e96b9bd",
   "metadata": {},
   "source": [
    "Q6. Why is it important to understand the level of measurement when analyzing data? Provide an\n",
    "example to illustrate your answer. \n",
    "\n",
    "---> \n",
    "Understanding the level of measurement is crucial when analyzing data because it determines the appropriate statistical techniques and operations that can be applied to the data. It helps in selecting the right analysis methods, interpreting the results accurately, and drawing meaningful conclusions. Here's an example to illustrate the importance of understanding the level of measurement:\n",
    "\n",
    "Let's consider a dataset that contains information about the favorite colors of a group of individuals. The dataset includes the following data:\n",
    "\n",
    "John: Blue\n",
    "Mary: Green\n",
    "David: Red\n",
    "Sarah: Blue\n",
    "Michael: Green\n",
    "If we treat this dataset as quantitative data without understanding the level of measurement, we might mistakenly perform mathematical operations such as calculating the mean or standard deviation. However, since the data represents qualitative categories (colors), these calculations would not provide meaningful insights "
   ]
  },
  {
   "cell_type": "markdown",
   "id": "b1f65320-ce32-4898-98ce-bb5d940d9315",
   "metadata": {},
   "source": [
    "Q7. How nominal data type is different from ordinal data type. "
   ]
  },
  {
   "cell_type": "markdown",
   "id": "5473428f-e7ad-47a3-a314-96ef2c460b65",
   "metadata": {},
   "source": [
    "Nominal and ordinal data types are both types of qualitative data, but they differ in terms of the nature of the categories and the level of measurement. Here's how nominal data type is different from ordinal data type:\n",
    "\n",
    "Nominal Data:\n",
    "\n",
    "Nominal data represents categories or labels that have no inherent order or ranking.\n",
    "The categories in nominal data are mutually exclusive and do not have a numerical value associated with them.\n",
    "Nominal data can be thought of as \"naming\" or classifying data into distinct groups or categories.\n",
    "Examples of nominal data include gender (male, female), eye color (blue, brown, green), or types of fruit (apple, orange, banan\n",
    "\n",
    "Ordinal Data:\n",
    "\n",
    "Ordinal data represents categories or labels with an inherent order or ranking.\n",
    "The categories in ordinal data have a meaningful sequence or hierarchy.\n",
    "The order between the categories is meaningful but the intervals between them may not be uniform or quantifiable.\n",
    "Ordinal data captures the notion of relative rankings or preferences.\n",
    "Examples of ordinal data include survey ratings (1 = strongly disagree, 2 = disagree, 3 = neutral, 4 = agree, 5 = strongly agree), education levels (elementary, middle, high school, college), or military ranks (private, sergeant, captain, general)."
   ]
  },
  {
   "cell_type": "markdown",
   "id": "1ed9c7eb-4227-435a-a9fb-4725a7af23fe",
   "metadata": {},
   "source": [
    "Q8. Which type of plot can be used to display data in terms of range? \n",
    "\n",
    "---> \n",
    "To display data in terms of range, a common plot that can be used is a box plot (also known as a box-and-whisker plot). A box plot provides a visual representation of the range, as well as other statistical measures such as the median, quartiles, and outliers.\n",
    "\n",
    "A box plot typically consists of a box that represents the interquartile range (IQR), with a line inside indicating the median. The whiskers extend from the box to show the minimum and maximum values within a specified range or to the extent of the data. Outliers, if any, are shown as individual points beyond the whiskers."
   ]
  },
  {
   "cell_type": "markdown",
   "id": "fa5836f1-a0c0-49d2-8f79-dd7b51e1d893",
   "metadata": {},
   "source": [
    "Q9. Describe the difference between descriptive and inferential statistics. Give an example of each\n",
    "type of statistics and explain how they are used. \n",
    "\n",
    "\n",
    "---> \n",
    "Descriptive Statistics:\n",
    "Descriptive statistics involves summarizing and describing the main characteristics of a dataset. It focuses on organizing, presenting, and analyzing data to provide a clear and meaningful description of the data. Descriptive statistics aims to uncover patterns, trends, and insights within the data without making inferences or generalizations beyond the observed data. \n",
    "\n",
    "Example: Suppose you have a dataset containing the heights of students in a classroom. Descriptive statistics would involve calculating measures such as the mean height, median height, and standard deviation to summarize the central tendency and variability of the heights within the observed data.\n",
    "\n",
    "inferential Statistics:\n",
    "Inferential statistics involves drawing conclusions, making predictions, or generalizing findings from a sample to a larger population. It goes beyond the observed data to make inferences about the population based on statistical analysis. Inferential statistics uses probability theory and sampling techniques to estimate population parameters and test hypotheses.\n",
    "\n",
    "Example: Consider a scenario where you want to determine if there is a significant difference in the average heights of male and female students in the entire school population. You could collect a sample of heights from both genders, conduct statistical tests (such as a t-test) on the sample data, and use inferential statistics to make conclusions about the entire population. "
   ]
  },
  {
   "cell_type": "markdown",
   "id": "00390fc4-f090-40f5-845a-5c82bc175d43",
   "metadata": {},
   "source": [
    "Q10. What are some common measures of central tendency and variability used in statistics? Explain\n",
    "how each measure can be used to describe a dataset."
   ]
  }
 ],
 "metadata": {
  "kernelspec": {
   "display_name": "Python 3 (ipykernel)",
   "language": "python",
   "name": "python3"
  },
  "language_info": {
   "codemirror_mode": {
    "name": "ipython",
    "version": 3
   },
   "file_extension": ".py",
   "mimetype": "text/x-python",
   "name": "python",
   "nbconvert_exporter": "python",
   "pygments_lexer": "ipython3",
   "version": "3.10.8"
  }
 },
 "nbformat": 4,
 "nbformat_minor": 5
}
