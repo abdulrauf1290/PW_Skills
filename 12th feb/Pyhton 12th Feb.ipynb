{
 "cells": [
  {
   "cell_type": "raw",
   "id": "8e80a8f7",
   "metadata": {},
   "source": [
    "Q1. What is an Exception in python? Write the difference between Exceptions and Syntax errors.\n"
   ]
  },
  {
   "cell_type": "raw",
   "id": "af1c2a89",
   "metadata": {},
   "source": [
    "---> \n",
    "    An exception is an event that occurs during the execution of a program, disrupting the normal flow of the program's instructions. When an exception is raised, the program jumps to a specific code block called an exception handler that can handle the exception and prevent the program from terminating abruptly.\n",
    "\n",
    "The main difference between exceptions and syntax errors is as follows:\n",
    "\n",
    "Exceptions occur during the runtime of a program, while syntax errors are detected by the Python interpreter before the program starts running.\n",
    "\n",
    "Syntax errors are caused by violations of the Python language syntax rules, such as misspelled keywords or incorrect indentation. These errors prevent the program from being compiled or interpreted.\n",
    "\n",
    "Exceptions, on the other hand, occur when the program is running and encounters an unforeseen condition or situation that it cannot handle, such as dividing by zero or accessing an undefined variable.\n",
    "\n",
    "Syntax errors need to be fixed before the program can be executed, while exceptions can be handled and recovered from within the program using exception handling mechanisms like try-except blocks.|"
   ]
  },
  {
   "cell_type": "raw",
   "id": "201c0478",
   "metadata": {},
   "source": [
    "Q2. What happens when an exception is not handled? Explain with an example."
   ]
  },
  {
   "cell_type": "raw",
   "id": "7f3b2e2d",
   "metadata": {},
   "source": [
    " When an exception is not handled in a program, it leads to an abrupt termination of the program and an error message is displayed, indicating the type of exception that occurred and the corresponding traceback."
   ]
  },
  {
   "cell_type": "code",
   "execution_count": 1,
   "id": "ee02f0ae",
   "metadata": {},
   "outputs": [
    {
     "ename": "ZeroDivisionError",
     "evalue": "division by zero",
     "output_type": "error",
     "traceback": [
      "\u001b[1;31m---------------------------------------------------------------------------\u001b[0m",
      "\u001b[1;31mZeroDivisionError\u001b[0m                         Traceback (most recent call last)",
      "\u001b[1;32m~\\AppData\\Local\\Temp\\ipykernel_5804\\432438250.py\u001b[0m in \u001b[0;36m<module>\u001b[1;34m\u001b[0m\n\u001b[0;32m      6\u001b[0m \u001b[0mnum2\u001b[0m \u001b[1;33m=\u001b[0m \u001b[1;36m0\u001b[0m\u001b[1;33m\u001b[0m\u001b[1;33m\u001b[0m\u001b[0m\n\u001b[0;32m      7\u001b[0m \u001b[1;33m\u001b[0m\u001b[0m\n\u001b[1;32m----> 8\u001b[1;33m \u001b[0mresult\u001b[0m \u001b[1;33m=\u001b[0m \u001b[0mdivide\u001b[0m\u001b[1;33m(\u001b[0m\u001b[0mnum1\u001b[0m\u001b[1;33m,\u001b[0m \u001b[0mnum2\u001b[0m\u001b[1;33m)\u001b[0m\u001b[1;33m\u001b[0m\u001b[1;33m\u001b[0m\u001b[0m\n\u001b[0m\u001b[0;32m      9\u001b[0m \u001b[0mprint\u001b[0m\u001b[1;33m(\u001b[0m\u001b[1;34m\"Result:\"\u001b[0m\u001b[1;33m,\u001b[0m \u001b[0mresult\u001b[0m\u001b[1;33m)\u001b[0m\u001b[1;33m\u001b[0m\u001b[1;33m\u001b[0m\u001b[0m\n",
      "\u001b[1;32m~\\AppData\\Local\\Temp\\ipykernel_5804\\432438250.py\u001b[0m in \u001b[0;36mdivide\u001b[1;34m(a, b)\u001b[0m\n\u001b[0;32m      1\u001b[0m \u001b[1;32mdef\u001b[0m \u001b[0mdivide\u001b[0m\u001b[1;33m(\u001b[0m\u001b[0ma\u001b[0m\u001b[1;33m,\u001b[0m \u001b[0mb\u001b[0m\u001b[1;33m)\u001b[0m\u001b[1;33m:\u001b[0m\u001b[1;33m\u001b[0m\u001b[1;33m\u001b[0m\u001b[0m\n\u001b[1;32m----> 2\u001b[1;33m     \u001b[0mresult\u001b[0m \u001b[1;33m=\u001b[0m \u001b[0ma\u001b[0m \u001b[1;33m/\u001b[0m \u001b[0mb\u001b[0m\u001b[1;33m\u001b[0m\u001b[1;33m\u001b[0m\u001b[0m\n\u001b[0m\u001b[0;32m      3\u001b[0m     \u001b[1;32mreturn\u001b[0m \u001b[0mresult\u001b[0m\u001b[1;33m\u001b[0m\u001b[1;33m\u001b[0m\u001b[0m\n\u001b[0;32m      4\u001b[0m \u001b[1;33m\u001b[0m\u001b[0m\n\u001b[0;32m      5\u001b[0m \u001b[0mnum1\u001b[0m \u001b[1;33m=\u001b[0m \u001b[1;36m10\u001b[0m\u001b[1;33m\u001b[0m\u001b[1;33m\u001b[0m\u001b[0m\n",
      "\u001b[1;31mZeroDivisionError\u001b[0m: division by zero"
     ]
    }
   ],
   "source": [
    "def divide(a, b):\n",
    "    result = a / b\n",
    "    return result\n",
    "\n",
    "num1 = 10\n",
    "num2 = 0\n",
    "\n",
    "result = divide(num1, num2)\n",
    "print(\"Result:\", result)"
   ]
  },
  {
   "cell_type": "raw",
   "id": "4e630a8d",
   "metadata": {},
   "source": [
    " n this example, the divide() function attempts to divide num1 by num2. However, num2 is assigned a value of zero, which raises a ZeroDivisionError exception because dividing by zero is mathematically undefine"
   ]
  },
  {
   "cell_type": "raw",
   "id": "b0a7d9a4",
   "metadata": {},
   "source": [
    "Q3. Which Python statements are used to catch and handle exceptions? Explain with an example."
   ]
  },
  {
   "cell_type": "raw",
   "id": "07b90c24",
   "metadata": {},
   "source": [
    "---> \n",
    "In Python, the try and except statements are used to catch and handle exceptions. The try block is used to enclose the code that may raise an exception, and the except block is used to define the code that should be executed when a specific exception occurs."
   ]
  },
  {
   "cell_type": "code",
   "execution_count": 2,
   "id": "a9cf84de",
   "metadata": {},
   "outputs": [
    {
     "name": "stdout",
     "output_type": "stream",
     "text": [
      "Error: Division by zero is not allowed.\n"
     ]
    }
   ],
   "source": [
    "def divide(a, b):\n",
    "    try:\n",
    "        result = a / b\n",
    "        print(\"Result:\", result)\n",
    "    except ZeroDivisionError:\n",
    "        print(\"Error: Division by zero is not allowed.\")\n",
    "\n",
    "num1 = 10\n",
    "num2 = 0\n",
    "\n",
    "divide(num1, num2)\n"
   ]
  },
  {
   "cell_type": "raw",
   "id": "8fbc0bf4",
   "metadata": {},
   "source": [
    "Q4. Explain with an example :\n",
    "    a.try and else \n",
    "    b.finally\n",
    "    c.raise"
   ]
  },
  {
   "cell_type": "code",
   "execution_count": 3,
   "id": "e3bc2531",
   "metadata": {},
   "outputs": [
    {
     "name": "stdout",
     "output_type": "stream",
     "text": [
      "Result: 2.0\n"
     ]
    }
   ],
   "source": [
    "def divide(a, b):\n",
    "    try:\n",
    "        result = a / b\n",
    "    except ZeroDivisionError:\n",
    "        print(\"Error: Division by zero is not allowed.\")\n",
    "    else:\n",
    "        print(\"Result:\", result)\n",
    "\n",
    "num1 = 10\n",
    "num2 = 5\n",
    "\n",
    "divide(num1, num2)"
   ]
  },
  {
   "cell_type": "raw",
   "id": "eb45922e",
   "metadata": {},
   "source": [
    "in this example, the try block attempts to divide num1 by num2. If a ZeroDivisionError occurs, the code within the except block is executed and the error message is displayed. However, if no exception occurs, the code within the else block is executed, and the result is printed."
   ]
  },
  {
   "cell_type": "raw",
   "id": "ef97710b",
   "metadata": {},
   "source": [
    "b. Example with finally:"
   ]
  },
  {
   "cell_type": "code",
   "execution_count": 4,
   "id": "f9156a46",
   "metadata": {},
   "outputs": [
    {
     "name": "stdout",
     "output_type": "stream",
     "text": [
      "Error: File not found.\n",
      "File operation completed.\n"
     ]
    }
   ],
   "source": [
    "file = None\n",
    "try:\n",
    "    file = open(\"example.txt\", \"r\")\n",
    "    \n",
    "except FileNotFoundError:\n",
    "    print(\"Error: File not found.\")\n",
    "finally:\n",
    "    if file:\n",
    "        file.close()\n",
    "    print(\"File operation completed.\")"
   ]
  },
  {
   "cell_type": "raw",
   "id": "95c1b6ff",
   "metadata": {},
   "source": [
    "In this example, the try block attempts to open a file named \"example.txt\" for reading. If a FileNotFoundError occurs, the code within the except block is executed, displaying an error message."
   ]
  },
  {
   "cell_type": "raw",
   "id": "f79cc8a5",
   "metadata": {},
   "source": [
    "c. Example with raise:"
   ]
  },
  {
   "cell_type": "code",
   "execution_count": 5,
   "id": "72647d05",
   "metadata": {},
   "outputs": [
    {
     "name": "stdout",
     "output_type": "stream",
     "text": [
      "Age is valid.\n"
     ]
    }
   ],
   "source": [
    "def validate_age(age):\n",
    "    if age < 0:\n",
    "        raise ValueError(\"Invalid age: Age cannot be negative.\")\n",
    "    elif age < 18:\n",
    "        raise ValueError(\"Invalid age: Age must be at least 18.\")\n",
    "    else:\n",
    "        print(\"Age is valid.\")\n",
    "\n",
    "try:\n",
    "    validate_age(25)\n",
    "except ValueError as e:\n",
    "    print(str(e))"
   ]
  },
  {
   "cell_type": "raw",
   "id": "fc28007f",
   "metadata": {},
   "source": [
    "in this example, the validate_age() function is used to validate an age value. If the age is negative or less than 18, a ValueError is raised with an appropriate error message"
   ]
  },
  {
   "cell_type": "raw",
   "id": "faa9ad6d",
   "metadata": {},
   "source": [
    "Q5. What are Custom Exception in python? Why do we need Custom Exceptions? Explain with an example"
   ]
  },
  {
   "cell_type": "raw",
   "id": "04baf9b0",
   "metadata": {},
   "source": [
    "Custom exceptions in Python are user-defined exceptions that extend the base Exception class or any of its subclasses. These exceptions are created to handle specific error conditions that are not covered by the built-in exception classes in Python They allow programmers to define their own error types and provide more meaningful and specific information about the exceptional conditions occurring in their programs."
   ]
  },
  {
   "cell_type": "code",
   "execution_count": null,
   "id": "118b2579",
   "metadata": {},
   "outputs": [],
   "source": []
  }
 ],
 "metadata": {
  "kernelspec": {
   "display_name": "Python 3 (ipykernel)",
   "language": "python",
   "name": "python3"
  },
  "language_info": {
   "codemirror_mode": {
    "name": "ipython",
    "version": 3
   },
   "file_extension": ".py",
   "mimetype": "text/x-python",
   "name": "python",
   "nbconvert_exporter": "python",
   "pygments_lexer": "ipython3",
   "version": "3.9.13"
  }
 },
 "nbformat": 4,
 "nbformat_minor": 5
}
