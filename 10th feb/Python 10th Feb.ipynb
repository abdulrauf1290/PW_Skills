{
 "cells": [
  {
   "cell_type": "raw",
   "id": "a2de4cc8",
   "metadata": {},
   "source": [
    "Q1. Which function is used to open a file? What are the different modes of opening a file? Explain each mode\n",
    "of file opening. \n"
   ]
  },
  {
   "cell_type": "raw",
   "id": "c9b2aa3b",
   "metadata": {},
   "source": [
    "--->  In most programming languages, the function used to open a file is typically called open().When opening a file, you can specify different modes based on how you intend to use the file. The modes determine whether you want to read, write, or append to the file, and also whether you want to create a new file if it doesn't exist. The common modes for file opening are:\n",
    "\n",
    "Read mode ('r'): This mode allows you to read the contents of an existing file. If the file doesn't exist, an error is raised.\n",
    "\n",
    "Write mode ('w'): This mode is used to create a new file for writing. If a file with the same name already exists, its contents will be truncated (deleted) before writing to it. If the file doesn't exist, a new file will be created.\n",
    "\n",
    "Append mode ('a'): This mode is used to open a file for appending data at the end. If the file doesn't exist, a new file will be created. Existing content is preserved, and new data is added to the end of the file.\n",
    "\n",
    "Read and Write mode ('r+'): This mode allows you to read and write to an existing file. The file pointer is initially at the beginning of the file.\n",
    "\n",
    "Write and Read mode ('w+'): This mode is similar to 'r+', but it also creates a new file for writing if it doesn't exist.\n",
    "\n",
    "Append and Read mode ('a+'): This mode is similar to 'r+', but it also creates a new file for appending if it doesn't exist."
   ]
  },
  {
   "cell_type": "raw",
   "id": "a7b2ce20",
   "metadata": {},
   "source": [
    "Q2. Why close() function is used? Why is it important to close a file?"
   ]
  },
  {
   "cell_type": "raw",
   "id": "7a8de6a3",
   "metadata": {},
   "source": [
    "---> The close() function is used to close an opened file in programming languages that require explicit file handling, such as Python.\n",
    "\n",
    "It is important to close a file after you have finished using it for several reasons:\n",
    "\n",
    "Resource management: When you open a file, the operating system allocates certain resources to handle the file operations, such as memory buffers and file descriptors. If you don't close the file, these resources may not be released immediately, leading to resource leaks. Closing the file ensures that these resources are properly released, preventing potential issues like running out of system resources.\n",
    "\n",
    "Data integrity: Closing a file ensures that all the data you have written to or read from the file is flushed or saved to the underlying storage. If you don't close the file and terminate the program abruptly, some data may remain buffered in memory and not be permanently written to the file. Closing the file guarantees that the data is properly written and the file is in a consistent state.\n",
    "\n",
    "Access by other processes: By closing the file, you release any locks or restrictions that your program may have placed on the file. This allows other processes or programs to access the file without conflicts. Failing to close a file might result in other processes being unable to open or modify the file until it is closed."
   ]
  },
  {
   "cell_type": "raw",
   "id": "1066c629",
   "metadata": {},
   "source": [
    "Q3. Write a python program to create a text file. Write ‘I want to become a Data Scientist’ in that file. Then\n",
    "close the file. Open this file and read the content of the file."
   ]
  },
  {
   "cell_type": "code",
   "execution_count": 1,
   "id": "1d1cf6ad",
   "metadata": {},
   "outputs": [
    {
     "name": "stdout",
     "output_type": "stream",
     "text": [
      "I want to become a Data Scientist\n"
     ]
    }
   ],
   "source": [
    "file_name = 'data_scientist.txt'\n",
    "content = 'I want to become a Data Scientist'\n",
    "\n",
    "\n",
    "file = open(file_name, 'w')\n",
    "\n",
    "\n",
    "file.write(content)\n",
    "\n",
    "\n",
    "file.close()\n",
    "\n",
    "\n",
    "file = open(file_name, 'r')\n",
    "file_content = file.read()\n",
    "\n",
    "# Print the content\n",
    "print(file_content)\n",
    "\n",
    "\n",
    "file.close()"
   ]
  },
  {
   "cell_type": "raw",
   "id": "8761441b",
   "metadata": {},
   "source": [
    "Q4. Explain the following with python code: read(), readline() and readlines()."
   ]
  },
  {
   "cell_type": "raw",
   "id": "156bfb6c",
   "metadata": {},
   "source": [
    "---> In Python, read(), readline(), and readlines() are methods that can be used to read data from a file.\n",
    "read(): The read() method is used to read the entire contents of a file as a single string. It reads from the current position of the file pointer until the end of the file. Here's an example:"
   ]
  },
  {
   "cell_type": "code",
   "execution_count": 2,
   "id": "b38cf8c2",
   "metadata": {},
   "outputs": [
    {
     "name": "stdout",
     "output_type": "stream",
     "text": [
      "I want to become a Data Scientist\n"
     ]
    }
   ],
   "source": [
    "with open('data_scientist.txt', 'r') as file:\n",
    "    content = file.read()\n",
    "\n",
    "print(content)"
   ]
  },
  {
   "cell_type": "raw",
   "id": "28865b34",
   "metadata": {},
   "source": [
    "readline(): The readline() method is used to read a single line from a file. It reads from the current position of the file pointer until it encounters a newline character (\\n) or reaches the end of the file."
   ]
  },
  {
   "cell_type": "code",
   "execution_count": 3,
   "id": "0242cabe",
   "metadata": {},
   "outputs": [
    {
     "name": "stdout",
     "output_type": "stream",
     "text": [
      "I want to become a Data Scientist\n"
     ]
    }
   ],
   "source": [
    "# Open the file in read mode\n",
    "file = open('data_scientist.txt', 'r')\n",
    "\n",
    "# Read the first line of the file\n",
    "line = file.readline()\n",
    "\n",
    "# Print the line\n",
    "print(line)\n",
    "\n",
    "# Close the file\n",
    "file.close()"
   ]
  },
  {
   "cell_type": "raw",
   "id": "e4cafc5d",
   "metadata": {},
   "source": [
    "readlines(): The readlines() method is used to read all the lines of a file and return them as a list of strings. Each line is treated as a separate element in the list. Here's an example:"
   ]
  },
  {
   "cell_type": "code",
   "execution_count": 4,
   "id": "8357ceda",
   "metadata": {},
   "outputs": [
    {
     "name": "stdout",
     "output_type": "stream",
     "text": [
      "I want to become a Data Scientist\n"
     ]
    }
   ],
   "source": [
    "# Open the file in read mode\n",
    "file = open('data_scientist.txt', 'r')\n",
    "\n",
    "# Read all the lines of the file\n",
    "lines = file.readlines()\n",
    "\n",
    "# Print each line\n",
    "for line in lines:\n",
    "    print(line)\n",
    "\n",
    "# Close the file\n",
    "file.close()"
   ]
  },
  {
   "cell_type": "raw",
   "id": "4cb37abd",
   "metadata": {},
   "source": [
    "Q5. Explain why with statement is used with open(). What is the advantage of using with statement and\n",
    "open() together? "
   ]
  },
  {
   "cell_type": "raw",
   "id": "746749a5",
   "metadata": {},
   "source": [
    "---> The with statement in Python is used in conjunction with the open() function to ensure proper handling of resources, such as files, and to provide automatic cleanup or closing of the resources. The advantage of using the with statement with open() is as follows:\n",
    "\n",
    "Automatic cleanup: When a file is opened using open() within a with statement, the file is automatically closed at the end of the block, regardless of whether an exception occurs or not. This ensures that the file is properly closed, even in the event of an error or an exception being raised during file handling\n",
    "Simplified code: Using the with statement makes the code more concise and readable.\n",
    "Exception handling: The with statement also provides a convenient way to handle exceptions. If an exception occurs within the with block, the file will still be closed automatically, preventing any potential issues caused by leaving the file open"
   ]
  },
  {
   "cell_type": "raw",
   "id": "d4bd8419",
   "metadata": {},
   "source": [
    "Q6. Explain the write() and writelines() functions. Give a suitable example."
   ]
  },
  {
   "cell_type": "raw",
   "id": "5710e063",
   "metadata": {},
   "source": [
    "---> write(): The write() function is used to write a string of data to a file. It appends the specified string to the end of the file, or overwrites the existing content if the file already exists"
   ]
  },
  {
   "cell_type": "code",
   "execution_count": 6,
   "id": "70e3254c",
   "metadata": {},
   "outputs": [],
   "source": [
    "file = open('data_scientist.txt', 'w')\n",
    "\n",
    "file.write('Hello, World!\\n')\n",
    "file.write('This is a sample file.')\n",
    "\n",
    "# Close the file\n",
    "file.close()"
   ]
  },
  {
   "cell_type": "raw",
   "id": "4679a499",
   "metadata": {},
   "source": [
    "writelines(): The writelines() function is used to write a list of strings to a file. Each string in the list corresponds to a separate line in the file."
   ]
  },
  {
   "cell_type": "code",
   "execution_count": 7,
   "id": "f4c0ca6b",
   "metadata": {},
   "outputs": [],
   "source": [
    "# Open the file in write mode\n",
    "file = open('example.txt', 'w')\n",
    "\n",
    "# Prepare a list of strings\n",
    "lines = ['Line 1\\n', 'Line 2\\n', 'Line 3\\n']\n",
    "\n",
    "# Write the lines to the file\n",
    "file.writelines(lines)\n",
    "\n",
    "# Close the file\n",
    "file.close()\n"
   ]
  },
  {
   "cell_type": "code",
   "execution_count": null,
   "id": "5c8a1a9e",
   "metadata": {},
   "outputs": [],
   "source": []
  }
 ],
 "metadata": {
  "kernelspec": {
   "display_name": "Python 3 (ipykernel)",
   "language": "python",
   "name": "python3"
  },
  "language_info": {
   "codemirror_mode": {
    "name": "ipython",
    "version": 3
   },
   "file_extension": ".py",
   "mimetype": "text/x-python",
   "name": "python",
   "nbconvert_exporter": "python",
   "pygments_lexer": "ipython3",
   "version": "3.9.13"
  }
 },
 "nbformat": 4,
 "nbformat_minor": 5
}
