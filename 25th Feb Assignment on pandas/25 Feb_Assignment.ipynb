{
 "cells": [
  {
   "cell_type": "markdown",
   "id": "3f3fe6b4-09f3-4446-ad38-0f4734a9ba46",
   "metadata": {},
   "source": [
    "Consider following code to answer further questions:\n",
    "import pandas as pd\n",
    "course_name = [‘Data Science’, ‘Machine Learning’, ‘Big Data’, ‘Data Engineer’]\n",
    "duration = [2,3,6,4]\n",
    "df = pd.DataFrame(data = {‘course_name’ : course_name, ‘duration’ : duration}) \n",
    "\n",
    "Q1. Write a code to print the data present in the second row of the dataframe, df."
   ]
  },
  {
   "cell_type": "code",
   "execution_count": 10,
   "id": "5c8cb419-eecf-4c09-9c09-fde9825e386f",
   "metadata": {},
   "outputs": [],
   "source": [
    "import pandas as pd\n",
    "course_name = ['Data Science', 'Machine Learning', 'Big Data', 'Data Engineer']\n",
    "duration = [2,3,6,4]\n",
    "df = pd.DataFrame(data = {'course_name' : course_name, 'duration' : duration}) \n"
   ]
  },
  {
   "cell_type": "code",
   "execution_count": 11,
   "id": "3b616f61-21e0-46e6-8a57-af0b58cc4b24",
   "metadata": {},
   "outputs": [
    {
     "data": {
      "text/html": [
       "<div>\n",
       "<style scoped>\n",
       "    .dataframe tbody tr th:only-of-type {\n",
       "        vertical-align: middle;\n",
       "    }\n",
       "\n",
       "    .dataframe tbody tr th {\n",
       "        vertical-align: top;\n",
       "    }\n",
       "\n",
       "    .dataframe thead th {\n",
       "        text-align: right;\n",
       "    }\n",
       "</style>\n",
       "<table border=\"1\" class=\"dataframe\">\n",
       "  <thead>\n",
       "    <tr style=\"text-align: right;\">\n",
       "      <th></th>\n",
       "      <th>course_name</th>\n",
       "      <th>duration</th>\n",
       "    </tr>\n",
       "  </thead>\n",
       "  <tbody>\n",
       "    <tr>\n",
       "      <th>0</th>\n",
       "      <td>Data Science</td>\n",
       "      <td>2</td>\n",
       "    </tr>\n",
       "    <tr>\n",
       "      <th>1</th>\n",
       "      <td>Machine Learning</td>\n",
       "      <td>3</td>\n",
       "    </tr>\n",
       "    <tr>\n",
       "      <th>2</th>\n",
       "      <td>Big Data</td>\n",
       "      <td>6</td>\n",
       "    </tr>\n",
       "    <tr>\n",
       "      <th>3</th>\n",
       "      <td>Data Engineer</td>\n",
       "      <td>4</td>\n",
       "    </tr>\n",
       "  </tbody>\n",
       "</table>\n",
       "</div>"
      ],
      "text/plain": [
       "        course_name  duration\n",
       "0      Data Science         2\n",
       "1  Machine Learning         3\n",
       "2          Big Data         6\n",
       "3     Data Engineer         4"
      ]
     },
     "execution_count": 11,
     "metadata": {},
     "output_type": "execute_result"
    }
   ],
   "source": [
    "df"
   ]
  },
  {
   "cell_type": "code",
   "execution_count": 17,
   "id": "dff80ede-6ef9-43ec-b9e5-f4a320db3b3e",
   "metadata": {},
   "outputs": [
    {
     "data": {
      "text/html": [
       "<div>\n",
       "<style scoped>\n",
       "    .dataframe tbody tr th:only-of-type {\n",
       "        vertical-align: middle;\n",
       "    }\n",
       "\n",
       "    .dataframe tbody tr th {\n",
       "        vertical-align: top;\n",
       "    }\n",
       "\n",
       "    .dataframe thead th {\n",
       "        text-align: right;\n",
       "    }\n",
       "</style>\n",
       "<table border=\"1\" class=\"dataframe\">\n",
       "  <thead>\n",
       "    <tr style=\"text-align: right;\">\n",
       "      <th></th>\n",
       "      <th>course_name</th>\n",
       "      <th>duration</th>\n",
       "    </tr>\n",
       "  </thead>\n",
       "  <tbody>\n",
       "    <tr>\n",
       "      <th>1</th>\n",
       "      <td>Machine Learning</td>\n",
       "      <td>3</td>\n",
       "    </tr>\n",
       "  </tbody>\n",
       "</table>\n",
       "</div>"
      ],
      "text/plain": [
       "        course_name  duration\n",
       "1  Machine Learning         3"
      ]
     },
     "execution_count": 17,
     "metadata": {},
     "output_type": "execute_result"
    }
   ],
   "source": [
    "df[1:2]"
   ]
  },
  {
   "cell_type": "markdown",
   "id": "21edee84-5680-480a-a828-d12dede7cffa",
   "metadata": {},
   "source": [
    "Q2. What is the difference between the functions loc and iloc in pandas.DataFrame?"
   ]
  },
  {
   "cell_type": "markdown",
   "id": "c63a361c-ceac-4afc-a736-a58517076884",
   "metadata": {},
   "source": [
    "---> loc: This function is primarily used for label-based indexing. It accepts label-based arguments to locate and retrieve data. The syntax for loc is df.loc[row_label, column_label], where row_label and column_label can be a single label or a list of labels\n",
    "\n",
    "iloc: This function is used for integer-based indexing. It accepts integer-based arguments to locate and retrieve data"
   ]
  },
  {
   "cell_type": "markdown",
   "id": "845f2576-59c5-4f9a-a922-9fc07bfadedf",
   "metadata": {},
   "source": [
    "Q3.Reindex the given dataframe using a variable, reindex = [3,0,1,2] and store it in the variable, new_df\n",
    "then find the output for both new_df.loc[2] and new_df.iloc[2].\n",
    "\n",
    "Did you observe any difference in both the outputs? If so then explain it.\n",
    "Consider the below code to answer further questions:\n",
    "import pandas as pd\n",
    "import numpy as np\n",
    "columns = ['column_1', 'column_2', 'column_3', 'column_4', 'column_5', 'column_6']\n",
    "indices = [1,2,3,4,5,6]\n",
    "#Creating a dataframe:\n",
    "df1 = pd.DataFrame(np.random.rand(6,6), columns = columns, index = indices) \n"
   ]
  },
  {
   "cell_type": "code",
   "execution_count": 23,
   "id": "54dc1e8d-e407-4f56-968c-e6d06409f7f3",
   "metadata": {},
   "outputs": [],
   "source": [
    "import pandas as pd\n",
    "import numpy as np\n",
    "columns = ['column_1', 'column_2', 'column_3', 'column_4', 'column_5', 'column_6']\n",
    "indices = [1,2,3,4,5,6]\n",
    "#Creating a dataframe:\n",
    "df1 = pd.DataFrame(np.random.rand(6,6), columns = columns, index = indices) \n",
    "\n",
    "reindex = [3,0,1,2]\n",
    "new_df = df1.reindex(reindex)"
   ]
  },
  {
   "cell_type": "code",
   "execution_count": 26,
   "id": "00fc936b-b5a0-4dce-ad4c-3f55575fd57d",
   "metadata": {},
   "outputs": [
    {
     "data": {
      "text/plain": [
       "column_1    0.871860\n",
       "column_2    0.196009\n",
       "column_3    0.878939\n",
       "column_4    0.916665\n",
       "column_5    0.304886\n",
       "column_6    0.466607\n",
       "Name: 2, dtype: float64"
      ]
     },
     "execution_count": 26,
     "metadata": {},
     "output_type": "execute_result"
    }
   ],
   "source": [
    "new_df.loc[2]"
   ]
  },
  {
   "cell_type": "markdown",
   "id": "6503539a-7e5a-4f80-b9a4-b95348260cc9",
   "metadata": {},
   "source": [
    "new_df.loc[2] returns the row with the label 2 after reindexing. In the new_df DataFrame, the label 2 corresponds to the third row."
   ]
  },
  {
   "cell_type": "code",
   "execution_count": 27,
   "id": "ddee4830-978a-439c-91cd-221b6610f65b",
   "metadata": {},
   "outputs": [
    {
     "data": {
      "text/plain": [
       "column_1    0.993963\n",
       "column_2    0.685837\n",
       "column_3    0.406650\n",
       "column_4    0.324613\n",
       "column_5    0.794593\n",
       "column_6    0.837032\n",
       "Name: 1, dtype: float64"
      ]
     },
     "execution_count": 27,
     "metadata": {},
     "output_type": "execute_result"
    }
   ],
   "source": [
    "new_df.iloc[2]"
   ]
  },
  {
   "cell_type": "markdown",
   "id": "113601bb-863e-4b04-8db1-4aacf0722bd0",
   "metadata": {},
   "source": [
    "new_df.iloc[2] returns the row at the integer index 2 after reindexing. In the new_df DataFrame, the integer index 2 corresponds to the second row."
   ]
  },
  {
   "cell_type": "markdown",
   "id": "47c494c4-4de0-4e1c-b29e-f9ef13e5a95d",
   "metadata": {},
   "source": [
    "Q4. Write a code to find the following statistical measurements for the above dataframe df1:\n",
    "(i) mean of each and every column present in the dataframe.\n",
    "(ii) standard deviation of column, ‘column_2’"
   ]
  },
  {
   "cell_type": "code",
   "execution_count": 29,
   "id": "c1d0dd48-dfcb-4b0a-87c8-ef5171683411",
   "metadata": {},
   "outputs": [
    {
     "data": {
      "text/html": [
       "<div>\n",
       "<style scoped>\n",
       "    .dataframe tbody tr th:only-of-type {\n",
       "        vertical-align: middle;\n",
       "    }\n",
       "\n",
       "    .dataframe tbody tr th {\n",
       "        vertical-align: top;\n",
       "    }\n",
       "\n",
       "    .dataframe thead th {\n",
       "        text-align: right;\n",
       "    }\n",
       "</style>\n",
       "<table border=\"1\" class=\"dataframe\">\n",
       "  <thead>\n",
       "    <tr style=\"text-align: right;\">\n",
       "      <th></th>\n",
       "      <th>column_1</th>\n",
       "      <th>column_2</th>\n",
       "      <th>column_3</th>\n",
       "      <th>column_4</th>\n",
       "      <th>column_5</th>\n",
       "      <th>column_6</th>\n",
       "    </tr>\n",
       "  </thead>\n",
       "  <tbody>\n",
       "    <tr>\n",
       "      <th>1</th>\n",
       "      <td>0.993963</td>\n",
       "      <td>0.685837</td>\n",
       "      <td>0.406650</td>\n",
       "      <td>0.324613</td>\n",
       "      <td>0.794593</td>\n",
       "      <td>0.837032</td>\n",
       "    </tr>\n",
       "    <tr>\n",
       "      <th>2</th>\n",
       "      <td>0.871860</td>\n",
       "      <td>0.196009</td>\n",
       "      <td>0.878939</td>\n",
       "      <td>0.916665</td>\n",
       "      <td>0.304886</td>\n",
       "      <td>0.466607</td>\n",
       "    </tr>\n",
       "    <tr>\n",
       "      <th>3</th>\n",
       "      <td>0.342710</td>\n",
       "      <td>0.636537</td>\n",
       "      <td>0.149210</td>\n",
       "      <td>0.090722</td>\n",
       "      <td>0.641219</td>\n",
       "      <td>0.781658</td>\n",
       "    </tr>\n",
       "    <tr>\n",
       "      <th>4</th>\n",
       "      <td>0.030591</td>\n",
       "      <td>0.427767</td>\n",
       "      <td>0.970567</td>\n",
       "      <td>0.769120</td>\n",
       "      <td>0.199395</td>\n",
       "      <td>0.709977</td>\n",
       "    </tr>\n",
       "    <tr>\n",
       "      <th>5</th>\n",
       "      <td>0.278560</td>\n",
       "      <td>0.418312</td>\n",
       "      <td>0.461207</td>\n",
       "      <td>0.307599</td>\n",
       "      <td>0.179280</td>\n",
       "      <td>0.222689</td>\n",
       "    </tr>\n",
       "    <tr>\n",
       "      <th>6</th>\n",
       "      <td>0.627818</td>\n",
       "      <td>0.573584</td>\n",
       "      <td>0.232510</td>\n",
       "      <td>0.181678</td>\n",
       "      <td>0.265524</td>\n",
       "      <td>0.262568</td>\n",
       "    </tr>\n",
       "  </tbody>\n",
       "</table>\n",
       "</div>"
      ],
      "text/plain": [
       "   column_1  column_2  column_3  column_4  column_5  column_6\n",
       "1  0.993963  0.685837  0.406650  0.324613  0.794593  0.837032\n",
       "2  0.871860  0.196009  0.878939  0.916665  0.304886  0.466607\n",
       "3  0.342710  0.636537  0.149210  0.090722  0.641219  0.781658\n",
       "4  0.030591  0.427767  0.970567  0.769120  0.199395  0.709977\n",
       "5  0.278560  0.418312  0.461207  0.307599  0.179280  0.222689\n",
       "6  0.627818  0.573584  0.232510  0.181678  0.265524  0.262568"
      ]
     },
     "execution_count": 29,
     "metadata": {},
     "output_type": "execute_result"
    }
   ],
   "source": [
    "df1"
   ]
  },
  {
   "cell_type": "code",
   "execution_count": 30,
   "id": "2fa338ba-b5b5-4ce9-b2fb-5d74c51147d2",
   "metadata": {},
   "outputs": [
    {
     "data": {
      "text/plain": [
       "column_1    0.524250\n",
       "column_2    0.489674\n",
       "column_3    0.516514\n",
       "column_4    0.431733\n",
       "column_5    0.397483\n",
       "column_6    0.546755\n",
       "dtype: float64"
      ]
     },
     "execution_count": 30,
     "metadata": {},
     "output_type": "execute_result"
    }
   ],
   "source": [
    "df1.mean()"
   ]
  },
  {
   "cell_type": "code",
   "execution_count": 31,
   "id": "f27aac55-570a-4491-8e7a-7f3ad19b4e23",
   "metadata": {},
   "outputs": [
    {
     "data": {
      "text/plain": [
       "0.18014085856742726"
      ]
     },
     "execution_count": 32,
     "metadata": {},
     "output_type": "execute_result"
    }
   ],
   "source": [
    "df1['column_2'].std()"
   ]
  },
  {
   "cell_type": "markdown",
   "id": "fce51db4-2fd1-4fb1-92b3-524ecf6dd855",
   "metadata": {},
   "source": [
    "Q5. Replace the data present in the second row of column, ‘column_2’ by a string variable then find the\n",
    "mean of column, column_2.\n",
    "If you are getting errors in executing it then explain why.\n",
    "[Hint: To replace the data use df1.loc[] and equate this to string data of your choice.]"
   ]
  },
  {
   "cell_type": "code",
   "execution_count": 5,
   "id": "a6c8593d-c455-404f-bb3e-f3d9e59cb3fc",
   "metadata": {},
   "outputs": [],
   "source": [
    "\n",
    "\n",
    "data = {'column_1': [1, 2, 3, 4],\n",
    "        'column_2': [5, 6, 7, 8],\n",
    "        'column_3': [9, 10, 11, 12]}\n",
    "df = pd.DataFrame(data)\n",
    "\n",
    "\n",
    "df.loc[1, 'column_2'] = 'replacement_string'\n",
    "\n",
    "\n",
    "df['column_2'] = pd.to_numeric(df['column_2'], errors='coerce')\n",
    "                               \n",
    "mean_column_2 = df['column_2'].mean()\n",
    "\n"
   ]
  },
  {
   "cell_type": "code",
   "execution_count": 6,
   "id": "436163c0-e6e8-40aa-a998-2d5d8e160bee",
   "metadata": {},
   "outputs": [
    {
     "data": {
      "text/plain": [
       "6.666666666666667"
      ]
     },
     "execution_count": 6,
     "metadata": {},
     "output_type": "execute_result"
    }
   ],
   "source": [
    "mean_column_2"
   ]
  },
  {
   "cell_type": "markdown",
   "id": "4ab8c98b-0dee-489f-a12a-a36b983a4e61",
   "metadata": {},
   "source": [
    "Q6. What do you understand about the windows function in pandas and list the types of windows\n",
    "functions?"
   ]
  },
  {
   "cell_type": "markdown",
   "id": "16732410-3111-4c5c-9469-3137dbff798a",
   "metadata": {},
   "source": [
    "In pandas, the \"window function\" refers to a powerful tool that allows you to perform calculations on a specified subset of data called a \"window.\" This window can slide or roll over your dataset, enabling you to apply various operations and transformations to the data within the window\n",
    "\n",
    "1) Rolling Window Functions: These functions compute values over a fixed-size rolling window defined by the number of preceding or following observations\n",
    "\n",
    "2) Expanding Window Functions: Expanding functions consider all the data points from the start of the data up to the current point. "
   ]
  },
  {
   "cell_type": "markdown",
   "id": "5fbe4fad-9dc7-4ccd-945a-48330949216b",
   "metadata": {},
   "source": [
    "Q7. Write a code to print only the current month and year at the time of answering this question.\n",
    "[Hint: Use pandas.datetime function]"
   ]
  },
  {
   "cell_type": "code",
   "execution_count": 13,
   "id": "8beefbb1-d50a-437f-9878-e767797ac18a",
   "metadata": {},
   "outputs": [
    {
     "name": "stdout",
     "output_type": "stream",
     "text": [
      "current month : 6\n",
      "current year : 2023\n"
     ]
    }
   ],
   "source": [
    "current_date = pd.to_datetime('today')\n",
    "\n",
    "current_month = current_date.month\n",
    "current_year = current_date.year\n",
    "\n",
    "print(f'current month : {current_month}')\n",
    "print(f'current year : {current_year}')\n",
    "\n"
   ]
  },
  {
   "cell_type": "markdown",
   "id": "5b727be7-25f4-495d-b606-71f7aa60ee21",
   "metadata": {},
   "source": [
    "Q8. Write a Python program that takes in two dates as input (in the format YYYY-MM-DD) and\n",
    "calculates the difference between them in days, hours, and minutes using Pandas time delta. The\n",
    "program should prompt the user to enter the dates and display the result. "
   ]
  },
  {
   "cell_type": "code",
   "execution_count": 18,
   "id": "f19699cf-38bb-4d52-ad71-134d4bf0f2b6",
   "metadata": {},
   "outputs": [
    {
     "name": "stdin",
     "output_type": "stream",
     "text": [
      "Enter the first date (YYYY-MM-DD):  2023-06-30\n",
      "Enter the second date (YYYY-MM-DD):  2023-08-03\n"
     ]
    },
    {
     "name": "stdout",
     "output_type": "stream",
     "text": [
      "Difference: 34 days, 0 hours, 0 minutes\n"
     ]
    }
   ],
   "source": [
    "import pandas as pd\n",
    "\n",
    "\n",
    "date1 = input(\"Enter the first date (YYYY-MM-DD): \")\n",
    "date2 = input(\"Enter the second date (YYYY-MM-DD): \")\n",
    "\n",
    "\n",
    "date1 = pd.to_datetime(date1)\n",
    "date2 = pd.to_datetime(date2)\n",
    "\n",
    "\n",
    "time_diff = date2 - date1\n",
    "\n",
    "\n",
    "days = time_diff.days\n",
    "hours = time_diff.seconds // 3600\n",
    "minutes = (time_diff.seconds % 3600) // 60\n",
    "\n",
    "\n",
    "print(f\"Difference: {days} days, {hours} hours, {minutes} minutes\")\n"
   ]
  },
  {
   "cell_type": "markdown",
   "id": "37565803-bffe-488d-a7b2-1992cff3bb06",
   "metadata": {},
   "source": [
    "Q9. Write a Python program that reads a CSV file containing categorical data and converts a specified\n",
    "column to a categorical data type. The program should prompt the user to enter the file path, column\n",
    "name, and category order, and then display the sorted data."
   ]
  },
  {
   "cell_type": "code",
   "execution_count": null,
   "id": "8aec80f2-80e4-4d4c-b8ab-04c45d703bfe",
   "metadata": {},
   "outputs": [],
   "source": [
    "import pandas as pd\n",
    "\n",
    "\n",
    "file_path = input(\"Enter the CSV file path: \")\n",
    "column_name = input(\"Enter the column name to conver: \")\n",
    "category_order = input(\"Enter the category order (comma-separated values): \").split(',')\n",
    "\n",
    "\n",
    "data = pd.read_csv(file_path)\n",
    "\n",
    "\n",
    "data[column_name] = pd.Categorical(data[\"student_id\"], categories=category_order, ordered=True)\n",
    "\n",
    "\n",
    "sorted_data = data.sort_values(column_name)\n",
    "\n",
    "\n",
    "print(sorted_data)\n",
    "\n"
   ]
  },
  {
   "cell_type": "markdown",
   "id": "d52dd080-357f-4931-a826-41a96ff78419",
   "metadata": {},
   "source": [
    "Q10. Write a Python program that reads a CSV file containing sales data for different products and\n",
    "visualizes the data using a stacked bar chart to show the sales of each product category over time. The\n",
    "program should prompt the user to enter the file path and display the chart."
   ]
  },
  {
   "cell_type": "code",
   "execution_count": null,
   "id": "34736b7a-d8b9-4e93-a959-267863653b47",
   "metadata": {},
   "outputs": [],
   "source": [
    "import pandas as pd\n",
    "import matplotlib.pyplot as plt\n",
    "\n",
    "\n",
    "file_path = input(\"Enter the file path of the CSV: \")\n",
    "\n",
    "\n",
    "df = pd.read_csv(file_path)\n",
    "\n",
    "grouped_df = df.groupby('Product Category')['Sales'].sum()\n",
    "\n",
    "\n",
    "grouped_df.plot(kind='bar', stacked=True, figsize=(10, 6))\n",
    "\n",
    "# Set labels and title\n",
    "plt.xlabel('Product Category')\n",
    "plt.ylabel('Sales')\n",
    "plt.title('Sales by Product Category')\n",
    "\n",
    "# Show the chart\n",
    "plt.show()\n"
   ]
  },
  {
   "cell_type": "code",
   "execution_count": null,
   "id": "c3a4cab8-4cdb-4ba3-bc1f-de4aa72df253",
   "metadata": {},
   "outputs": [],
   "source": [
    "Q11. You are given a CSV file containing student data that includes the student ID and their test score. Write\n",
    "a Python program that reads the CSV file, calculates the mean, median, and mode of the test scores, and\n",
    "displays the results in a table."
   ]
  }
 ],
 "metadata": {
  "kernelspec": {
   "display_name": "Python 3 (ipykernel)",
   "language": "python",
   "name": "python3"
  },
  "language_info": {
   "codemirror_mode": {
    "name": "ipython",
    "version": 3
   },
   "file_extension": ".py",
   "mimetype": "text/x-python",
   "name": "python",
   "nbconvert_exporter": "python",
   "pygments_lexer": "ipython3",
   "version": "3.10.8"
  }
 },
 "nbformat": 4,
 "nbformat_minor": 5
}
