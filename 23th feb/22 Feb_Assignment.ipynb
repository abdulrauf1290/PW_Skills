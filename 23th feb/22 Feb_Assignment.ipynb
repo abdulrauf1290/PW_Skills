{
 "cells": [
  {
   "cell_type": "markdown",
   "id": "1ba46a37-2552-48db-beb1-ab1ea6ab89ad",
   "metadata": {},
   "source": [
    "Q1. Create a Pandas Series that contains the following data: 4, 8, 15, 16, 23, and 42. Then, print the series."
   ]
  },
  {
   "cell_type": "code",
   "execution_count": 5,
   "id": "bf808f0c-95cf-47c1-9e56-8d530a72d556",
   "metadata": {},
   "outputs": [],
   "source": [
    "import pandas as pd"
   ]
  },
  {
   "cell_type": "code",
   "execution_count": 7,
   "id": "27c4cc1f-bd82-4958-bb7e-bd0d8a24f3b9",
   "metadata": {},
   "outputs": [
    {
     "name": "stdout",
     "output_type": "stream",
     "text": [
      "0     4\n",
      "1     8\n",
      "2    15\n",
      "3    16\n",
      "4    23\n",
      "5    42\n",
      "dtype: int64\n"
     ]
    }
   ],
   "source": [
    "data = [4,8,15,16,23,42]\n",
    "Series = pd.Series(data)\n",
    "print(Series)"
   ]
  },
  {
   "cell_type": "markdown",
   "id": "1195f9c0-dfee-431f-bc17-bd6ca648dd11",
   "metadata": {},
   "source": [
    "Q2. Create a variable of list type containing 10 elements in it, and apply pandas.Series function on the\n",
    "variable print it."
   ]
  },
  {
   "cell_type": "code",
   "execution_count": 7,
   "id": "465d57bb-c9ba-42da-9ade-2793accd74a9",
   "metadata": {},
   "outputs": [
    {
     "name": "stdout",
     "output_type": "stream",
     "text": [
      "0    1\n",
      "dtype: int64\n",
      "0    2\n",
      "dtype: int64\n",
      "0    3\n",
      "dtype: int64\n",
      "0    4\n",
      "dtype: int64\n",
      "0    5\n",
      "dtype: int64\n",
      "0    6\n",
      "dtype: int64\n",
      "0    7\n",
      "dtype: int64\n",
      "0    8\n",
      "dtype: int64\n",
      "0    9\n",
      "dtype: int64\n",
      "0    10\n",
      "dtype: int64\n",
      "0    11\n",
      "dtype: int64\n"
     ]
    }
   ],
   "source": [
    "for ver_lst in range (1,12) :\n",
    "    \n",
    "    Series1 = pd.Series(ver_lst)\n",
    "    print(Series1)"
   ]
  },
  {
   "cell_type": "markdown",
   "id": "46576fd3-5834-423c-8ec8-7d2c8aff3b8a",
   "metadata": {},
   "source": [
    "Q3. Create a Pandas DataFrame that contains the following data:"
   ]
  },
  {
   "cell_type": "markdown",
   "id": "b4985a97-a722-4788-930b-720a4a22153a",
   "metadata": {},
   "source": [
    "Name\n",
    "\n",
    "Alice\n",
    "Bob\n",
    "Claire\n",
    "\n",
    "Age\n",
    "\n",
    "25\n",
    "30\n",
    "27\n",
    "\n",
    "Gender\n",
    "\n",
    "Female\n",
    "Male\n",
    "Female"
   ]
  },
  {
   "cell_type": "code",
   "execution_count": 9,
   "id": "11eee829-8309-4c4b-9cd8-63b1fd262f17",
   "metadata": {},
   "outputs": [
    {
     "name": "stdout",
     "output_type": "stream",
     "text": [
      "    Name  Age  Gender\n",
      "0  Alice   25  Female\n",
      "1    Bob   30    Male\n",
      "2  Clair   27  Female\n"
     ]
    }
   ],
   "source": [
    "import pandas as pd\n",
    "data = { 'Name' : ['Alice', 'Bob','Clair'],\n",
    "        ' Age' : ['25','30','27'] ,\n",
    "        'Gender' : ['Female' , 'Male', 'Female']}\n",
    "Series = pd.DataFrame(data)\n",
    "print(Series)"
   ]
  },
  {
   "cell_type": "markdown",
   "id": "49f06c38-b930-4ca5-88cc-f86efe9da2a1",
   "metadata": {},
   "source": [
    "Q4. What is ‘DataFrame’ in pandas and how is it different from pandas.series? Explain with an example. "
   ]
  },
  {
   "cell_type": "markdown",
   "id": "cd3b893d-c436-4171-a542-74d9f77a5033",
   "metadata": {},
   "source": [
    "--> \n",
    "In Pandas, a DataFrame is a two-dimensional data structure that represents tabular data, similar to a spreadsheet or a SQL table. It consists of rows and columns, where each column can contain different data types (e.g., numbers, strings, etc.) the best example of pandas.series ig given above."
   ]
  },
  {
   "cell_type": "markdown",
   "id": "33f989ef-670f-46dc-887d-fde076c803e3",
   "metadata": {},
   "source": [
    "Q5. What are some common functions you can use to manipulate data in a Pandas DataFrame? Can\n",
    "you give an example of when you might use one of these functions?"
   ]
  },
  {
   "cell_type": "markdown",
   "id": "47daa4b4-b2f1-4574-a05b-d25a66812b1b",
   "metadata": {},
   "source": [
    "---> \n",
    "Pandas provides a wide range of functions to manipulate data in a DataFrame. Here are some common functions: \n",
    "1) head()\n",
    "2) tail()\n",
    "3) info()\n",
    "4) describe()\n",
    "5) groupby()"
   ]
  },
  {
   "cell_type": "raw",
   "id": "2f405604-17af-4ef6-8e8d-f39dcdf11ae1",
   "metadata": {},
   "source": [
    "Q6. Which of the following is mutable in nature Series, DataFrame, Panel?"
   ]
  },
  {
   "cell_type": "markdown",
   "id": "19cdcd84-48b8-44a6-bb9d-c4dbc72dc713",
   "metadata": {},
   "source": [
    "Among the options given (Series, DataFrame, Panel), both Series and DataFrame are mutable in nature, while Panel is not mutable.\n",
    "\n",
    "In Pandas, a mutable object can be modified after its creation. Let's examine each option:\n",
    "\n",
    "1) Series: A Series in Pandas is mutable, meaning you can modify its elements, change its values, or add/remove elements after its creation.\n",
    "\n",
    "2) DataFrame: Similarly, a DataFrame is also mutable. You can modify its columns, add or remove rows, update values, and perform various operations to manipulate the data within the DataFrame.\n",
    "\n",
    "3) Panel: However, Panel is not mutable. Panels were previously a data structure in Pandas that could hold multiple DataFrames along the third axis. However, as of Pandas version 0.25.0, Panels have been deprecated, and it is recommended to use multi-indexing or other alternatives. Panels are not commonly used in recent versions of Pandas."
   ]
  },
  {
   "cell_type": "markdown",
   "id": "646889c7-33b1-42a3-91e6-47f5582e1d72",
   "metadata": {},
   "source": [
    "Q7. Create a DataFrame using multiple Series. Explain with an example."
   ]
  },
  {
   "cell_type": "code",
   "execution_count": 10,
   "id": "ed677f5f-d485-43ce-8eb7-3423a61265a4",
   "metadata": {},
   "outputs": [
    {
     "name": "stdout",
     "output_type": "stream",
     "text": [
      "     Name  Age  Gender\n",
      "0   Alice   25  Female\n",
      "1     Bob   30    Male\n",
      "2  Claire   27  Female\n"
     ]
    }
   ],
   "source": [
    "import pandas as pd\n",
    "\n",
    "\n",
    "names = pd.Series(['Alice', 'Bob', 'Claire'])\n",
    "ages = pd.Series([25, 30, 27])\n",
    "genders = pd.Series(['Female', 'Male', 'Female'])\n",
    "\n",
    "\n",
    "data = {\n",
    "    'Name': names,\n",
    "    'Age': ages,\n",
    "    'Gender': genders\n",
    "}\n",
    "\n",
    "df = pd.DataFrame(data)\n",
    "print(df)\n"
   ]
  },
  {
   "cell_type": "code",
   "execution_count": null,
   "id": "ae7085b2-1d97-45a2-9b6f-0e14dc00e76f",
   "metadata": {},
   "outputs": [],
   "source": []
  }
 ],
 "metadata": {
  "kernelspec": {
   "display_name": "Python 3 (ipykernel)",
   "language": "python",
   "name": "python3"
  },
  "language_info": {
   "codemirror_mode": {
    "name": "ipython",
    "version": 3
   },
   "file_extension": ".py",
   "mimetype": "text/x-python",
   "name": "python",
   "nbconvert_exporter": "python",
   "pygments_lexer": "ipython3",
   "version": "3.10.8"
  }
 },
 "nbformat": 4,
 "nbformat_minor": 5
}
