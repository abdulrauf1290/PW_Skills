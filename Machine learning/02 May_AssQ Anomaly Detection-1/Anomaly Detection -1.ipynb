{
 "cells": [
  {
   "cell_type": "markdown",
   "id": "bec51e4f-77f8-48d8-8053-77bea63f51e0",
   "metadata": {},
   "source": [
    "Q1. What is anomaly detection and what is its purpose? "
   ]
  },
  {
   "cell_type": "markdown",
   "id": "c92b456f-b01f-4a2c-accf-2c8206c00281",
   "metadata": {},
   "source": [
    "Anomaly detection is a process of identifying data points, events, or patterns that deviate significantly from the expected or normal behavior of a system or process. Anomaly detection is commonly used in various fields such as finance, healthcare, cybersecurity, and industrial manufacturing to detect unusual behavior that could indicate fraud, errors, system malfunctions, or potential threats.\n",
    "The purpose of anomaly detection is to identify and flag such anomalies, which could otherwise go unnoticed and cause significant problems or losses. Anomaly detection can help organizations detect and prevent fraud, optimize system performance, enhance security, and ensure regulatory compliance. By identifying and addressing anomalies early on, organizations can take proactive measures to mitigate potential risks and avoid costly consequences"
   ]
  },
  {
   "cell_type": "markdown",
   "id": "cbb29abe-8571-416a-9d0b-124390add830",
   "metadata": {},
   "source": [
    "Q2. What are the key challenges in anomaly detection? "
   ]
  },
  {
   "cell_type": "markdown",
   "id": "f5f7e8de-a8af-4783-bdc0-8fc916e48e85",
   "metadata": {},
   "source": [
    "There are several key challenges in anomaly detection, including:\n",
    "    \n",
    "1. Unlabeled data: In many cases, anomalies are rare and occur infrequently, making it difficult to have enough labeled data for model training. This makes it challenging to build accurate anomaly detection models.\n",
    "\n",
    "2. High dimensionality: Many datasets used in anomaly detection are high-dimensional, meaning they have a large number of features or variables. This can make it difficult to identify which features are most important and can lead to the \"curse of dimensionality\" problem.\n",
    "\n",
    "3. Data imbalance:  Anomalies are often rare events, which can result in data imbalance, making it challenging to train models to detect them.\n",
    "\n",
    "4. Concept drift: The distribution of data can change over time, which can make previously trained models ineffective in detecting new anomalies. This is known as concept drift and requires frequent model retraining.\n",
    "\n",
    "5. Interpretability: Anomaly detection models can be complex and difficult to interpret, making it challenging to understand why a particular data point is flagged as an anomaly.\n",
    "\n",
    "6. False positives and false negatives: Anomaly detection models may generate false positives, flagging normal data as anomalies, or false negatives, missing actual anomalies, which can result in either costly false alarms or missed detections.\n",
    "\n",
    "7. Addressing these challenges requires advanced algorithms, feature engineering, appropriate data preprocessing, and a deep understanding of the domain and the data being analyzed."
   ]
  },
  {
   "cell_type": "markdown",
   "id": "1ca57067-14d0-49d3-8dad-11e6bfee3ff3",
   "metadata": {},
   "source": [
    "Q3. How does unsupervised anomaly detection differ from supervised anomaly detection?"
   ]
  },
  {
   "cell_type": "markdown",
   "id": "fdc0eef6-32d9-450c-bd9d-61aa59ee7cce",
   "metadata": {},
   "source": [
    "Unsupervised anomaly detection and supervised anomaly detection differ primarily in how they use labeled data for training and detecting anomalies.\n",
    "In unsupervised anomaly detection, the data used for training does not contain any labeled anomalies, and the model must learn to identify anomalies based solely on the structure and distribution of the data. This means that the model must identify patterns in the data that deviate significantly from what it has learned as \"normal\" behavior. Unsupervised anomaly detection methods include clustering, density estimation, and dimensionality reduction techniques.\n",
    "\n",
    "In contrast, supervised anomaly detection uses labeled data to train a model that can differentiate between normal and anomalous data points. The model learns to recognize the features that are most indicative of an anomaly and then uses these features to classify new data points as either normal or anomalous. Supervised anomaly detection methods include classification algorithms such as support vector machines, decision trees, and neural networks.\n",
    "\n",
    "The key difference between the two approaches is the availability of labeled data. Supervised methods require labeled data, which may not always be available, while unsupervised methods do not require labeled data and are more appropriate for scenarios where labeled data is scarce or unavailable. However, supervised methods tend to be more accurate than unsupervised methods since they can learn from labeled data and provide more reliable classifications."
   ]
  },
  {
   "cell_type": "markdown",
   "id": "91c8c8ba-d60a-463e-b098-99066becdad2",
   "metadata": {},
   "source": [
    "Q4. What are the main categories of anomaly detection algorithms?  "
   ]
  },
  {
   "cell_type": "markdown",
   "id": "8a83e8a2-6768-470e-9e06-68308607e7f8",
   "metadata": {},
   "source": [
    "The main categories of anomaly detection algorithms include:\n",
    "\n",
    "1. Statistical-based methods: These methods rely on statistical models to identify data points that deviate significantly from the expected behavior. Examples of statistical-based methods include Gaussian Mixture Models (GMM), Principal Component Analysis (PCA), and Time-series Analysis.\n",
    "\n",
    "2. Machine learning-based methods: These methods use machine learning algorithms to learn the patterns of normal behavior in the data and detect deviations from these patterns. Examples of machine learning-based methods include Support Vector Machines (SVM), Decision Trees, Random Forests, and Neural Networks.\n",
    "\n",
    "3. Clustering-based methods: These methods group similar data points together and identify data points that do not belong to any cluster as anomalies. Examples of clustering-based methods include K-means, DBSCAN, and Hierarchical Clustering.\n",
    "\n",
    "4. Density-based methods: These methods identify anomalies based on deviations from the density of the data. Examples of density-based methods include Local Outlier Factor (LOF), Isolation Forests, and Kernel Density Estimation.\n",
    "\n",
    "5. Rule-based methods: These methods define rules or thresholds that identify data points that fall outside of the expected range. Examples of rule-based methods include statistical process control and expert systems.\n",
    "\n",
    "Each category of anomaly detection methods has its strengths and weaknesses, and the appropriate method depends on the type of data, the context of the problem, and the specific requirements of the applicatio"
   ]
  },
  {
   "cell_type": "markdown",
   "id": "57f9a7fc-0b55-4da2-86da-27d7496a946a",
   "metadata": {},
   "source": [
    "Q5. What are the main assumptions made by distance-based anomaly detection methods? "
   ]
  },
  {
   "cell_type": "markdown",
   "id": "654fd363-9c4f-4dd4-9cc0-1e50da47742b",
   "metadata": {},
   "source": [
    "Distance-based anomaly detection methods rely on the assumption that normal data points are clustered tightly together, while anomalies are far away from the normal cluster. The main assumptions made by distance-based anomaly detection methods are:\n",
    "\n",
    "1. Normal data points are close to each other: Distance-based methods assume that normal data points are similar to each other and form a tight cluster, while anomalies are far from the cluster. This assumption is based on the intuition that normal behavior is repetitive and predictable.\n",
    "\n",
    "2. Anomalies are isolated: Distance-based methods assume that anomalies are isolated data points that are far from the normal cluster. This assumption is based on the idea that anomalies are rare and occur infrequently, making them outliers in the data.\n",
    "\n",
    "3. Distance metric is appropriate: Distance-based methods rely on a distance metric to measure the similarity between data points. The assumption is that the distance metric used is appropriate for the data and can accurately capture the similarity between data points.\n",
    "\n",
    "4. Data is numerical: Distance-based methods assume that the data is numerical and can be represented as points in a high-dimensional space. This assumption makes it challenging to apply distance-based methods to categorical or text data.\n",
    "\n",
    "It is essential to validate these assumptions before applying distance-based anomaly detection methods to a specific dataset. If the assumptions are not met, the results of the analysis may be unreliable, and other anomaly detection methods may be more appropriate.\n"
   ]
  },
  {
   "cell_type": "markdown",
   "id": "17952282-3896-4025-af9f-dd93768a2c04",
   "metadata": {},
   "source": [
    "Q6. How does the LOF algorithm compute anomaly scores? "
   ]
  },
  {
   "cell_type": "markdown",
   "id": "6515349d-f6ba-4daf-a84d-8f2c3d121f04",
   "metadata": {},
   "source": [
    "The Local Outlier Factor (LOF) algorithm computes anomaly scores by measuring the local density of a data point with respect to its neighbors. The LOF algorithm identifies data points that have a significantly lower density than their neighbors as anomalies.\n",
    "\n",
    "The algorithm works as follows:\n",
    "1. For each data point, identify its k nearest neighbors based on a distance metric (e.g., Euclidean distance). The value of k is a user-defined parameter.\n",
    "\n",
    "2. Compute the local reachability density (LRD) of the data point as the inverse of the average distance between the data point and its k nearest neighbors.\n",
    "\n",
    "3. Compute the local outlier factor (LOF) of the data point as the average LRD of its k nearest neighbors divided by its own LRD.\n",
    "\n",
    "4. Anomalies are identified as data points with an LOF score that is significantly higher than the LOF scores of their neighbors. The threshold for identifying anomalies is also a user-defined parameter.\n",
    "\n",
    "Intuitively, the LOF algorithm computes the density of a data point in relation to its neighbors and identifies data points that are significantly less dense than their neighbors as anomalies. This approach can detect anomalies that are not isolated, but rather exist in low-density regions of the data.\n",
    "The LOF algorithm is widely used in anomaly detection applications and is especially useful for datasets with non-uniform density distributions."
   ]
  },
  {
   "cell_type": "markdown",
   "id": "040d35d9-1178-4bce-a02b-8c9d7ac6a391",
   "metadata": {},
   "source": [
    "Q7. What are the key parameters of the Isolation Forest algorithm? "
   ]
  },
  {
   "cell_type": "markdown",
   "id": "4f367c05-3fc1-4ccf-94d3-be1e444c5619",
   "metadata": {},
   "source": [
    "The Isolation Forest algorithm is a popular unsupervised anomaly detection algorithm that works by isolating anomalies in a forest of decision trees. The algorithm has two key parameters:\n",
    "\n",
    "1. Number of trees (n_estimators): This parameter determines the number of decision trees to be created in the forest. Increasing the number of trees can improve the accuracy of anomaly detection, but also increases the computational cost and memory requirements of the algorithm.\n",
    "\n",
    "2. Subsample size (max_samples): This parameter determines the number of data points to be randomly selected for each tree in the forest. Setting a smaller subsample size can reduce the computational cost of the algorithm and improve its ability to detect anomalies in large datasets.\n",
    "\n",
    "In addition to these two key parameters, the Isolation Forest algorithm also has other hyperparameters that can be tuned to improve the performance of the algorithm. These hyperparameters include:\n",
    "3. Maximum tree depth (max_depth): This parameter determines the maximum depth of each decision tree in the forest. A deeper tree can capture more complex patterns in the data, but may also overfit the data and reduce the generalizability of the algorithm.\n",
    "\n",
    "4. Number of features to consider for each split (max_features): This parameter determines the number of features to consider for each split in the decision tree. A smaller value of max_features can improve the diversity of the trees in the forest and reduce overfitting.\n",
    "\n",
    "5. Contamination: This parameter determines the expected proportion of anomalies in the data. This parameter is used to calculate a threshold for identifying anomalies based on the anomaly score computed by the algorithm.\n",
    "\n",
    "Choosing appropriate values for these hyperparameters is critical for the performance of the Isolation Forest algorithm. Grid search and cross-validation techniques can be used to find the optimal values of these hyperparameters for a specific dataset."
   ]
  },
  {
   "cell_type": "markdown",
   "id": "1dc772b0-ac60-4a9b-9bd3-6c9a803f683d",
   "metadata": {},
   "source": [
    "Q8. If a data point has only 2 neighbours of the same class within a radius of 0.5, what is its anomaly score\n",
    "using KNN with K=10? "
   ]
  },
  {
   "cell_type": "markdown",
   "id": "d4074b67-8960-40c4-aa27-38ad5aaf56b4",
   "metadata": {},
   "source": [
    "To compute the anomaly score of a data point using K-nearest neighbors (KNN) with K=10, we need to identify the distance between the data point and its 10th nearest neighbor. If the distance is large, the data point is likely to be an anomaly.\n",
    "In this case, the data point has only 2 neighbors of the same class within a radius of 0.5. Since K=10, we need to find the distance between the data point and its 10th nearest neighbor. If the data point has only 2 neighbors within a radius of 0.5, it is unlikely that it will have 10 neighbors within the same radius. Therefore, we cannot compute the anomaly score of the data point using KNN with K=10.\n",
    "However, if we still want to compute the anomaly score using KNN with K=10, we can extend the distance radius until we find 10 neighbors. For example, if we extend the radius to 1, we may find 10 neighbors. We can then compute the distance between the data point and its 10th nearest neighbor and use it to compute the anomaly score. The larger the distance, the higher the anomaly score.\n",
    "Anomaly Score = 1 / (average distance to k nearest neighbors)"
   ]
  }
 ],
 "metadata": {
  "kernelspec": {
   "display_name": "Python 3 (ipykernel)",
   "language": "python",
   "name": "python3"
  },
  "language_info": {
   "codemirror_mode": {
    "name": "ipython",
    "version": 3
   },
   "file_extension": ".py",
   "mimetype": "text/x-python",
   "name": "python",
   "nbconvert_exporter": "python",
   "pygments_lexer": "ipython3",
   "version": "3.10.8"
  }
 },
 "nbformat": 4,
 "nbformat_minor": 5
}
