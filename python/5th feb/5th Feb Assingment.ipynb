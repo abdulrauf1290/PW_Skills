{
 "cells": [
  {
   "cell_type": "markdown",
   "id": "059f4dc3",
   "metadata": {},
   "source": [
    "## Assingment on OOP's"
   ]
  },
  {
   "cell_type": "raw",
   "id": "b202a3d5",
   "metadata": {},
   "source": [
    "Q1. Explain Class and Object with respect to Object-Oriented Programming.Give a suitable example."
   ]
  },
  {
   "cell_type": "raw",
   "id": "eb79c591",
   "metadata": {},
   "source": [
    "---> In object-oriented programming (OOP), a class is a blueprint or a template for creating objects. It defines the properties (attributes) and behaviors (methods) that objects of that class can have. A class provides a way to encapsulate data and functions into a single unit"
   ]
  },
  {
   "cell_type": "code",
   "execution_count": 1,
   "id": "428783b7",
   "metadata": {},
   "outputs": [
    {
     "name": "stdout",
     "output_type": "stream",
     "text": [
      "5\n",
      "4\n",
      "15\n",
      "22\n"
     ]
    }
   ],
   "source": [
    "class Rectangle:\n",
    "    def __init__(self, width, height):\n",
    "        self.width = width\n",
    "        self.height = height\n",
    "    \n",
    "    def get_area(self):\n",
    "        return self.width * self.height\n",
    "    \n",
    "    def get_perimeter(self):\n",
    "        return 2 * (self.width + self.height)\n",
    "\n",
    "# Creating objects (instances) of the Rectangle class\n",
    "rectangle1 = Rectangle(5, 3)\n",
    "rectangle2 = Rectangle(7, 4)\n",
    "\n",
    "# Accessing object properties\n",
    "print(rectangle1.width)  # Output: 5\n",
    "print(rectangle2.height)  # Output: 4\n",
    "\n",
    "# Invoking object methods\n",
    "area1 = rectangle1.get_area()\n",
    "print(area1)  \n",
    "\n",
    "perimeter2 = rectangle2.get_perimeter()\n",
    "print(perimeter2) "
   ]
  },
  {
   "cell_type": "raw",
   "id": "8de3d00a",
   "metadata": {},
   "source": [
    "Q2.Name the Four Pillars of OOPs."
   ]
  },
  {
   "cell_type": "raw",
   "id": "7c689764",
   "metadata": {},
   "source": [
    "---> The four pillars of object-oriented programming (OOP) are:\n",
    "    1)Encapsulation: Encapsulation is the process of bundling data (attributes) and methods (behaviors) together within a class.\n",
    "    2)Inheritance: Inheritance allows a class to inherit properties and methods from another class.\n",
    "    3)Polymorphism: Polymorphism refers to the ability of objects of different classes to be treated as objects of a common base class.\n",
    "    4)Abstraction: Abstraction involves simplifying complex systems by focusing on essential features while hiding unnecessary details"
   ]
  },
  {
   "cell_type": "raw",
   "id": "600b5f90",
   "metadata": {},
   "source": [
    "Q3. Explain why the __init__() function is used. Give a suitable example\n",
    "---> The __init__() function is a special method in Python classes that is automatically called when an object is created from the class."
   ]
  },
  {
   "cell_type": "code",
   "execution_count": 2,
   "id": "643f5be5",
   "metadata": {},
   "outputs": [],
   "source": [
    "class myskills1:\n",
    "    \n",
    "    def __init__(self,phone_number , email_id, student_id ):\n",
    "        self.phone_number = phone_number\n",
    "        self.email_id = email_id\n",
    "        self.student_id = student_id\n",
    "    def return_student_details(self):\n",
    "        return self.student_id, self.phone_number, self.email_id"
   ]
  },
  {
   "cell_type": "code",
   "execution_count": 3,
   "id": "39b55361",
   "metadata": {},
   "outputs": [],
   "source": [
    "rohan=myskills1(456465,\"rohan@gmail.com\",101)"
   ]
  },
  {
   "cell_type": "code",
   "execution_count": 4,
   "id": "e541a898",
   "metadata": {},
   "outputs": [
    {
     "data": {
      "text/plain": [
       "(101, 456465, 'rohan@gmail.com')"
      ]
     },
     "execution_count": 4,
     "metadata": {},
     "output_type": "execute_result"
    }
   ],
   "source": [
    "rohan.return_student_details()"
   ]
  },
  {
   "cell_type": "raw",
   "id": "56e6b306",
   "metadata": {},
   "source": [
    "Q4. Why self is used in OOPs?\n",
    "--->In object-oriented programming (OOP), the self parameter is used to refer to the instance of a class within its own methods. It is a convention in Python to use the name self as the first parameter of instance methods."
   ]
  },
  {
   "cell_type": "raw",
   "id": "2bcc29c4",
   "metadata": {},
   "source": [
    "Q5. What is inheritance? Give an example for each type of inheritance\n",
    "---> Inheritance is a fundamental concept in object-oriented programming (OOP) that allows a class to inherit properties and behaviors from another class."
   ]
  },
  {
   "cell_type": "code",
   "execution_count": 5,
   "id": "e387a531",
   "metadata": {},
   "outputs": [
    {
     "name": "stdout",
     "output_type": "stream",
     "text": [
      "Buddy\n",
      "The animal is eating.\n",
      "The dog is barking.\n"
     ]
    }
   ],
   "source": [
    "class Animal:\n",
    "    def __init__(self, name):\n",
    "        self.name = name\n",
    "\n",
    "    def eat(self):\n",
    "        print(\"The animal is eating.\")\n",
    "\n",
    "class Dog(Animal):\n",
    "    def bark(self):\n",
    "        print(\"The dog is barking.\")\n",
    "\n",
    "# Creating an object of the derived class\n",
    "dog = Dog(\"Buddy\")\n",
    "\n",
    "# Accessing attributes and methods from the base class\n",
    "print(dog.name)  \n",
    "dog.eat()  \n",
    "\n",
    "# Accessing method from the derived class\n",
    "dog.bark()  "
   ]
  },
  {
   "cell_type": "code",
   "execution_count": null,
   "id": "684d7ed4",
   "metadata": {},
   "outputs": [],
   "source": []
  }
 ],
 "metadata": {
  "kernelspec": {
   "display_name": "Python 3 (ipykernel)",
   "language": "python",
   "name": "python3"
  },
  "language_info": {
   "codemirror_mode": {
    "name": "ipython",
    "version": 3
   },
   "file_extension": ".py",
   "mimetype": "text/x-python",
   "name": "python",
   "nbconvert_exporter": "python",
   "pygments_lexer": "ipython3",
   "version": "3.9.13"
  }
 },
 "nbformat": 4,
 "nbformat_minor": 5
}
