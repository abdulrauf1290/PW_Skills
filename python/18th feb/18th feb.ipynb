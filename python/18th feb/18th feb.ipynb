{
 "cells": [
  {
   "cell_type": "raw",
   "id": "9dde7504",
   "metadata": {},
   "source": [
    "Q1. What is an API? Give an example, where an API is used in real life."
   ]
  },
  {
   "cell_type": "raw",
   "id": "74b5356e",
   "metadata": {},
   "source": [
    "---> An API (Application Programming Interface) is a set of rules and protocols that allows different software applications to communicate and interact with each other. "
   ]
  },
  {
   "cell_type": "raw",
   "id": "e8c69f4b",
   "metadata": {},
   "source": [
    "Q2. Give advantages and disadvantages of using API."
   ]
  },
  {
   "cell_type": "raw",
   "id": "1ad0e516",
   "metadata": {},
   "source": [
    "Advantages of using APIs \n",
    "\n",
    "Modular development saves time and effort.\n",
    "\n",
    "Increased productivity and faster time-to-market.\n",
    "\n",
    "Seamless integration between applications and services.\n",
    "\n",
    "Access to external services and data.\n",
    "\n",
    "Foster innovation and create a thriving ecosystem"
   ]
  },
  {
   "cell_type": "raw",
   "id": "520a2e07",
   "metadata": {},
   "source": [
    "Disadvantages of using APIs :\n",
    "\n",
    "Dependency on external services and their availability.\n",
    "\n",
    "Compatibility challenges with evolving API versions.\n",
    "\n",
    "Limited control and customization options.\n",
    "\n",
    "Security and privacy risks with data sharing."
   ]
  },
  {
   "cell_type": "raw",
   "id": "966a7814",
   "metadata": {},
   "source": [
    "Q3. What is a Web API? Differentiate between API and Web API."
   ]
  },
  {
   "cell_type": "raw",
   "id": "9360ee81",
   "metadata": {},
   "source": [
    "A Web API (Application Programming Interface) is a type of API that specifically uses the protocols and standards of the World Wide Web to enable communication and interaction between different software applications over the internet. "
   ]
  },
  {
   "cell_type": "raw",
   "id": "2c5e6d51",
   "metadata": {},
   "source": [
    "Scope: APIs have a broader scope and can refer to interfaces that enable communication and interaction between different software components or systems\n",
    "\n",
    "Web APIs, on the other hand, specifically refer to APIs that are designed to work over the web. They utilize HTTP (Hypertext Transfer Protocol) as the communication protocol and are typically used for accessing web-based services or retrieving and manipulating data from remote servers"
   ]
  },
  {
   "cell_type": "raw",
   "id": "f1f8f057",
   "metadata": {},
   "source": [
    "Q4. Explain REST and SOAP Architecture. Mention shortcomings of SOAP."
   ]
  },
  {
   "cell_type": "raw",
   "id": "7d16ec3d",
   "metadata": {},
   "source": [
    "REST (Representational State Transfer) and SOAP (Simple Object Access Protocol) are two architectural styles used for designing web services.\n",
    "\n",
    "REST Architecture:\n",
    "\n",
    "REST is an architectural style that emphasizes a stateless, client-server communication model over the HTTP protocol.\n",
    "\n",
    "It is based on a set of principles and constraints, such as using uniform resource identifiers (URIs) to identify resources, employing standard HTTP methods (GET, POST, PUT, DELETE) for operations on resources, and leveraging hypermedia for state transitions.\n",
    "\n",
    "SOAP Architecture:\n",
    "\n",
    "SOAP is a protocol that defines a standardized format for exchanging structured information between web services over various communication protocols, including HTTP, SMTP, and others.\n",
    "\n",
    "It relies on XML (Extensible Markup Language) for message formatting and typically uses a Web Services Description Language (WSDL) to describe the structure and functionality of the web service."
   ]
  },
  {
   "cell_type": "raw",
   "id": "8ff69e78",
   "metadata": {},
   "source": [
    "Q5. Differentiate between REST and SOAP. \n",
    "Architecture:\n",
    "\n",
    "REST (Representational State Transfer) is an architectural style that uses a stateless, client-server communication model. It focuses on resources and leveraging HTTP methods for operations on these resources.\n",
    "\n",
    "SOAP (Simple Object Access Protocol) is a protocol that defines a standardized format for exchanging structured information between web services. It uses XML for message formatting and supports various communication protocols.\n",
    "Communication Style:\n",
    "\n",
    "REST is based on a stateless, request-response communication style. Clients send HTTP requests to servers, and servers respond with the requested data in a desired format (e.g., JSON, XML).\n",
    "\n",
    "SOAP allows for more complex communication patterns beyond the simple request-response model. It supports additional features like one-way messaging, asynchronous communication, and advanced error handling."
   ]
  },
  {
   "cell_type": "code",
   "execution_count": null,
   "id": "43dfbd0b",
   "metadata": {},
   "outputs": [],
   "source": []
  }
 ],
 "metadata": {
  "kernelspec": {
   "display_name": "Python 3 (ipykernel)",
   "language": "python",
   "name": "python3"
  },
  "language_info": {
   "codemirror_mode": {
    "name": "ipython",
    "version": 3
   },
   "file_extension": ".py",
   "mimetype": "text/x-python",
   "name": "python",
   "nbconvert_exporter": "python",
   "pygments_lexer": "ipython3",
   "version": "3.9.13"
  }
 },
 "nbformat": 4,
 "nbformat_minor": 5
}
