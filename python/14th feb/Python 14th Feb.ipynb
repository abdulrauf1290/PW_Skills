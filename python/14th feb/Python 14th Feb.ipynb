{
 "cells": [
  {
   "cell_type": "raw",
   "id": "7fc7dac3",
   "metadata": {},
   "source": [
    "Q2.Why threading module used? rite the use of the following functions\n",
    "1.activeCount()\n",
    "2.currentThread()\n",
    "3.enumerate()"
   ]
  },
  {
   "cell_type": "raw",
   "id": "534ed1bf",
   "metadata": {},
   "source": [
    "---> The threading module in Python is used for creating and managing threads, which are separate flows of execution within a program.\n",
    "activeCount(): This function returns the number of Thread objects currently alive.\n",
    "currentThread(): This function returns the Thread object representing the currently executing thread.\n",
    "enumerate(): This function returns a list of all Thread objects currently alive."
   ]
  },
  {
   "cell_type": "raw",
   "id": "8e0ba957",
   "metadata": {},
   "source": [
    "3.Explain the following functions\n",
    "\n",
    "1.run()\n",
    "2.start\n",
    "3.join\n",
    "4.isAlive()"
   ]
  },
  {
   "cell_type": "raw",
   "id": "b7a6b365",
   "metadata": {},
   "source": [
    "run(): The run() method is a fundamental method of a thread class. It contains the code that will be executed when the thread is started. \n",
    "\n",
    "start(): The start() method is used to initiate the execution of a thread. When you call start() on a thread object, it schedules the thread to run independently.\n",
    "\n",
    "join(): The join() method is used to wait for a thread to complete its execution. When you call join() on a thread object, the calling thread (usually the main thread) will be blocked until the target thread finishes executing.\n",
    "\n",
    "isAlive(): The isAlive() method is used to check whether a thread is currently running or not. It returns True if the thread is still active and executing its code, and False otherwise"
   ]
  },
  {
   "cell_type": "markdown",
   "id": "72f6b871",
   "metadata": {},
   "source": [
    "Q4. write a python program to create two threads. Thread one must print the list of squares and thread\n",
    "two must print the list of cubes."
   ]
  },
  {
   "cell_type": "code",
   "execution_count": 1,
   "id": "562c32b9",
   "metadata": {},
   "outputs": [
    {
     "name": "stdout",
     "output_type": "stream",
     "text": [
      "Square of 1: 1\n",
      "Square of 2: 4\n",
      "Square of 3: 9\n",
      "Square of 4: 16\n",
      "Square of 5: 25\n",
      "Cube of 1: 1\n",
      "Cube of 2: 8\n",
      "Cube of 3: 27\n",
      "Cube of 4: 64\n",
      "Cube of 5: 125\n",
      "Program execution completed.\n"
     ]
    }
   ],
   "source": [
    "import threading\n",
    "\n",
    "def print_squares():\n",
    "    for num in range(1, 6):\n",
    "        square = num ** 2\n",
    "        print(f\"Square of {num}: {square}\")\n",
    "\n",
    "def print_cubes():\n",
    "    for num in range(1, 6):\n",
    "        cube = num ** 3\n",
    "        print(f\"Cube of {num}: {cube}\")\n",
    "\n",
    "thread1 = threading.Thread(target=print_squares)\n",
    "\n",
    "thread2 = threading.Thread(target=print_cubes)\n",
    "\n",
    "thread1.start()\n",
    "thread2.start()\n",
    "\n",
    "\n",
    "thread1.join()\n",
    "thread2.join()\n",
    "\n",
    "print(\"Program execution completed.\")"
   ]
  },
  {
   "cell_type": "raw",
   "id": "ba9b36dc",
   "metadata": {},
   "source": [
    "Q5. State advantages and disadvantages of multithreading"
   ]
  },
  {
   "cell_type": "raw",
   "id": "65cf6611",
   "metadata": {},
   "source": [
    "Advantages of Multithreading:\n",
    "\n",
    "Improved performance through parallel processing.\n",
    "\n",
    "Enhanced responsiveness and user experience.\n",
    "\n",
    "Efficient resource sharing and utilization.\n",
    "\n",
    "Simplified program structure and coordination.\n",
    "\n",
    "Disadvantages of Multithreading:\n",
    "\n",
    "Increased complexity and difficulty in development.\n",
    "\n",
    "Higher risk of bugs and synchronization issues.\n",
    "\n",
    "Overhead and resource consumption.\n",
    "\n",
    "Limited scalability in certain scenarios."
   ]
  },
  {
   "cell_type": "raw",
   "id": "31bef59a",
   "metadata": {},
   "source": [
    " 6. Explain deadlocks and race conditions."
   ]
  },
  {
   "cell_type": "raw",
   "id": "4c03845f",
   "metadata": {},
   "source": [
    "A deadlock occurs when two or more threads or processes are indefinitely blocked, waiting for each other to release resources. It typically happens when each thread holds a resource that another thread requires to proceed, creating a circular dependency. "
   ]
  },
  {
   "cell_type": "code",
   "execution_count": null,
   "id": "4d0ff84c",
   "metadata": {},
   "outputs": [],
   "source": []
  },
  {
   "cell_type": "code",
   "execution_count": null,
   "id": "2347233e",
   "metadata": {},
   "outputs": [],
   "source": []
  }
 ],
 "metadata": {
  "kernelspec": {
   "display_name": "Python 3 (ipykernel)",
   "language": "python",
   "name": "python3"
  },
  "language_info": {
   "codemirror_mode": {
    "name": "ipython",
    "version": 3
   },
   "file_extension": ".py",
   "mimetype": "text/x-python",
   "name": "python",
   "nbconvert_exporter": "python",
   "pygments_lexer": "ipython3",
   "version": "3.9.13"
  }
 },
 "nbformat": 4,
 "nbformat_minor": 5
}
