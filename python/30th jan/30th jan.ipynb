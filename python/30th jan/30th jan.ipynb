{
 "cells": [
  {
   "cell_type": "raw",
   "id": "2ee8fc76",
   "metadata": {},
   "source": [
    "Q1. Write a program to accept percentage from the user and display the grade according to the following criteria"
   ]
  },
  {
   "cell_type": "code",
   "execution_count": 1,
   "id": "3462289f",
   "metadata": {},
   "outputs": [
    {
     "name": "stdout",
     "output_type": "stream",
     "text": [
      "Enter Your Marks 86\n",
      "B\n"
     ]
    }
   ],
   "source": [
    "marks = int(input(\"Enter Your Marks \"))\n",
    "\n",
    "if marks > 90 :\n",
    "    print(\"A\")\n",
    "elif marks > 80 and marks <=90 :\n",
    "    print(\"B\")\n",
    "elif marks >= 60 and marks <= 80 :\n",
    "    print(\"C\")\n",
    "else :\n",
    "    marks < 60\n",
    "    print(\"D\")"
   ]
  },
  {
   "cell_type": "raw",
   "id": "a7cfbd22",
   "metadata": {},
   "source": [
    "Q2. write a program to accept the cost price of a bike and display the road tax t be paid according to the following criteria"
   ]
  },
  {
   "cell_type": "code",
   "execution_count": 2,
   "id": "63804368",
   "metadata": {},
   "outputs": [
    {
     "name": "stdout",
     "output_type": "stream",
     "text": [
      "what is price of bike80000\n",
      "10%\n"
     ]
    }
   ],
   "source": [
    "cost_price = int(input(\"what is price of bike\"))\n",
    "if cost_price > 100000 :\n",
    "    print(\"15%\")\n",
    "elif cost_price > 50000 and cost_price <= 100000 :\n",
    "    print(\"10%\")\n",
    "else :\n",
    "    cost_price <= 50000 \n",
    "    print(\"5%\")"
   ]
  },
  {
   "cell_type": "raw",
   "id": "ad71b660",
   "metadata": {},
   "source": [
    "Q3. Accept any city from the user and display monuments of that city "
   ]
  },
  {
   "cell_type": "code",
   "execution_count": 7,
   "id": "5ffd1220",
   "metadata": {},
   "outputs": [
    {
     "name": "stdout",
     "output_type": "stream",
     "text": [
      "Enter The City NameAgra\n",
      "Taj Mahal\n"
     ]
    }
   ],
   "source": [
    "City = str(input(\"Enter The City Name\"))\n",
    "if City == \"Delhi\" :\n",
    "    print(\"Read Fort\")\n",
    "elif City == \"Agra\" :\n",
    "    print(\"Taj Mahal\")\n",
    "elif City == \"jaipur\" :\n",
    "    print(\"Jal Mahal\")\n",
    "elif City == \"Aurangabad\" :\n",
    "    print(\"Bibi Ka Maqbara\")\n",
    "else : \n",
    "    print(\"Enter valid city name \")"
   ]
  },
  {
   "cell_type": "markdown",
   "id": "bcec684a",
   "metadata": {},
   "source": [
    "Q4.Check how many ties a given number can be divided by 3 before it is less than or equal to 10"
   ]
  },
  {
   "cell_type": "code",
   "execution_count": 8,
   "id": "86ab2c9a",
   "metadata": {},
   "outputs": [
    {
     "name": "stdout",
     "output_type": "stream",
     "text": [
      "Enter a number: 55\n",
      "The number can be divided by 3 2 times before it is less than or equal to 10.\n"
     ]
    }
   ],
   "source": [
    "number = int(input(\"Enter a number: \"))\n",
    "count = 0\n",
    "\n",
    "while number > 10:\n",
    "    number /= 3\n",
    "    count += 1\n",
    "\n",
    "print(\"The number can be divided by 3\", count, \"times before it is less than or equal to 10.\")"
   ]
  },
  {
   "cell_type": "raw",
   "id": "63620ee2",
   "metadata": {},
   "source": [
    "Q5.why and when to use wile loop in python give a detailed description with example \n",
    "--> A while loop is a type of loop in Python that allows us to repeatedly execute a block of code as long as a specified condition is true. The condition is checked at the beginning of each iteration, and the loop continues to run until the condition is no longer true.\n",
    "\n",
    "The while loop is useful when we want to repeatedly execute a block of code until a specific condition is met. For example, we can use a while loop to repeatedly prompt the user for input until they enter a valid input. We can also use a while loop to repeatedly perform calculations or operations until a certain result is achieved.\n",
    "For example, here is a while loop that calculates the factorial of a given number:\n",
    "\n",
    "number = int(input(\"Enter a positive integer: \"))\n",
    "factorial = 1\n",
    "\n",
    "while number > 0:\n",
    "    factorial *= number\n",
    "    number -= 1\n",
    "\n",
    "print(\"The factorial of\", number, \"is\", factorial)"
   ]
  },
  {
   "cell_type": "raw",
   "id": "0b70d6c6",
   "metadata": {},
   "source": [
    "Q.6 Use Nested While loop to print 3 diffrent pattern"
   ]
  },
  {
   "cell_type": "code",
   "execution_count": 9,
   "id": "d54e881d",
   "metadata": {},
   "outputs": [
    {
     "name": "stdout",
     "output_type": "stream",
     "text": [
      "1 \n",
      "2 2 \n",
      "3 3 3 \n",
      "4 4 4 4 \n",
      "5 5 5 5 5 \n",
      "6 6 6 6 6 6 \n"
     ]
    }
   ],
   "source": [
    "n = 6\n",
    "i = 1\n",
    "\n",
    "while i <= n:\n",
    "    j = 1\n",
    "    while j <= i:\n",
    "        print(i, end=' ')\n",
    "        j += 1\n",
    "    print()\n",
    "    i += 1"
   ]
  },
  {
   "cell_type": "raw",
   "id": "a9411781",
   "metadata": {},
   "source": [
    "Pattern 2:"
   ]
  },
  {
   "cell_type": "code",
   "execution_count": 10,
   "id": "cdad14c9",
   "metadata": {},
   "outputs": [
    {
     "name": "stdout",
     "output_type": "stream",
     "text": [
      "* \n",
      "* * \n",
      "* * * \n",
      "* * * * \n",
      "* * * * * \n"
     ]
    }
   ],
   "source": [
    "n = 5\n",
    "i = 1\n",
    "\n",
    "while i <= n:\n",
    "    j = 1\n",
    "    while j <= i:\n",
    "        print('*', end=' ')\n",
    "        j += 1\n",
    "    print()\n",
    "    i += 1"
   ]
  },
  {
   "cell_type": "raw",
   "id": "af5e507b",
   "metadata": {},
   "source": [
    "Pattern 3:"
   ]
  },
  {
   "cell_type": "code",
   "execution_count": 11,
   "id": "be03eb76",
   "metadata": {},
   "outputs": [
    {
     "name": "stdout",
     "output_type": "stream",
     "text": [
      "1 \n",
      "1 2 \n",
      "1 2 3 \n",
      "1 2 3 4 \n",
      "1 2 3 4 5 \n"
     ]
    }
   ],
   "source": [
    "n = 5\n",
    "i = 1\n",
    "\n",
    "while i <= n:\n",
    "    j = 1\n",
    "    while j <= i:\n",
    "        print(j, end=' ')\n",
    "        j += 1\n",
    "    print()\n",
    "    i += 1"
   ]
  },
  {
   "cell_type": "raw",
   "id": "3649c643",
   "metadata": {},
   "source": [
    "Q7. Reverse a while loop to display numbers from 10 to 1"
   ]
  },
  {
   "cell_type": "code",
   "execution_count": 12,
   "id": "49e56b19",
   "metadata": {},
   "outputs": [
    {
     "name": "stdout",
     "output_type": "stream",
     "text": [
      "10\n",
      "9\n",
      "8\n",
      "7\n",
      "6\n",
      "5\n",
      "4\n",
      "3\n",
      "2\n",
      "1\n"
     ]
    }
   ],
   "source": [
    "n = 10\n",
    "while n >= 1:\n",
    "    print(n)\n",
    "    n -= 1"
   ]
  },
  {
   "cell_type": "code",
   "execution_count": null,
   "id": "7bab8ecc",
   "metadata": {},
   "outputs": [],
   "source": []
  },
  {
   "cell_type": "code",
   "execution_count": null,
   "id": "7d664fd9",
   "metadata": {},
   "outputs": [],
   "source": []
  }
 ],
 "metadata": {
  "kernelspec": {
   "display_name": "Python 3 (ipykernel)",
   "language": "python",
   "name": "python3"
  },
  "language_info": {
   "codemirror_mode": {
    "name": "ipython",
    "version": 3
   },
   "file_extension": ".py",
   "mimetype": "text/x-python",
   "name": "python",
   "nbconvert_exporter": "python",
   "pygments_lexer": "ipython3",
   "version": "3.9.13"
  }
 },
 "nbformat": 4,
 "nbformat_minor": 5
}
