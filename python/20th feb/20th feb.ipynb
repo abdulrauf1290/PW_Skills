{
 "cells": [
  {
   "cell_type": "raw",
   "id": "b130e897",
   "metadata": {},
   "source": [
    "Q1. Explain GET and POST methods.\n",
    "---> GET and POST are two commonly used methods in HTTP (Hypertext Transfer Protocol), which is the underlying protocol used for communication between web browsers and web servers. Both methods are used to send data from the client (usually a web browser) to the server, but they have different characteristics and purposes.\n",
    "GET is used for sennding the data through URL\n",
    "and post is used for sending the data through body post methods is secure then get method becuse in post information is hide."
   ]
  },
  {
   "cell_type": "raw",
   "id": "74e3c7fa",
   "metadata": {},
   "source": [
    "Q2. Why is request used in Flask?\n",
    "--> n Flask, a popular Python web framework, the request object is used to access and handle incoming HTTP requests from clients (usually web browsers). The request object provides access to various aspects of the HTTP request, such as the request method, headers, URL parameters, form data, and more. It allows the Flask application to extract and process the data sent by the client."
   ]
  },
  {
   "cell_type": "raw",
   "id": "fd556095",
   "metadata": {},
   "source": [
    " Q3. Why is redirect() used in Flask?\n",
    "---> In Flask, the redirect() function is used to redirect the client's web browser to a different URL. It allows the Flask application to send an HTTP redirect response to the client, instructing the browser to navigate to a new location."
   ]
  },
  {
   "cell_type": "raw",
   "id": "5551e076",
   "metadata": {},
   "source": [
    "Q4. What are templates in Flask? Why is the render_template() function used?\n",
    "---> In Flask, templates are files that contain the structure and layout of the web pages that the application will render and display to the user. Templates are typically written in HTML (HyperText Markup Language) and may include placeholders or dynamic content that is filled in by the Flask application"
   ]
  },
  {
   "cell_type": "raw",
   "id": "d49e91bb",
   "metadata": {},
   "source": [
    "Q5. Create a simple API. Use Postman to test it. Attach the screenshot of the output in the Jupyter Notebook.\n",
    "---> \n",
    "from flask import Flask,request ,render_template , jsonify\n",
    "\n",
    "app = Flask(__name__)\n",
    "\n",
    "\n",
    "@app.route('/')\n",
    "def home_page():\n",
    "    return render_template('index.html')\n",
    "\n",
    "\n",
    "@app.route('/math',methods=['POST'])\n",
    "def math_ops():\n",
    "    if(request.method == 'POST'):\n",
    "        ops = request.form['operation']\n",
    "        num1 = int(request.form['num1'])\n",
    "        num2 = int(request.form['num2'])\n",
    "        if ops == 'add':\n",
    "            r = num1+num2\n",
    "            result = \"The sum of \" + str(num1) + 'and ' + str(num2) + \"is \" + str(r)\n",
    "        if ops == 'subtract':\n",
    "            r = num1-num2\n",
    "            result = \"The subtract of \" + str(num1) + 'and ' + str(num2) + \"is \" + str(r)\n",
    "        if ops == 'multiply':\n",
    "            r = num1*num2\n",
    "            result = \"The multiply of \" + str(num1) + 'and ' + str(num2) + \"is \" + str(r)\n",
    "        if ops == 'divide':\n",
    "            r = num1/num2\n",
    "            result = \"The divide of \" + str(num1) + 'and ' + str(num2) + \"is \" + str(r)\n",
    "            \n",
    "        return render_template('results.html' , result = result)\n",
    "\n",
    "\n",
    "\n",
    "\n",
    "@app.route('/postman_action',methods=['POST'])\n",
    "def math_ops1():\n",
    "    if(request.method == 'POST'):\n",
    "        ops = request.json['operation']\n",
    "        num1 = int(request.json['num1'])\n",
    "        num2 = int(request.json['num2'])\n",
    "        if ops == 'add':\n",
    "            r = num1+num2\n",
    "            result = \"The sum of \" + str(num1) + 'and ' + str(num2) + \"is \" + str(r)\n",
    "        if ops == 'subtract':\n",
    "            r = num1-num2\n",
    "            result = \"The subtract of \" + str(num1) + 'and ' + str(num2) + \"is \" + str(r)\n",
    "        if ops == 'multiply':\n",
    "            r = num1*num2\n",
    "            result = \"The multiply of \" + str(num1) + 'and ' + str(num2) + \"is \" + str(r)\n",
    "        if ops == 'divide':\n",
    "            r = num1/num2\n",
    "            result = \"The divide of \" + str(num1) + 'and ' + str(num2) + \"is \" + str(r)\n",
    "            \n",
    "        return jsonify(result)\n",
    "\n",
    "if __name__==\"__main__\":\n",
    "    app.run(host=\"0.0.0.0\")\n"
   ]
  },
  {
   "cell_type": "code",
   "execution_count": null,
   "id": "dabbf5b6",
   "metadata": {},
   "outputs": [],
   "source": []
  }
 ],
 "metadata": {
  "kernelspec": {
   "display_name": "Python 3 (ipykernel)",
   "language": "python",
   "name": "python3"
  },
  "language_info": {
   "codemirror_mode": {
    "name": "ipython",
    "version": 3
   },
   "file_extension": ".py",
   "mimetype": "text/x-python",
   "name": "python",
   "nbconvert_exporter": "python",
   "pygments_lexer": "ipython3",
   "version": "3.9.13"
  }
 },
 "nbformat": 4,
 "nbformat_minor": 5
}
