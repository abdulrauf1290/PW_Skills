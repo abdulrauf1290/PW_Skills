{
 "cells": [
  {
   "cell_type": "markdown",
   "id": "ca92ffb9",
   "metadata": {},
   "source": [
    "## OOP'S Task"
   ]
  },
  {
   "cell_type": "raw",
   "id": "2c7017eb",
   "metadata": {},
   "source": [
    "Q1, Create a vehicle class with an init method having instance variables as name_of_vehicle, max_speed\n",
    "and average_of_vehicle."
   ]
  },
  {
   "cell_type": "code",
   "execution_count": 2,
   "id": "e20f4272",
   "metadata": {},
   "outputs": [],
   "source": [
    "class vehicle:\n",
    "    \n",
    "    def __init__(self,name_of_vehicle,max_speed,average_of_vehicle):\n",
    "        self.name_of_vehicle = name_of_vehicle\n",
    "        self.max_speed = max_speed\n",
    "        self.average_of_vehicle = average_of_vehicle"
   ]
  },
  {
   "cell_type": "code",
   "execution_count": 3,
   "id": "bdae9e46",
   "metadata": {},
   "outputs": [],
   "source": [
    "car = vehicle(\"car\" ,200 ,30)"
   ]
  },
  {
   "cell_type": "code",
   "execution_count": 4,
   "id": "4b956af0",
   "metadata": {},
   "outputs": [
    {
     "data": {
      "text/plain": [
       "'car'"
      ]
     },
     "execution_count": 4,
     "metadata": {},
     "output_type": "execute_result"
    }
   ],
   "source": [
    "car.name_of_vehicle"
   ]
  },
  {
   "cell_type": "code",
   "execution_count": 5,
   "id": "38902be6",
   "metadata": {},
   "outputs": [
    {
     "data": {
      "text/plain": [
       "200"
      ]
     },
     "execution_count": 5,
     "metadata": {},
     "output_type": "execute_result"
    }
   ],
   "source": [
    "car.max_speed"
   ]
  },
  {
   "cell_type": "code",
   "execution_count": 6,
   "id": "bf8ea5e8",
   "metadata": {},
   "outputs": [
    {
     "data": {
      "text/plain": [
       "30"
      ]
     },
     "execution_count": 6,
     "metadata": {},
     "output_type": "execute_result"
    }
   ],
   "source": [
    "car.average_of_vehicle"
   ]
  },
  {
   "cell_type": "raw",
   "id": "14024bba",
   "metadata": {},
   "source": [
    "Q2. Create a child class car from the vehicle class created in Que 1, which will inherit the vehicle class.\n",
    "Create a method named seating_capacity which takes capacity as an argument and returns the name of\n",
    "the vehicle and its seating capacity.\n"
   ]
  },
  {
   "cell_type": "code",
   "execution_count": 7,
   "id": "c989a633",
   "metadata": {},
   "outputs": [],
   "source": [
    "class Car(vehicle) :\n",
    "    \n",
    "    def searting_capacity(self,capacity):\n",
    "        return f\"{self.name_of_vehicle} has a seating capacity of {capacity} people.\""
   ]
  },
  {
   "cell_type": "code",
   "execution_count": 8,
   "id": "0589425a",
   "metadata": {},
   "outputs": [
    {
     "data": {
      "text/plain": [
       "'fortuner has a seating capacity of 8 people.'"
      ]
     },
     "execution_count": 8,
     "metadata": {},
     "output_type": "execute_result"
    }
   ],
   "source": [
    "car = Car('fortuner',20,30)\n",
    "car.searting_capacity(8)"
   ]
  },
  {
   "cell_type": "raw",
   "id": "83e6fe93",
   "metadata": {},
   "source": [
    "Q3. What is multiple inheritance? Write a python code to demonstrate multiple inheritance."
   ]
  },
  {
   "cell_type": "raw",
   "id": "2381b287",
   "metadata": {},
   "source": [
    "---> Multiple inheritance is a feature in object-oriented programming where a class can inherit attributes and methods from more than one parent class. This allows a derived class to have characteristics and behaviors from multiple source classes."
   ]
  },
  {
   "cell_type": "code",
   "execution_count": 9,
   "id": "0c94b4c6",
   "metadata": {},
   "outputs": [
    {
     "name": "stdout",
     "output_type": "stream",
     "text": [
      "SkyCar is being driven.\n",
      "SkyCar is flying.\n"
     ]
    }
   ],
   "source": [
    "''' an example code that demonstrates multiple inheritance in Python '''\n",
    "class Vehicle:\n",
    "    def __init__(self, name):\n",
    "        self.name = name\n",
    "\n",
    "    def drive(self):\n",
    "        print(f\"{self.name} is being driven.\")\n",
    "\n",
    "class FlyingVehicle:\n",
    "    def fly(self):\n",
    "        print(f\"{self.name} is flying.\")\n",
    "\n",
    "class Car(Vehicle):\n",
    "    def __init__(self, name):\n",
    "        super().__init__(name)\n",
    "\n",
    "class FlyingCar(Car, FlyingVehicle):\n",
    "    def __init__(self, name):\n",
    "        super().__init__(name)\n",
    "\n",
    "car = FlyingCar(\"SkyCar\")\n",
    "car.drive()\n",
    "car.fly()"
   ]
  },
  {
   "cell_type": "raw",
   "id": "cf611fe7",
   "metadata": {},
   "source": [
    "Q4. What are getter and setter in python? Create a class and create a getter and a setter method in this\n",
    "class."
   ]
  },
  {
   "cell_type": "raw",
   "id": "a52b1839",
   "metadata": {},
   "source": [
    "---> Getters and setters are methods used to access and modify the attributes (variables) of a class, encapsulating them and providing controlled access to them."
   ]
  },
  {
   "cell_type": "code",
   "execution_count": 10,
   "id": "f3fe1703",
   "metadata": {},
   "outputs": [
    {
     "name": "stdout",
     "output_type": "stream",
     "text": [
      "Sharukh\n",
      "Tiger\n"
     ]
    }
   ],
   "source": [
    "class Person:\n",
    "    def __init__(self, name):\n",
    "        self._name = name \n",
    "\n",
    "    def get_name(self):\n",
    "        return self._name\n",
    "\n",
    "    def set_name(self, new_name):\n",
    "        self._name = new_name\n",
    "\n",
    "\n",
    "person = Person(\"Sharukh\")\n",
    "\n",
    "print(person.get_name())  \n",
    "\n",
    "person.set_name(\"Tiger\")\n",
    "\n",
    "print(person.get_name())  "
   ]
  },
  {
   "cell_type": "raw",
   "id": "006a408d",
   "metadata": {},
   "source": [
    "Q5.What is method overriding in python? Write a python code to demonstrate method overriding.\n",
    "\n",
    "---> Method overriding is a concept in object-oriented programming where a subclass provides its own implementation of a method that is already defined in its parent class. This allows the subclass to modify or extend the behavior of the inherited method."
   ]
  },
  {
   "cell_type": "code",
   "execution_count": 11,
   "id": "37f805e0",
   "metadata": {},
   "outputs": [
    {
     "name": "stdout",
     "output_type": "stream",
     "text": [
      "Driving the car.\n",
      "Driving the truck.\n"
     ]
    }
   ],
   "source": [
    "class Vehicle:\n",
    "    def drive(self):\n",
    "        print(\"Driving the vehicle.\")\n",
    "\n",
    "class Car(Vehicle):\n",
    "    def drive(self):\n",
    "        print(\"Driving the car.\")\n",
    "\n",
    "class Truck(Vehicle):\n",
    "    def drive(self):\n",
    "        print(\"Driving the truck.\")\n",
    "\n",
    "car = Car()\n",
    "truck = Truck()\n",
    "\n",
    "car.drive()  \n",
    "truck.drive() "
   ]
  },
  {
   "cell_type": "code",
   "execution_count": null,
   "id": "d13afbd6",
   "metadata": {},
   "outputs": [],
   "source": []
  }
 ],
 "metadata": {
  "kernelspec": {
   "display_name": "Python 3 (ipykernel)",
   "language": "python",
   "name": "python3"
  },
  "language_info": {
   "codemirror_mode": {
    "name": "ipython",
    "version": 3
   },
   "file_extension": ".py",
   "mimetype": "text/x-python",
   "name": "python",
   "nbconvert_exporter": "python",
   "pygments_lexer": "ipython3",
   "version": "3.9.13"
  }
 },
 "nbformat": 4,
 "nbformat_minor": 5
}
