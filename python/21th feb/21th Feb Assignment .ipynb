{
 "cells": [
  {
   "cell_type": "markdown",
   "id": "216896e6-b336-4889-929d-d0ee6fc229f4",
   "metadata": {},
   "source": [
    "1.What is Web Scraping? Why is it Used? Give three areas where Web Scraping is used to get data? \n",
    "\n",
    "--->\n",
    "web scraping refers to the process of extracting data from websites using automated scripts or tools. It involves retrieving specific information from web pages, such as text, images, links, and other structured data, and saving it in a structured format for further analysis or use."
   ]
  },
  {
   "cell_type": "code",
   "execution_count": null,
   "id": "68d93874-3e11-4ea9-856a-69fedc39d64b",
   "metadata": {},
   "outputs": [],
   "source": [
    "Q2. What are the different methods used for Web Scraping?  \n",
    "\n",
    "---> There are several methods used for web scraping, depending on the complexity of the task and the tools available. Here are some commonly used methods:\n",
    "\n",
    "Manual Copy-Pasting\n",
    "Scraping using programming languages (Python, JavaScript, Ruby, etc.)\n",
    "HTML Parsing\n",
    "CSS Selectors\n",
    "XPath\n"
   ]
  },
  {
   "cell_type": "markdown",
   "id": "5c2c7c4d-c6a8-4f77-b0b3-5c585724e0ad",
   "metadata": {},
   "source": [
    "Q3. What is Beautiful Soup? Why is it used? \n",
    "\n",
    "--->\n",
    "eautiful Soup is a popular Python library used for web scraping and parsing HTML or XML documents. It provides a convenient and powerful interface for extracting data from web pages by navigating the HTML structure.\n",
    "\n",
    "Beautiful Soup is used for several reasons:\n",
    "\n",
    "HTML Parsing: Beautiful Soup parses HTML and XML documents, allowing developers to navigate and manipulate the document tree. It handles imperfect or poorly formatted markup, making it useful for scraping data from websites with inconsistent HTML structures.\n",
    "\n",
    "Easy-to-Use API: Beautiful Soup provides a simple and intuitive API that abstracts away the complexities of parsing and navigating HTML. It allows developers to access and manipulate elements, attributes, text content, and other data from web pages effortlessly. \n",
    "\n"
   ]
  },
  {
   "cell_type": "markdown",
   "id": "c0d47e31-a003-4c11-a52f-1a152b898c3b",
   "metadata": {},
   "source": [
    "Q4. Why is flask used in this Web Scraping project? \n",
    "\n",
    "---> Flask is a lightweight web framework for Python that is commonly used in web scraping projects for several reasons:\n",
    "\n",
    "Server-Side Development: Flask allows developers to create a server-side application that can handle HTTP requests and responses. In the context of web scraping, Flask can be used to create a web server that exposes endpoints for initiating and controlling the scraping process.\n",
    "\n",
    "Web Interface: Flask enables the development of a user interface or dashboard that allows users to interact with the web scraping project. This interface can provide options for inputting URLs, selecting scraping parameters, initiating the scraping process, and displaying the scraped data.\n",
    "\n",
    "API Development: Flask can be used to build an API that exposes the scraping functionality, allowing other applications or services to programmatically request data from the scraping project. This can facilitate integration with other systems and enable automation of the scraping process."
   ]
  },
  {
   "cell_type": "code",
   "execution_count": null,
   "id": "3adf7a52-152e-41ee-8fe4-db45e938e61d",
   "metadata": {},
   "outputs": [],
   "source": [
    "Q5. Write the names of AWS services used in this project. Also, explain the use of each service."
   ]
  }
 ],
 "metadata": {
  "kernelspec": {
   "display_name": "Python 3 (ipykernel)",
   "language": "python",
   "name": "python3"
  },
  "language_info": {
   "codemirror_mode": {
    "name": "ipython",
    "version": 3
   },
   "file_extension": ".py",
   "mimetype": "text/x-python",
   "name": "python",
   "nbconvert_exporter": "python",
   "pygments_lexer": "ipython3",
   "version": "3.10.8"
  }
 },
 "nbformat": 4,
 "nbformat_minor": 5
}
