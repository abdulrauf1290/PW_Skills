{
 "cells": [
  {
   "cell_type": "raw",
   "id": "f35451ad",
   "metadata": {},
   "source": [
    "Q1. What is a database? Differentiate between SQL and NoSQL databases."
   ]
  },
  {
   "cell_type": "raw",
   "id": "4c927253",
   "metadata": {},
   "source": [
    "---> A database is a structured collection of data that is organized and stored in a way that allows for efficient retrieval, management, and manipulation of data.\n",
    "SQL Databases:\n",
    "\n",
    "SQL databases are based on the relational data model.\n",
    "\n",
    "They use a tabular structure consisting of rows and columns, where data is organized into tables.\n",
    "\n",
    "They enforce a predefined schema, meaning that the structure of the data is determined in advance.\n",
    "\n",
    "SQL databases support ACID (Atomicity, Consistency, Isolation, Durability) properties, which ensure data integrity and transactional consistency.\n",
    "\n",
    "SQL databases use structured query language (SQL) for defining and manipulating the data.\n",
    "\n",
    "Examples of popular SQL databases include MySQL, PostgreSQL, Oracle Database, and Microsoft SQL Server.\n",
    "\n",
    "NoSQL Databases:\n",
    "\n",
    "NoSQL databases use various data models other than the traditional relational model.\n",
    "\n",
    "They are designed to handle large amounts of unstructured or semi-structured data, such as JSON, XML, or key-value pairs.\n",
    "\n",
    "NoSQL databases provide flexible schemas, allowing for dynamic and scalable data structures.\n",
    "\n",
    "They are highly scalable and capable of handling high-velocity and high-volume data.\n",
    "\n",
    "NoSQL databases typically sacrifice some ACID properties in favor of performance and scalability.\n",
    "\n",
    "NoSQL databases use different query languages or APIs based on their data model. Examples include MongoDB (document-oriented), Cassandra (wide column), and Redis (key-value)."
   ]
  },
  {
   "cell_type": "raw",
   "id": "9752e3e9",
   "metadata": {},
   "source": [
    "Q2. What is DDL? Explain why CREATE, DROP, ALTER, and TRUNCATE are used with an example."
   ]
  },
  {
   "cell_type": "raw",
   "id": "c7e6c4ac",
   "metadata": {},
   "source": [
    "DDL stands for Data Definition Language. It is a subset of SQL (Structured Query Language) used to define and manage the structure of a database.\n",
    "CREATE: This statement is used to create a new database object. For example, to create a table named \"Customers\" with columns for \"ID,\" \"Name,\" and \"Email,\" you can use the following SQL statement:"
   ]
  },
  {
   "cell_type": "markdown",
   "id": "61e092e6",
   "metadata": {},
   "source": [
    "CREATE TABLE Customers (\n",
    "    ID INT PRIMARY KEY,\n",
    "    Name VARCHAR(50),\n",
    "    Email VARCHAR(100)\n",
    ");"
   ]
  },
  {
   "cell_type": "raw",
   "id": "5464ba0a",
   "metadata": {},
   "source": [
    "DROP: The DROP statement is used to delete an existing database object"
   ]
  },
  {
   "cell_type": "markdown",
   "id": "00bef18e",
   "metadata": {},
   "source": [
    "DROP TABLE Customers;"
   ]
  },
  {
   "cell_type": "raw",
   "id": "816e9b45",
   "metadata": {},
   "source": [
    "ALTER: ALTER statement is used to modify the structure of an existing database object"
   ]
  },
  {
   "cell_type": "markdown",
   "id": "082f497f",
   "metadata": {},
   "source": [
    "ALTER TABLE Customers\n",
    "ADD Phone VARCHAR(20);"
   ]
  },
  {
   "cell_type": "raw",
   "id": "d5fd2d21",
   "metadata": {},
   "source": [
    "TRUNCATE: TRUNCATE is used to delete all the data in a table, but it keeps the table structure intact."
   ]
  },
  {
   "cell_type": "markdown",
   "id": "93005789",
   "metadata": {},
   "source": [
    "TRUNCATE TABLE Customers;"
   ]
  },
  {
   "cell_type": "raw",
   "id": "482c6646",
   "metadata": {},
   "source": [
    "Q3. What is DML? Explain INSERT, UPDATE, and DELETE with an example."
   ]
  },
  {
   "cell_type": "raw",
   "id": "e07158f9",
   "metadata": {},
   "source": [
    "DML stands for Data Manipulation Language. It is a subset of SQL (Structured Query Language) used to manipulate and interact with the data stored in a database."
   ]
  },
  {
   "cell_type": "raw",
   "id": "28beaa86",
   "metadata": {},
   "source": [
    "INSERT: The INSERT statement is used to insert new records into a table. You specify the table name and provide the values for the columns you want to populate."
   ]
  },
  {
   "cell_type": "markdown",
   "id": "35449797",
   "metadata": {},
   "source": [
    "INSERT INTO Employees (ID, Name, Salary)\n",
    "VALUES (1, 'John Doe', 50000);"
   ]
  },
  {
   "cell_type": "raw",
   "id": "9b51e48c",
   "metadata": {},
   "source": [
    "UPDATE: The UPDATE statement is used to modify existing records in a table"
   ]
  },
  {
   "cell_type": "markdown",
   "id": "d55fafff",
   "metadata": {},
   "source": [
    "UPDATE Employees\n",
    "SET Salary = 55000\n",
    "WHERE ID = 1;\n"
   ]
  },
  {
   "cell_type": "raw",
   "id": "d33c8b87",
   "metadata": {},
   "source": [
    "DELETE: The DELETE statement is used to remove records from a table."
   ]
  },
  {
   "cell_type": "markdown",
   "id": "88108c6a",
   "metadata": {},
   "source": [
    "DELETE FROM Employees\n",
    "WHERE Salary < 50000;"
   ]
  },
  {
   "cell_type": "raw",
   "id": "8807032a",
   "metadata": {},
   "source": [
    "Q4. What is DQL? Explain SELECT with an example.\n",
    "DQL stands for Data Query Language. It is a subset of SQL (Structured Query Language) used to retrieve and query data from a database.\n"
   ]
  },
  {
   "cell_type": "markdown",
   "id": "b38335c0",
   "metadata": {},
   "source": [
    "SELECT ID, Name\n",
    "FROM Customers;"
   ]
  },
  {
   "cell_type": "raw",
   "id": "dfc8f49d",
   "metadata": {},
   "source": [
    "This statement retrieves the ID and Name columns from the \"Customers\" table and displays them as the result. You can also apply conditions using the WHERE clause to filter the data"
   ]
  },
  {
   "cell_type": "raw",
   "id": "7bc75adf",
   "metadata": {},
   "source": [
    "Q5. Explain Primary Key and Foreign Key."
   ]
  },
  {
   "cell_type": "raw",
   "id": "8cfa4fdd",
   "metadata": {},
   "source": [
    "Primary Key:\n",
    "A primary key is a column or a set of columns in a database table that uniquely identifies each row or record in that table\n",
    "\n",
    "Uniqueness: Each value in the primary key column(s) must be unique within the table.\n",
    "\n",
    "Non-nullability: The primary key column(s) cannot contain null values.\n",
    "\n",
    "Stability: The value of the primary key should not change for a given row once it is assigned."
   ]
  },
  {
   "cell_type": "raw",
   "id": "fcd40624",
   "metadata": {},
   "source": [
    "Foreign Key:\n",
    "A foreign key is a column or a set of columns in a database table that refers to the primary key of another table."
   ]
  },
  {
   "cell_type": "raw",
   "id": "6aa7ccc2",
   "metadata": {},
   "source": [
    "Referential Integrity: The foreign key establishes a relationship between tables, ensuring that data integrity is maintained across related tables.\n",
    "\n",
    "Referenced Table: The foreign key references the primary key of another table, called the referenced table.\n",
    "\n",
    "Relationship: The foreign key represents a relationship between the referencing table (where the foreign key is defined) and the referenced table."
   ]
  },
  {
   "cell_type": "raw",
   "id": "be1ecc03",
   "metadata": {},
   "source": [
    "Q6. Write a python code to connect MySQL to python. Explain the cursor() and execute() method."
   ]
  },
  {
   "cell_type": "markdown",
   "id": "da894fff",
   "metadata": {},
   "source": [
    "import mysql.connector\n",
    "\n",
    "mydb = mysql.connector.connect(\n",
    "  host=\"localhost\",\n",
    "  user=\"abc\",\n",
    "  password=\"password\"\n",
    ")\n",
    "print(mydb)\n",
    "mycursor = mydb.cursor(\"select * from test.test_table\")\n",
    "for i in mycursor.fetchall() :\n",
    "    print(i)\n",
    "mydb.close()"
   ]
  },
  {
   "cell_type": "raw",
   "id": "bfcd9d30",
   "metadata": {},
   "source": [
    "Q7. Give the order of execution of SQL clauses in an SQL query."
   ]
  },
  {
   "cell_type": "raw",
   "id": "873a37bd",
   "metadata": {},
   "source": [
    "The general order of execution for SQL clauses in a query is as follows:\n",
    "\n",
    "FROM: Specifies the table or tables from which to retrieve data.\n",
    "\n",
    "JOIN: Performs any necessary joins between tables, combining data from multiple tables based on specified conditions.\n",
    "\n",
    "WHERE: Filters the data based on specified conditions, restricting the result set.\n",
    "\n",
    "GROUP BY: Groups the data based on specified columns.\n",
    "\n",
    "HAVING: Filters the grouped data based on specified conditions.\n",
    "\n",
    "SELECT: Specifies the columns to be retrieved from the result set.\n",
    "\n",
    "DISTINCT: Removes duplicate rows from the result set.\n",
    "\n",
    "ORDER BY: Sorts the result set based on specified columns.\n",
    "\n",
    "LIMIT/OFFSET: Limits the number of rows returned by the query or specifies a starting point for retrieving rows."
   ]
  },
  {
   "cell_type": "code",
   "execution_count": null,
   "id": "8d11b671",
   "metadata": {},
   "outputs": [],
   "source": []
  },
  {
   "cell_type": "code",
   "execution_count": null,
   "id": "30fe6a4b",
   "metadata": {},
   "outputs": [],
   "source": []
  }
 ],
 "metadata": {
  "kernelspec": {
   "display_name": "Python 3 (ipykernel)",
   "language": "python",
   "name": "python3"
  },
  "language_info": {
   "codemirror_mode": {
    "name": "ipython",
    "version": 3
   },
   "file_extension": ".py",
   "mimetype": "text/x-python",
   "name": "python",
   "nbconvert_exporter": "python",
   "pygments_lexer": "ipython3",
   "version": "3.9.13"
  }
 },
 "nbformat": 4,
 "nbformat_minor": 5
}
